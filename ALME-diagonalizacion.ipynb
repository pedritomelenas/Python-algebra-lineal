{
 "cells": [
  {
   "cell_type": "markdown",
   "id": "d0ba4e0d",
   "metadata": {},
   "source": [
    "# Diagonalización\n",
    "\n",
    "\n",
    "En este documento ilustraremos cómo usar `Python` para resolver los problemas tipo propuestos por L. Merino y E. Santos en  [página de resolución de ejercicios tipo](https://www.ugr.es/~lmerino/ALME.html) correspondientes al bloque \"Diagonalización\"."
   ]
  },
  {
   "cell_type": "markdown",
   "id": "a73cf333",
   "metadata": {},
   "source": [
    "## Ejemplo\n",
    "\n",
    "*Dada la matriz*\n",
    "\n",
    "$$\n",
    "A=\\left(\n",
    "\\begin{array}{ccc}\n",
    "5 & 1 & -3 \\\\\n",
    "1 & 5 & -3 \\\\\n",
    "2 & 2 & -2 \n",
    "\\end{array}\\right).\n",
    "$$\n",
    "\n",
    "*Determinar si es o no diagonalizable y, en caso de que lo sea, determinar su forma diagonal y una matriz de paso.*"
   ]
  },
  {
   "cell_type": "code",
   "execution_count": 1,
   "id": "1680d71d",
   "metadata": {},
   "outputs": [],
   "source": [
    "from sympy import Matrix, eye"
   ]
  },
  {
   "cell_type": "code",
   "execution_count": 2,
   "id": "c08e7a44",
   "metadata": {},
   "outputs": [
    {
     "data": {
      "text/latex": [
       "$\\displaystyle \\left[\\begin{matrix}5 & 1 & -3\\\\1 & 5 & -3\\\\2 & 2 & -2\\end{matrix}\\right]$"
      ],
      "text/plain": [
       "Matrix([\n",
       "[5, 1, -3],\n",
       "[1, 5, -3],\n",
       "[2, 2, -2]])"
      ]
     },
     "execution_count": 2,
     "metadata": {},
     "output_type": "execute_result"
    }
   ],
   "source": [
    "A=Matrix([(5,1,-3),(1,5,-3),(2,2,-2)])\n",
    "A"
   ]
  },
  {
   "cell_type": "markdown",
   "id": "5f52adaf",
   "metadata": {},
   "source": [
    "Podemos calcular los valores propios con `eigenvals`."
   ]
  },
  {
   "cell_type": "code",
   "execution_count": 3,
   "id": "79084ce9",
   "metadata": {},
   "outputs": [
    {
     "data": {
      "text/plain": [
       "{4: 2, 0: 1}"
      ]
     },
     "execution_count": 3,
     "metadata": {},
     "output_type": "execute_result"
    }
   ],
   "source": [
    "A.eigenvals()"
   ]
  },
  {
   "cell_type": "markdown",
   "id": "9ce979ea",
   "metadata": {},
   "source": [
    "O ver toda la información (incluyendo multiplicidades y vectores propios) con `eigenvects`."
   ]
  },
  {
   "cell_type": "code",
   "execution_count": 4,
   "id": "dd22fb16",
   "metadata": {
    "scrolled": false
   },
   "outputs": [
    {
     "data": {
      "text/plain": [
       "[(0,\n",
       "  1,\n",
       "  [Matrix([\n",
       "   [1/2],\n",
       "   [1/2],\n",
       "   [  1]])]),\n",
       " (4,\n",
       "  2,\n",
       "  [Matrix([\n",
       "   [-1],\n",
       "   [ 1],\n",
       "   [ 0]]),\n",
       "   Matrix([\n",
       "   [3],\n",
       "   [0],\n",
       "   [1]])])]"
      ]
     },
     "execution_count": 4,
     "metadata": {},
     "output_type": "execute_result"
    }
   ],
   "source": [
    "A.eigenvects()"
   ]
  },
  {
   "cell_type": "markdown",
   "id": "a67881c6",
   "metadata": {},
   "source": [
    "De la salida que obtenemos, observamos que tenemos dos valores propios: 0 con multiplicidad algebraica y geométrica 1, y 4 con multiplicidad algebraica y geométrica 2. También podemos construir la matriz de paso con los datos que hemos obtenido, pero es más fácil usar `diagonalize`."
   ]
  },
  {
   "cell_type": "code",
   "execution_count": 5,
   "id": "600b4e8c",
   "metadata": {},
   "outputs": [
    {
     "data": {
      "text/plain": [
       "(Matrix([\n",
       " [1, -1, 3],\n",
       " [1,  1, 0],\n",
       " [2,  0, 1]]),\n",
       " Matrix([\n",
       " [0, 0, 0],\n",
       " [0, 4, 0],\n",
       " [0, 0, 4]]))"
      ]
     },
     "execution_count": 5,
     "metadata": {},
     "output_type": "execute_result"
    }
   ],
   "source": [
    "A.diagonalize()"
   ]
  },
  {
   "cell_type": "code",
   "execution_count": 6,
   "id": "f89cc014",
   "metadata": {},
   "outputs": [],
   "source": [
    "P, D = A.diagonalize()"
   ]
  },
  {
   "cell_type": "code",
   "execution_count": 7,
   "id": "9ffb12f9",
   "metadata": {},
   "outputs": [
    {
     "data": {
      "text/latex": [
       "$\\displaystyle \\left[\\begin{matrix}1 & -1 & 3\\\\1 & 1 & 0\\\\2 & 0 & 1\\end{matrix}\\right]$"
      ],
      "text/plain": [
       "Matrix([\n",
       "[1, -1, 3],\n",
       "[1,  1, 0],\n",
       "[2,  0, 1]])"
      ]
     },
     "execution_count": 7,
     "metadata": {},
     "output_type": "execute_result"
    }
   ],
   "source": [
    "P"
   ]
  },
  {
   "cell_type": "code",
   "execution_count": 8,
   "id": "f39d2bf8",
   "metadata": {},
   "outputs": [
    {
     "data": {
      "text/latex": [
       "$\\displaystyle \\left[\\begin{matrix}0 & 0 & 0\\\\0 & 4 & 0\\\\0 & 0 & 4\\end{matrix}\\right]$"
      ],
      "text/plain": [
       "Matrix([\n",
       "[0, 0, 0],\n",
       "[0, 4, 0],\n",
       "[0, 0, 4]])"
      ]
     },
     "execution_count": 8,
     "metadata": {},
     "output_type": "execute_result"
    }
   ],
   "source": [
    "D"
   ]
  },
  {
   "cell_type": "markdown",
   "id": "7965dddc",
   "metadata": {},
   "source": [
    "Comprobemos que efectivamente $P^{-1}AP$ es diagonal."
   ]
  },
  {
   "cell_type": "code",
   "execution_count": 9,
   "id": "ee69acc1",
   "metadata": {},
   "outputs": [
    {
     "data": {
      "text/plain": [
       "True"
      ]
     },
     "execution_count": 9,
     "metadata": {},
     "output_type": "execute_result"
    }
   ],
   "source": [
    "P.inv()*A*P==D"
   ]
  },
  {
   "cell_type": "markdown",
   "id": "66e9e00b",
   "metadata": {},
   "source": [
    "Hagamos este proceso paso a paso usando calculando el polinomio característico y los subespacios propios."
   ]
  },
  {
   "cell_type": "markdown",
   "id": "a2006650",
   "metadata": {},
   "source": [
    "Empezamos calculando el polinomio característico de `A` y sus raíces (valores propios)."
   ]
  },
  {
   "cell_type": "code",
   "execution_count": 10,
   "id": "fdff174e",
   "metadata": {},
   "outputs": [],
   "source": [
    "from sympy.abc import x"
   ]
  },
  {
   "cell_type": "code",
   "execution_count": 11,
   "id": "038ea195",
   "metadata": {},
   "outputs": [
    {
     "data": {
      "text/latex": [
       "$\\displaystyle \\operatorname{PurePoly}{\\left( \\lambda^{3} - 8 \\lambda^{2} + 16 \\lambda, \\lambda, domain=\\mathbb{Z} \\right)}$"
      ],
      "text/plain": [
       "PurePoly(lambda**3 - 8*lambda**2 + 16*lambda, lambda, domain='ZZ')"
      ]
     },
     "execution_count": 11,
     "metadata": {},
     "output_type": "execute_result"
    }
   ],
   "source": [
    "A.charpoly()"
   ]
  },
  {
   "cell_type": "code",
   "execution_count": 12,
   "id": "ea177ce5",
   "metadata": {},
   "outputs": [
    {
     "data": {
      "text/latex": [
       "$\\displaystyle \\operatorname{PurePoly}{\\left( x^{3} - 8 x^{2} + 16 x, x, domain=\\mathbb{Z} \\right)}$"
      ],
      "text/plain": [
       "PurePoly(x**3 - 8*x**2 + 16*x, x, domain='ZZ')"
      ]
     },
     "execution_count": 12,
     "metadata": {},
     "output_type": "execute_result"
    }
   ],
   "source": [
    "p=A.charpoly(x)\n",
    "p"
   ]
  },
  {
   "cell_type": "code",
   "execution_count": 13,
   "id": "c393ca35",
   "metadata": {},
   "outputs": [
    {
     "data": {
      "text/plain": [
       "[0, 4, 4]"
      ]
     },
     "execution_count": 13,
     "metadata": {},
     "output_type": "execute_result"
    }
   ],
   "source": [
    "p.all_roots()"
   ]
  },
  {
   "cell_type": "markdown",
   "id": "1d4c4c5c",
   "metadata": {},
   "source": [
    "Por lo que 0 tiene multiplicidad 1, y 4 multiplicidad 2.\n",
    "\n",
    "Calculemos ahora los subespacios propios asociados a cada uno de esos valores propios."
   ]
  },
  {
   "cell_type": "code",
   "execution_count": 14,
   "id": "69030137",
   "metadata": {},
   "outputs": [
    {
     "data": {
      "text/plain": [
       "[Matrix([\n",
       " [1/2],\n",
       " [1/2],\n",
       " [  1]])]"
      ]
     },
     "execution_count": 14,
     "metadata": {},
     "output_type": "execute_result"
    }
   ],
   "source": [
    "V0=A.nullspace()\n",
    "V0"
   ]
  },
  {
   "cell_type": "code",
   "execution_count": 15,
   "id": "5c5cf9b1",
   "metadata": {},
   "outputs": [
    {
     "data": {
      "text/plain": [
       "[Matrix([\n",
       " [-1],\n",
       " [ 1],\n",
       " [ 0]]),\n",
       " Matrix([\n",
       " [3],\n",
       " [0],\n",
       " [1]])]"
      ]
     },
     "execution_count": 15,
     "metadata": {},
     "output_type": "execute_result"
    }
   ],
   "source": [
    "V4=(A-4*eye(3)).nullspace()\n",
    "V4"
   ]
  },
  {
   "cell_type": "markdown",
   "id": "5cc01283",
   "metadata": {},
   "source": [
    "Podemos usar `hstack` para combinar los vectores que hemos encontrado."
   ]
  },
  {
   "cell_type": "code",
   "execution_count": 16,
   "id": "8212f58a",
   "metadata": {
    "scrolled": true
   },
   "outputs": [
    {
     "data": {
      "text/latex": [
       "$\\displaystyle \\left[\\begin{matrix}\\frac{1}{2} & -1 & 3\\\\\\frac{1}{2} & 1 & 0\\\\1 & 0 & 1\\end{matrix}\\right]$"
      ],
      "text/plain": [
       "Matrix([\n",
       "[1/2, -1, 3],\n",
       "[1/2,  1, 0],\n",
       "[  1,  0, 1]])"
      ]
     },
     "execution_count": 16,
     "metadata": {},
     "output_type": "execute_result"
    }
   ],
   "source": [
    "P=Matrix.hstack(V0[0],V4[0],V4[1])\n",
    "P"
   ]
  },
  {
   "cell_type": "markdown",
   "id": "89a41139",
   "metadata": {},
   "source": [
    "O de una forma más compacta."
   ]
  },
  {
   "cell_type": "code",
   "execution_count": 17,
   "id": "f989ea2b",
   "metadata": {
    "scrolled": false
   },
   "outputs": [
    {
     "data": {
      "text/latex": [
       "$\\displaystyle \\left[\\begin{matrix}\\frac{1}{2} & -1 & 3\\\\\\frac{1}{2} & 1 & 0\\\\1 & 0 & 1\\end{matrix}\\right]$"
      ],
      "text/plain": [
       "Matrix([\n",
       "[1/2, -1, 3],\n",
       "[1/2,  1, 0],\n",
       "[  1,  0, 1]])"
      ]
     },
     "execution_count": 17,
     "metadata": {},
     "output_type": "execute_result"
    }
   ],
   "source": [
    "Matrix.hstack(*(V0+V4))"
   ]
  },
  {
   "cell_type": "code",
   "execution_count": 18,
   "id": "9b1a1859",
   "metadata": {},
   "outputs": [
    {
     "data": {
      "text/latex": [
       "$\\displaystyle \\left[\\begin{matrix}0 & 0 & 0\\\\0 & 4 & 0\\\\0 & 0 & 4\\end{matrix}\\right]$"
      ],
      "text/plain": [
       "Matrix([\n",
       "[0, 0, 0],\n",
       "[0, 4, 0],\n",
       "[0, 0, 4]])"
      ]
     },
     "execution_count": 18,
     "metadata": {},
     "output_type": "execute_result"
    }
   ],
   "source": [
    "P.inv()*A*P"
   ]
  },
  {
   "cell_type": "markdown",
   "id": "671eec32",
   "metadata": {},
   "source": [
    "### Ejercicio\n",
    "\n",
    "*Estudiar si la siguiente matriz es o no diagonalizable y, en tal caso, determinar su forma diagonal y una matriz de paso.*\n",
    "$$\n",
    "A=\\left(\n",
    "\\begin{array}{ccc}\n",
    "2 & 1 & -2 \\\\\n",
    "0 & 2 & -1 \\\\\n",
    "0 & 0 & 1 \n",
    "\\end{array}\\right)\n",
    "$$"
   ]
  },
  {
   "cell_type": "code",
   "execution_count": 19,
   "id": "ef9ee92f",
   "metadata": {},
   "outputs": [
    {
     "data": {
      "text/latex": [
       "$\\displaystyle \\left[\\begin{matrix}2 & 1 & -2\\\\0 & 2 & -1\\\\0 & 0 & 1\\end{matrix}\\right]$"
      ],
      "text/plain": [
       "Matrix([\n",
       "[2, 1, -2],\n",
       "[0, 2, -1],\n",
       "[0, 0,  1]])"
      ]
     },
     "execution_count": 19,
     "metadata": {},
     "output_type": "execute_result"
    }
   ],
   "source": [
    "A=Matrix([(2,1,-2),(0,2,-1),(0,0,1)])\n",
    "A"
   ]
  },
  {
   "cell_type": "markdown",
   "id": "876d0a00",
   "metadata": {},
   "source": [
    "Al ser triangular, ya sabemos cuáles van a ser los valores propios (2 y 1)."
   ]
  },
  {
   "cell_type": "code",
   "execution_count": 20,
   "id": "5b064eeb",
   "metadata": {},
   "outputs": [
    {
     "data": {
      "text/plain": [
       "[1, 2, 2]"
      ]
     },
     "execution_count": 20,
     "metadata": {},
     "output_type": "execute_result"
    }
   ],
   "source": [
    "p=A.charpoly(x)\n",
    "p.all_roots()"
   ]
  },
  {
   "cell_type": "markdown",
   "id": "ac451ccb",
   "metadata": {},
   "source": [
    "El valor propio 2 tiene multiplicidad algebraica 2, pero sin embargo, su subespacio propio asociado tiene dimensión uno, por lo que $A$ no es diagonalizable."
   ]
  },
  {
   "cell_type": "code",
   "execution_count": 21,
   "id": "1926cd36",
   "metadata": {
    "scrolled": true
   },
   "outputs": [
    {
     "data": {
      "text/plain": [
       "[Matrix([\n",
       " [1],\n",
       " [0],\n",
       " [0]])]"
      ]
     },
     "execution_count": 21,
     "metadata": {},
     "output_type": "execute_result"
    }
   ],
   "source": [
    "V2=(A-2*eye(3)).nullspace()\n",
    "V2"
   ]
  },
  {
   "cell_type": "code",
   "execution_count": 22,
   "id": "d5e67baa",
   "metadata": {},
   "outputs": [
    {
     "name": "stdout",
     "output_type": "stream",
     "text": [
      "No es diagonalizable\n"
     ]
    }
   ],
   "source": [
    "try:\n",
    "    A.diagonalize()\n",
    "except:\n",
    "    print(\"No es diagonalizable\")"
   ]
  },
  {
   "cell_type": "markdown",
   "id": "7176acc6",
   "metadata": {},
   "source": [
    "### Ejercicio\n",
    "\n",
    "Razonar que la siguiente matriz $A$ es diagonalizable y determinar su forma diagonal y una matriz de paso. Determinar $A^k$ en función de $k$.\n",
    "$$\n",
    "A=\\left(\n",
    "\\begin{array}{cccc}\n",
    "1 & 0 & 0 & 1 \\\\\n",
    "0 & 1 & 0 & 0 \\\\\n",
    "0 & 0 & 1 & -2 \\\\\n",
    "1 & 0 & -2 & 5 \n",
    "\\end{array}\\right)\n",
    "$$"
   ]
  },
  {
   "cell_type": "code",
   "execution_count": 23,
   "id": "d135d810",
   "metadata": {},
   "outputs": [
    {
     "data": {
      "text/latex": [
       "$\\displaystyle \\left[\\begin{matrix}1 & 0 & 0 & 1\\\\0 & 1 & 0 & 0\\\\0 & 0 & 1 & -2\\\\1 & 0 & -2 & 5\\end{matrix}\\right]$"
      ],
      "text/plain": [
       "Matrix([\n",
       "[1, 0,  0,  1],\n",
       "[0, 1,  0,  0],\n",
       "[0, 0,  1, -2],\n",
       "[1, 0, -2,  5]])"
      ]
     },
     "execution_count": 23,
     "metadata": {},
     "output_type": "execute_result"
    }
   ],
   "source": [
    "A=Matrix([(1,0,0,1),(0,1,0,0),(0,0,1,-2),(1,0,-2,5)])\n",
    "A"
   ]
  },
  {
   "cell_type": "code",
   "execution_count": 24,
   "id": "aeebfe7f",
   "metadata": {},
   "outputs": [
    {
     "data": {
      "text/plain": [
       "[(0,\n",
       "  1,\n",
       "  [Matrix([\n",
       "   [-1],\n",
       "   [ 0],\n",
       "   [ 2],\n",
       "   [ 1]])]),\n",
       " (1,\n",
       "  2,\n",
       "  [Matrix([\n",
       "   [0],\n",
       "   [1],\n",
       "   [0],\n",
       "   [0]]),\n",
       "   Matrix([\n",
       "   [2],\n",
       "   [0],\n",
       "   [1],\n",
       "   [0]])]),\n",
       " (6,\n",
       "  1,\n",
       "  [Matrix([\n",
       "   [ 1/5],\n",
       "   [   0],\n",
       "   [-2/5],\n",
       "   [   1]])])]"
      ]
     },
     "execution_count": 24,
     "metadata": {},
     "output_type": "execute_result"
    }
   ],
   "source": [
    "A.eigenvects()"
   ]
  },
  {
   "cell_type": "markdown",
   "id": "f2c398a2",
   "metadata": {},
   "source": [
    "Vemos que las multiplicidades algebraicas y geométricas coinciden. Por tanto, `A` es diagonalizable."
   ]
  },
  {
   "cell_type": "code",
   "execution_count": 25,
   "id": "3d847b4f",
   "metadata": {},
   "outputs": [
    {
     "data": {
      "text/latex": [
       "$\\displaystyle \\left[\\begin{matrix}-1 & 0 & 2 & 1\\\\0 & 1 & 0 & 0\\\\2 & 0 & 1 & -2\\\\1 & 0 & 0 & 5\\end{matrix}\\right]$"
      ],
      "text/plain": [
       "Matrix([\n",
       "[-1, 0, 2,  1],\n",
       "[ 0, 1, 0,  0],\n",
       "[ 2, 0, 1, -2],\n",
       "[ 1, 0, 0,  5]])"
      ]
     },
     "execution_count": 25,
     "metadata": {},
     "output_type": "execute_result"
    }
   ],
   "source": [
    "P,D = A.diagonalize()\n",
    "P"
   ]
  },
  {
   "cell_type": "code",
   "execution_count": 26,
   "id": "4fd040ef",
   "metadata": {},
   "outputs": [
    {
     "data": {
      "text/latex": [
       "$\\displaystyle \\left[\\begin{matrix}0 & 0 & 0 & 0\\\\0 & 1 & 0 & 0\\\\0 & 0 & 1 & 0\\\\0 & 0 & 0 & 6\\end{matrix}\\right]$"
      ],
      "text/plain": [
       "Matrix([\n",
       "[0, 0, 0, 0],\n",
       "[0, 1, 0, 0],\n",
       "[0, 0, 1, 0],\n",
       "[0, 0, 0, 6]])"
      ]
     },
     "execution_count": 26,
     "metadata": {},
     "output_type": "execute_result"
    }
   ],
   "source": [
    "P.inv()*A*P"
   ]
  },
  {
   "cell_type": "markdown",
   "id": "a0a92e51",
   "metadata": {},
   "source": [
    "Calculemos `P` de nuevo \"a mano\"."
   ]
  },
  {
   "cell_type": "code",
   "execution_count": 27,
   "id": "db88c6af",
   "metadata": {},
   "outputs": [
    {
     "data": {
      "text/plain": [
       "[0, 1, 1, 6]"
      ]
     },
     "execution_count": 27,
     "metadata": {},
     "output_type": "execute_result"
    }
   ],
   "source": [
    "A.charpoly().all_roots()"
   ]
  },
  {
   "cell_type": "code",
   "execution_count": 28,
   "id": "e75ad531",
   "metadata": {},
   "outputs": [
    {
     "data": {
      "text/plain": [
       "[Matrix([\n",
       " [-1],\n",
       " [ 0],\n",
       " [ 2],\n",
       " [ 1]])]"
      ]
     },
     "execution_count": 28,
     "metadata": {},
     "output_type": "execute_result"
    }
   ],
   "source": [
    "V0=A.nullspace()\n",
    "V0"
   ]
  },
  {
   "cell_type": "code",
   "execution_count": 29,
   "id": "9bd99a51",
   "metadata": {},
   "outputs": [
    {
     "data": {
      "text/plain": [
       "[Matrix([\n",
       " [0],\n",
       " [1],\n",
       " [0],\n",
       " [0]]),\n",
       " Matrix([\n",
       " [2],\n",
       " [0],\n",
       " [1],\n",
       " [0]])]"
      ]
     },
     "execution_count": 29,
     "metadata": {},
     "output_type": "execute_result"
    }
   ],
   "source": [
    "V1=(A-eye(4)).nullspace()\n",
    "V1"
   ]
  },
  {
   "cell_type": "code",
   "execution_count": 30,
   "id": "205570cc",
   "metadata": {},
   "outputs": [
    {
     "data": {
      "text/plain": [
       "[Matrix([\n",
       " [ 1/5],\n",
       " [   0],\n",
       " [-2/5],\n",
       " [   1]])]"
      ]
     },
     "execution_count": 30,
     "metadata": {},
     "output_type": "execute_result"
    }
   ],
   "source": [
    "V6=(A-6*eye(4)).nullspace()\n",
    "V6"
   ]
  },
  {
   "cell_type": "code",
   "execution_count": 31,
   "id": "6016931f",
   "metadata": {},
   "outputs": [
    {
     "data": {
      "text/latex": [
       "$\\displaystyle \\left[\\begin{matrix}-1 & 0 & 2 & \\frac{1}{5}\\\\0 & 1 & 0 & 0\\\\2 & 0 & 1 & - \\frac{2}{5}\\\\1 & 0 & 0 & 1\\end{matrix}\\right]$"
      ],
      "text/plain": [
       "Matrix([\n",
       "[-1, 0, 2,  1/5],\n",
       "[ 0, 1, 0,    0],\n",
       "[ 2, 0, 1, -2/5],\n",
       "[ 1, 0, 0,    1]])"
      ]
     },
     "execution_count": 31,
     "metadata": {},
     "output_type": "execute_result"
    }
   ],
   "source": [
    "P=Matrix.hstack(*(V0+V1+V6))\n",
    "P"
   ]
  },
  {
   "cell_type": "code",
   "execution_count": 32,
   "id": "ce4f29ef",
   "metadata": {},
   "outputs": [
    {
     "data": {
      "text/latex": [
       "$\\displaystyle \\left[\\begin{matrix}0 & 0 & 0 & 0\\\\0 & 1 & 0 & 0\\\\0 & 0 & 1 & 0\\\\0 & 0 & 0 & 6\\end{matrix}\\right]$"
      ],
      "text/plain": [
       "Matrix([\n",
       "[0, 0, 0, 0],\n",
       "[0, 1, 0, 0],\n",
       "[0, 0, 1, 0],\n",
       "[0, 0, 0, 6]])"
      ]
     },
     "execution_count": 32,
     "metadata": {},
     "output_type": "execute_result"
    }
   ],
   "source": [
    "P.inv()*A*P"
   ]
  },
  {
   "cell_type": "markdown",
   "id": "29da93a8",
   "metadata": {},
   "source": [
    "Calculemos ahora las potencias de $A$. Para todo $k$ entero positivo, $A^k=(P^{-1}DP)^k=P^{-1}D^kP$."
   ]
  },
  {
   "cell_type": "code",
   "execution_count": 33,
   "id": "c700255f",
   "metadata": {},
   "outputs": [],
   "source": [
    "from sympy import var, powsimp"
   ]
  },
  {
   "cell_type": "code",
   "execution_count": 34,
   "id": "1e522eea",
   "metadata": {},
   "outputs": [],
   "source": [
    "k=var(\"k\", integer=True, nonzero=True)"
   ]
  },
  {
   "cell_type": "code",
   "execution_count": 35,
   "id": "a1b87aab",
   "metadata": {},
   "outputs": [
    {
     "data": {
      "text/latex": [
       "$\\displaystyle \\left[\\begin{matrix}0 & 0 & 0 & 0\\\\0 & 1 & 0 & 0\\\\0 & 0 & 1 & 0\\\\0 & 0 & 0 & 6\\end{matrix}\\right]$"
      ],
      "text/plain": [
       "Matrix([\n",
       "[0, 0, 0, 0],\n",
       "[0, 1, 0, 0],\n",
       "[0, 0, 1, 0],\n",
       "[0, 0, 0, 6]])"
      ]
     },
     "execution_count": 35,
     "metadata": {},
     "output_type": "execute_result"
    }
   ],
   "source": [
    "D=Matrix.diag([0,1,1,6])\n",
    "D"
   ]
  },
  {
   "cell_type": "code",
   "execution_count": 36,
   "id": "75219edb",
   "metadata": {},
   "outputs": [
    {
     "data": {
      "text/latex": [
       "$\\displaystyle \\left[\\begin{matrix}0^{k} & 0 & 0 & 0\\\\0 & 1 & 0 & 0\\\\0 & 0 & 1 & 0\\\\0 & 0 & 0 & 6^{k}\\end{matrix}\\right]$"
      ],
      "text/plain": [
       "Matrix([\n",
       "[0**k, 0, 0,    0],\n",
       "[   0, 1, 0,    0],\n",
       "[   0, 0, 1,    0],\n",
       "[   0, 0, 0, 6**k]])"
      ]
     },
     "execution_count": 36,
     "metadata": {},
     "output_type": "execute_result"
    }
   ],
   "source": [
    "D**k"
   ]
  },
  {
   "cell_type": "code",
   "execution_count": 37,
   "id": "8f901a9f",
   "metadata": {},
   "outputs": [
    {
     "data": {
      "text/latex": [
       "$\\displaystyle \\left[\\begin{matrix}\\frac{6^{k}}{6} + \\frac{2}{3} & 0 & \\frac{1}{3} & \\frac{6^{k}}{6} - \\frac{2}{15}\\\\0 & 1 & 0 & 0\\\\\\frac{2}{5} & 0 & \\frac{1}{5} & - \\frac{2}{25}\\\\\\frac{5 \\cdot 6^{k}}{6} - \\frac{2}{3} & 0 & - \\frac{1}{3} & \\frac{5 \\cdot 6^{k}}{6} + \\frac{2}{15}\\end{matrix}\\right]$"
      ],
      "text/plain": [
       "Matrix([\n",
       "[  6**k/6 + 2/3, 0,  1/3,   6**k/6 - 2/15],\n",
       "[             0, 1,    0,               0],\n",
       "[           2/5, 0,  1/5,           -2/25],\n",
       "[5*6**k/6 - 2/3, 0, -1/3, 5*6**k/6 + 2/15]])"
      ]
     },
     "execution_count": 37,
     "metadata": {},
     "output_type": "execute_result"
    }
   ],
   "source": [
    "Ak=P.inv()*Matrix.diag([0,1,1,6**k])*P\n",
    "Ak"
   ]
  },
  {
   "cell_type": "code",
   "execution_count": 38,
   "id": "86b0c209",
   "metadata": {},
   "outputs": [
    {
     "data": {
      "text/latex": [
       "$\\displaystyle \\left[\\begin{matrix}\\frac{6^{k}}{6} + \\frac{2}{3} & 0 & \\frac{1}{3} & \\frac{6^{k}}{6} - \\frac{2}{15}\\\\0 & 1 & 0 & 0\\\\\\frac{2}{5} & 0 & \\frac{1}{5} & - \\frac{2}{25}\\\\\\frac{5 \\cdot 6^{k}}{6} - \\frac{2}{3} & 0 & - \\frac{1}{3} & \\frac{5 \\cdot 6^{k}}{6} + \\frac{2}{15}\\end{matrix}\\right]$"
      ],
      "text/plain": [
       "Matrix([\n",
       "[  6**k/6 + 2/3, 0,  1/3,   6**k/6 - 2/15],\n",
       "[             0, 1,    0,               0],\n",
       "[           2/5, 0,  1/5,           -2/25],\n",
       "[5*6**k/6 - 2/3, 0, -1/3, 5*6**k/6 + 2/15]])"
      ]
     },
     "execution_count": 38,
     "metadata": {},
     "output_type": "execute_result"
    }
   ],
   "source": [
    "powsimp(Ak)"
   ]
  },
  {
   "cell_type": "markdown",
   "id": "fc35da0d",
   "metadata": {},
   "source": [
    "### Ejercicio\n",
    "\n",
    "*Estudiar para qué valores de los parámetros $a$ y $b$ es diagonalizable la matriz*\n",
    "$$\n",
    "A=\\left(\n",
    "\\begin{array}{ccc}\n",
    "1 & a & 0 \\\\\n",
    "0 & 0 & b \\\\\n",
    "0 & b & 0 \n",
    "\\end{array}\\right).\n",
    "$$\n"
   ]
  },
  {
   "cell_type": "code",
   "execution_count": 39,
   "id": "ab7f9749",
   "metadata": {},
   "outputs": [],
   "source": [
    "from sympy.abc import a,b"
   ]
  },
  {
   "cell_type": "code",
   "execution_count": 40,
   "id": "8a700a72",
   "metadata": {},
   "outputs": [
    {
     "data": {
      "text/latex": [
       "$\\displaystyle \\left[\\begin{matrix}1 & a & 0\\\\0 & 0 & b\\\\0 & b & 0\\end{matrix}\\right]$"
      ],
      "text/plain": [
       "Matrix([\n",
       "[1, a, 0],\n",
       "[0, 0, b],\n",
       "[0, b, 0]])"
      ]
     },
     "execution_count": 40,
     "metadata": {},
     "output_type": "execute_result"
    }
   ],
   "source": [
    "A=Matrix([[1,a,0],[0,0,b],[0,b,0]])\n",
    "A"
   ]
  },
  {
   "cell_type": "code",
   "execution_count": 41,
   "id": "05b981ee",
   "metadata": {},
   "outputs": [
    {
     "data": {
      "text/latex": [
       "$\\displaystyle \\operatorname{PurePoly}{\\left( x^{3} - x^{2} -  b^{2} x + b^{2}, x, domain=\\mathbb{Z}\\left[b\\right] \\right)}$"
      ],
      "text/plain": [
       "PurePoly(x**3 - x**2 - b**2*x + b**2, x, domain='ZZ[b]')"
      ]
     },
     "execution_count": 41,
     "metadata": {},
     "output_type": "execute_result"
    }
   ],
   "source": [
    "p=A.charpoly(x)\n",
    "p"
   ]
  },
  {
   "cell_type": "markdown",
   "id": "6c1b2ba4",
   "metadata": {},
   "source": [
    "Factorizamos el polinomio característico."
   ]
  },
  {
   "cell_type": "code",
   "execution_count": 42,
   "id": "c5658a6e",
   "metadata": {},
   "outputs": [
    {
     "data": {
      "text/plain": [
       "(1,\n",
       " [(PurePoly(x - 1, x, domain='ZZ[b]'), 1),\n",
       "  (PurePoly(x - b, x, domain='ZZ[b]'), 1),\n",
       "  (PurePoly(x + b, x, domain='ZZ[b]'), 1)])"
      ]
     },
     "execution_count": 42,
     "metadata": {},
     "output_type": "execute_result"
    }
   ],
   "source": [
    "p.factor_list()"
   ]
  },
  {
   "cell_type": "markdown",
   "id": "2e8c764e",
   "metadata": {},
   "source": [
    "O bien como expresión."
   ]
  },
  {
   "cell_type": "code",
   "execution_count": 43,
   "id": "92f053e3",
   "metadata": {},
   "outputs": [
    {
     "data": {
      "text/latex": [
       "$\\displaystyle \\left(- b + x\\right) \\left(b + x\\right) \\left(x - 1\\right)$"
      ],
      "text/plain": [
       "(-b + x)*(b + x)*(x - 1)"
      ]
     },
     "execution_count": 43,
     "metadata": {},
     "output_type": "execute_result"
    }
   ],
   "source": [
    "p.as_expr().factor()"
   ]
  },
  {
   "cell_type": "markdown",
   "id": "e3b4d7a5",
   "metadata": {},
   "source": [
    "O bien con `solve`."
   ]
  },
  {
   "cell_type": "code",
   "execution_count": 44,
   "id": "3cbddcbe",
   "metadata": {},
   "outputs": [],
   "source": [
    "from sympy import solve"
   ]
  },
  {
   "cell_type": "code",
   "execution_count": 45,
   "id": "e90ad20e",
   "metadata": {},
   "outputs": [
    {
     "data": {
      "text/plain": [
       "[1, -b, b]"
      ]
     },
     "execution_count": 45,
     "metadata": {},
     "output_type": "execute_result"
    }
   ],
   "source": [
    "solve(p.as_expr(),x)"
   ]
  },
  {
   "cell_type": "markdown",
   "id": "81084f87",
   "metadata": {},
   "source": [
    "Los valores propios son $\\{1,b,-b\\}$. Así si $b\\not\\in\\{0,1,-1\\}$, los tres valores propios son diferentes y la matriz es diagonalizable."
   ]
  },
  {
   "cell_type": "markdown",
   "id": "c5250633",
   "metadata": {},
   "source": [
    "Estudiemos ahora qué ocurre para $b=0$, en cuyo caso los valores propios son $1$ y $0$ con multiplicidad dos. Nos interesa por tanto ver si el subespacio propio asociado a $0$ tiene dimensión dos."
   ]
  },
  {
   "cell_type": "code",
   "execution_count": 46,
   "id": "9790dc80",
   "metadata": {},
   "outputs": [
    {
     "data": {
      "text/latex": [
       "$\\displaystyle \\left[\\begin{matrix}1 & a & 0\\\\0 & 0 & 0\\\\0 & 0 & 0\\end{matrix}\\right]$"
      ],
      "text/plain": [
       "Matrix([\n",
       "[1, a, 0],\n",
       "[0, 0, 0],\n",
       "[0, 0, 0]])"
      ]
     },
     "execution_count": 46,
     "metadata": {},
     "output_type": "execute_result"
    }
   ],
   "source": [
    "Ab0=A.subs({b:0})\n",
    "Ab0"
   ]
  },
  {
   "cell_type": "markdown",
   "id": "23a0a528",
   "metadata": {},
   "source": [
    "Que tiene rango 1, por lo que que el valor propio 0 tiene multiplicidad geométrica 2."
   ]
  },
  {
   "cell_type": "code",
   "execution_count": 47,
   "id": "84a773ce",
   "metadata": {},
   "outputs": [
    {
     "data": {
      "text/plain": [
       "[Matrix([\n",
       " [-a],\n",
       " [ 1],\n",
       " [ 0]]),\n",
       " Matrix([\n",
       " [0],\n",
       " [0],\n",
       " [1]])]"
      ]
     },
     "execution_count": 47,
     "metadata": {},
     "output_type": "execute_result"
    }
   ],
   "source": [
    "Ab0.nullspace()"
   ]
  },
  {
   "cell_type": "markdown",
   "id": "33864def",
   "metadata": {},
   "source": [
    "Por lo que para $b=0$, la multiplicidad algebraica y geométrica de cada valor propio coincide, siendo así `Ab0` diagonalizable."
   ]
  },
  {
   "cell_type": "code",
   "execution_count": 48,
   "id": "cf91a0e4",
   "metadata": {},
   "outputs": [
    {
     "data": {
      "text/latex": [
       "$\\displaystyle \\left[\\begin{matrix}- a & 0 & 1\\\\1 & 0 & 0\\\\0 & 1 & 0\\end{matrix}\\right]$"
      ],
      "text/plain": [
       "Matrix([\n",
       "[-a, 0, 1],\n",
       "[ 1, 0, 0],\n",
       "[ 0, 1, 0]])"
      ]
     },
     "execution_count": 48,
     "metadata": {},
     "output_type": "execute_result"
    }
   ],
   "source": [
    "P0, D= Ab0.diagonalize()\n",
    "P0"
   ]
  },
  {
   "cell_type": "code",
   "execution_count": 49,
   "id": "7a0ac9f8",
   "metadata": {},
   "outputs": [
    {
     "data": {
      "text/latex": [
       "$\\displaystyle \\left[\\begin{matrix}0 & 0 & 0\\\\0 & 0 & 0\\\\0 & 0 & 1\\end{matrix}\\right]$"
      ],
      "text/plain": [
       "Matrix([\n",
       "[0, 0, 0],\n",
       "[0, 0, 0],\n",
       "[0, 0, 1]])"
      ]
     },
     "execution_count": 49,
     "metadata": {},
     "output_type": "execute_result"
    }
   ],
   "source": [
    "P0.inv()*Ab0*P0"
   ]
  },
  {
   "cell_type": "markdown",
   "id": "3731c48f",
   "metadata": {},
   "source": [
    "Veamos ahora el caso $b=1$. Los valores propios son $1$, con multiplicidad dos, y $-1$."
   ]
  },
  {
   "cell_type": "code",
   "execution_count": 50,
   "id": "a29ab91d",
   "metadata": {},
   "outputs": [
    {
     "data": {
      "text/latex": [
       "$\\displaystyle \\left[\\begin{matrix}1 & a & 0\\\\0 & 0 & 1\\\\0 & 1 & 0\\end{matrix}\\right]$"
      ],
      "text/plain": [
       "Matrix([\n",
       "[1, a, 0],\n",
       "[0, 0, 1],\n",
       "[0, 1, 0]])"
      ]
     },
     "execution_count": 50,
     "metadata": {},
     "output_type": "execute_result"
    }
   ],
   "source": [
    "Ab1=A.subs({b:1})\n",
    "Ab1"
   ]
  },
  {
   "cell_type": "code",
   "execution_count": 51,
   "id": "a1d28eec",
   "metadata": {},
   "outputs": [
    {
     "data": {
      "text/latex": [
       "$\\displaystyle \\left[\\begin{matrix}0 & a & 0\\\\0 & -1 & 1\\\\0 & 1 & -1\\end{matrix}\\right]$"
      ],
      "text/plain": [
       "Matrix([\n",
       "[0,  a,  0],\n",
       "[0, -1,  1],\n",
       "[0,  1, -1]])"
      ]
     },
     "execution_count": 51,
     "metadata": {},
     "output_type": "execute_result"
    }
   ],
   "source": [
    "Ab1-eye(3)"
   ]
  },
  {
   "cell_type": "markdown",
   "id": "5fcd73ab",
   "metadata": {},
   "source": [
    "En este caso el rango de $A-I$ depende de $a$. \n",
    "- Si $a\\neq 0$, el rango es dos, y la dimension del subespacio propio asociado a 1 sería 1, por lo que la matriz no sería diagonalizable.\n",
    "- Si $a=0$, entonces la matriz es diagonalizable, pues el rango de $A-I$ es 1, y por tanto su núcleo tiene dimensión 2."
   ]
  },
  {
   "cell_type": "markdown",
   "id": "ee6e8a30",
   "metadata": {},
   "source": [
    "Hay que tener cuidado con usar `rank` o `rref` directamente, pues `sympy` considera `a` como un símbolo."
   ]
  },
  {
   "cell_type": "code",
   "execution_count": 52,
   "id": "6dc63bf7",
   "metadata": {
    "scrolled": true
   },
   "outputs": [
    {
     "data": {
      "text/plain": [
       "2"
      ]
     },
     "execution_count": 52,
     "metadata": {},
     "output_type": "execute_result"
    }
   ],
   "source": [
    "(Ab1-eye(3)).rank()"
   ]
  },
  {
   "cell_type": "code",
   "execution_count": 53,
   "id": "cf953a33",
   "metadata": {},
   "outputs": [
    {
     "data": {
      "text/plain": [
       "(Matrix([\n",
       " [0, 1, 0],\n",
       " [0, 0, 1],\n",
       " [0, 0, 0]]),\n",
       " (1, 2))"
      ]
     },
     "execution_count": 53,
     "metadata": {},
     "output_type": "execute_result"
    }
   ],
   "source": [
    "(Ab1-eye(3)).rref()"
   ]
  },
  {
   "cell_type": "markdown",
   "id": "35a35a1f",
   "metadata": {},
   "source": [
    "Podemos considerar el menor $2\\times 2$ superior derecho, que nos proporciona la distinción de los valores de $a$ que hemos hecho arriba."
   ]
  },
  {
   "cell_type": "code",
   "execution_count": 54,
   "id": "7e74fb6c",
   "metadata": {},
   "outputs": [
    {
     "data": {
      "text/latex": [
       "$\\displaystyle \\left[\\begin{matrix}a & 0\\\\-1 & 1\\end{matrix}\\right]$"
      ],
      "text/plain": [
       "Matrix([\n",
       "[ a, 0],\n",
       "[-1, 1]])"
      ]
     },
     "execution_count": 54,
     "metadata": {},
     "output_type": "execute_result"
    }
   ],
   "source": [
    "M=(Ab1-eye(3))[:2,1:]\n",
    "M"
   ]
  },
  {
   "cell_type": "code",
   "execution_count": 55,
   "id": "fcabb4f8",
   "metadata": {},
   "outputs": [
    {
     "data": {
      "text/latex": [
       "$\\displaystyle a$"
      ],
      "text/plain": [
       "a"
      ]
     },
     "execution_count": 55,
     "metadata": {},
     "output_type": "execute_result"
    }
   ],
   "source": [
    "M.det()"
   ]
  },
  {
   "cell_type": "markdown",
   "id": "129fa615",
   "metadata": {},
   "source": [
    "Para $b=-1$, tenemos como valores propios a 1 (multiplicidad 2) y -1."
   ]
  },
  {
   "cell_type": "code",
   "execution_count": 56,
   "id": "907a46d2",
   "metadata": {},
   "outputs": [
    {
     "data": {
      "text/latex": [
       "$\\displaystyle \\left[\\begin{matrix}1 & a & 0\\\\0 & 0 & 1\\\\0 & 1 & 0\\end{matrix}\\right]$"
      ],
      "text/plain": [
       "Matrix([\n",
       "[1, a, 0],\n",
       "[0, 0, 1],\n",
       "[0, 1, 0]])"
      ]
     },
     "execution_count": 56,
     "metadata": {},
     "output_type": "execute_result"
    }
   ],
   "source": [
    "Abm1=A.subs({b:1})\n",
    "Abm1"
   ]
  },
  {
   "cell_type": "code",
   "execution_count": 57,
   "id": "b9df0307",
   "metadata": {},
   "outputs": [
    {
     "data": {
      "text/latex": [
       "$\\displaystyle \\left[\\begin{matrix}0 & a & 0\\\\0 & -1 & 1\\\\0 & 1 & -1\\end{matrix}\\right]$"
      ],
      "text/plain": [
       "Matrix([\n",
       "[0,  a,  0],\n",
       "[0, -1,  1],\n",
       "[0,  1, -1]])"
      ]
     },
     "execution_count": 57,
     "metadata": {},
     "output_type": "execute_result"
    }
   ],
   "source": [
    "(Abm1-eye(3))"
   ]
  },
  {
   "cell_type": "markdown",
   "id": "794b6b1d",
   "metadata": {},
   "source": [
    "Repitiéndose la distinción que hicimos para $b=1$."
   ]
  }
 ],
 "metadata": {
  "kernelspec": {
   "display_name": "Python 3 (ipykernel)",
   "language": "python",
   "name": "python3"
  },
  "language_info": {
   "codemirror_mode": {
    "name": "ipython",
    "version": 3
   },
   "file_extension": ".py",
   "mimetype": "text/x-python",
   "name": "python",
   "nbconvert_exporter": "python",
   "pygments_lexer": "ipython3",
   "version": "3.11.0"
  }
 },
 "nbformat": 4,
 "nbformat_minor": 5
}
