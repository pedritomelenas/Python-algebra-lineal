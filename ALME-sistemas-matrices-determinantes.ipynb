{
 "cells": [
  {
   "cell_type": "markdown",
   "id": "1055edc7",
   "metadata": {},
   "source": [
    "# Sistemas de ecuaciones, matrices y determinantes"
   ]
  },
  {
   "cell_type": "markdown",
   "id": "19b73448",
   "metadata": {},
   "source": [
    "Utilizaremos como ejemplos los proporcionados por L. Merino y E. Santos en el primer bloque de su [página de resolución de ejercicios tipo](https://www.ugr.es/~lmerino/ALME.html) de su libro [Álgebra lineal con métodos elementales](https://www.amazon.es/%C3%81lgebra-lineal-m%C3%A9todos-elementales-GONZALEZ/dp/8497324811)."
   ]
  },
  {
   "cell_type": "markdown",
   "id": "6f033d5b",
   "metadata": {},
   "source": [
    "## Forma normal de Hermite de una matriz"
   ]
  },
  {
   "cell_type": "markdown",
   "id": "232c27c9",
   "metadata": {},
   "source": [
    "Para calcular la forma normal de Hermite por filas, vamos a utilizar la librería [sympy](https://www.sympy.org/en/index.html). Es interesante echar un vistazo a la documentación que ofrecen sobre [matrices y álgebra lineal](https://docs.sympy.org/latest/modules/matrices/matrices.html#linear-algebra)."
   ]
  },
  {
   "cell_type": "code",
   "execution_count": 1,
   "id": "eb7b3fdc",
   "metadata": {},
   "outputs": [],
   "source": [
    "from sympy import Matrix"
   ]
  },
  {
   "cell_type": "markdown",
   "id": "f18868ef",
   "metadata": {},
   "source": [
    "Repasemos cómo podemos hacer operaciones elementales con las filas y columnas de una matriz."
   ]
  },
  {
   "cell_type": "code",
   "execution_count": 2,
   "id": "bc1565fd",
   "metadata": {},
   "outputs": [
    {
     "data": {
      "text/latex": [
       "$\\displaystyle \\left[\\begin{matrix}1 & 2 & 3 & 4\\\\5 & 6 & 7 & 8\\\\9 & 10 & 11 & 12\\end{matrix}\\right]$"
      ],
      "text/plain": [
       "Matrix([\n",
       "[1,  2,  3,  4],\n",
       "[5,  6,  7,  8],\n",
       "[9, 10, 11, 12]])"
      ]
     },
     "execution_count": 2,
     "metadata": {},
     "output_type": "execute_result"
    }
   ],
   "source": [
    "A=Matrix(3,4,range(1,13))\n",
    "A"
   ]
  },
  {
   "cell_type": "markdown",
   "id": "823207bf",
   "metadata": {},
   "source": [
    "Recordemos que los índices en `python` empiezan en 0. Así la primera fila es"
   ]
  },
  {
   "cell_type": "code",
   "execution_count": 3,
   "id": "efdd529f",
   "metadata": {
    "scrolled": true
   },
   "outputs": [
    {
     "data": {
      "text/latex": [
       "$\\displaystyle \\left[\\begin{matrix}1 & 2 & 3 & 4\\end{matrix}\\right]$"
      ],
      "text/plain": [
       "Matrix([[1, 2, 3, 4]])"
      ]
     },
     "execution_count": 3,
     "metadata": {},
     "output_type": "execute_result"
    }
   ],
   "source": [
    "A[0,:]"
   ]
  },
  {
   "cell_type": "markdown",
   "id": "811b483f",
   "metadata": {},
   "source": [
    "Y la segunda columna"
   ]
  },
  {
   "cell_type": "code",
   "execution_count": 4,
   "id": "fbeab2b0",
   "metadata": {},
   "outputs": [
    {
     "data": {
      "text/latex": [
       "$\\displaystyle \\left[\\begin{matrix}2\\\\6\\\\10\\end{matrix}\\right]$"
      ],
      "text/plain": [
       "Matrix([\n",
       "[ 2],\n",
       "[ 6],\n",
       "[10]])"
      ]
     },
     "execution_count": 4,
     "metadata": {},
     "output_type": "execute_result"
    }
   ],
   "source": [
    "A[:,1]"
   ]
  },
  {
   "cell_type": "markdown",
   "id": "9f7303d4",
   "metadata": {},
   "source": [
    "Podemos intercambiar columnas con `col_swap`."
   ]
  },
  {
   "cell_type": "code",
   "execution_count": 5,
   "id": "aed1b91c",
   "metadata": {},
   "outputs": [
    {
     "data": {
      "text/latex": [
       "$\\displaystyle \\left[\\begin{matrix}2 & 1 & 3 & 4\\\\6 & 5 & 7 & 8\\\\10 & 9 & 11 & 12\\end{matrix}\\right]$"
      ],
      "text/plain": [
       "Matrix([\n",
       "[ 2, 1,  3,  4],\n",
       "[ 6, 5,  7,  8],\n",
       "[10, 9, 11, 12]])"
      ]
     },
     "execution_count": 5,
     "metadata": {},
     "output_type": "execute_result"
    }
   ],
   "source": [
    "A.col_swap(0,1)\n",
    "A"
   ]
  },
  {
   "cell_type": "markdown",
   "id": "27cc3469",
   "metadata": {},
   "source": [
    "Y filas con `row_swap`."
   ]
  },
  {
   "cell_type": "code",
   "execution_count": 6,
   "id": "46a06439",
   "metadata": {},
   "outputs": [
    {
     "data": {
      "text/latex": [
       "$\\displaystyle \\left[\\begin{matrix}6 & 5 & 7 & 8\\\\2 & 1 & 3 & 4\\\\10 & 9 & 11 & 12\\end{matrix}\\right]$"
      ],
      "text/plain": [
       "Matrix([\n",
       "[ 6, 5,  7,  8],\n",
       "[ 2, 1,  3,  4],\n",
       "[10, 9, 11, 12]])"
      ]
     },
     "execution_count": 6,
     "metadata": {},
     "output_type": "execute_result"
    }
   ],
   "source": [
    "A.row_swap(0,1)\n",
    "A"
   ]
  },
  {
   "cell_type": "markdown",
   "id": "0dc2aea0",
   "metadata": {},
   "source": [
    "Para restarle a la primera fila tres veces la segunda, hacemos"
   ]
  },
  {
   "cell_type": "code",
   "execution_count": 7,
   "id": "3668a0cd",
   "metadata": {
    "scrolled": true
   },
   "outputs": [
    {
     "data": {
      "text/latex": [
       "$\\displaystyle \\left[\\begin{matrix}0 & 2 & -2 & -4\\\\2 & 1 & 3 & 4\\\\10 & 9 & 11 & 12\\end{matrix}\\right]$"
      ],
      "text/plain": [
       "Matrix([\n",
       "[ 0, 2, -2, -4],\n",
       "[ 2, 1,  3,  4],\n",
       "[10, 9, 11, 12]])"
      ]
     },
     "execution_count": 7,
     "metadata": {},
     "output_type": "execute_result"
    }
   ],
   "source": [
    "A[0,:]=A[0,:]-3*A[1,:]\n",
    "A"
   ]
  },
  {
   "cell_type": "markdown",
   "id": "02eeb17a",
   "metadata": {},
   "source": [
    "### Ejercicio\n",
    "\n",
    "*Calcular la forma de Hermite por filas y el rango de la\n",
    "matriz:*\n",
    "$$\n",
    "A=\n",
    " \\left(\\begin{array}{rrrr}\n",
    "-2 & -4 &  2  &  2 \\\\\n",
    " 3 &  6 &  -3 & -3 \\\\\n",
    " 1 &  2 &  0  &  1\n",
    " \\end{array}\\right).\n",
    "$$"
   ]
  },
  {
   "cell_type": "markdown",
   "id": "83e17ec4",
   "metadata": {},
   "source": [
    "Empezamos definiendo la matriz del enunciado."
   ]
  },
  {
   "cell_type": "code",
   "execution_count": 8,
   "id": "a8f084ef",
   "metadata": {},
   "outputs": [
    {
     "data": {
      "text/latex": [
       "$\\displaystyle \\left[\\begin{matrix}-2 & -4 & 2 & 2\\\\3 & 6 & -3 & -3\\\\1 & 2 & 0 & 1\\end{matrix}\\right]$"
      ],
      "text/plain": [
       "Matrix([\n",
       "[-2, -4,  2,  2],\n",
       "[ 3,  6, -3, -3],\n",
       "[ 1,  2,  0,  1]])"
      ]
     },
     "execution_count": 8,
     "metadata": {},
     "output_type": "execute_result"
    }
   ],
   "source": [
    "A=Matrix([[-2,-4,2,2],[3,6,-3,-3],[1,2,0,1]])\n",
    "A"
   ]
  },
  {
   "cell_type": "markdown",
   "id": "f0f588f4",
   "metadata": {},
   "source": [
    "Para calcular la forma normal de Hermite por filas, usamos `rref` (row reduced echelon form)."
   ]
  },
  {
   "cell_type": "code",
   "execution_count": 9,
   "id": "1a820cc8",
   "metadata": {},
   "outputs": [
    {
     "data": {
      "text/plain": [
       "(Matrix([\n",
       " [1, 2, 0, 1],\n",
       " [0, 0, 1, 2],\n",
       " [0, 0, 0, 0]]),\n",
       " (0, 2))"
      ]
     },
     "execution_count": 9,
     "metadata": {},
     "output_type": "execute_result"
    }
   ],
   "source": [
    "A.rref()"
   ]
  },
  {
   "cell_type": "code",
   "execution_count": 10,
   "id": "ffe33cf7",
   "metadata": {},
   "outputs": [
    {
     "data": {
      "text/latex": [
       "$\\displaystyle \\left[\\begin{matrix}1 & 2 & 0 & 1\\\\0 & 0 & 1 & 2\\\\0 & 0 & 0 & 0\\end{matrix}\\right]$"
      ],
      "text/plain": [
       "Matrix([\n",
       "[1, 2, 0, 1],\n",
       "[0, 0, 1, 2],\n",
       "[0, 0, 0, 0]])"
      ]
     },
     "execution_count": 10,
     "metadata": {},
     "output_type": "execute_result"
    }
   ],
   "source": [
    "_[0]"
   ]
  },
  {
   "cell_type": "markdown",
   "id": "4ea558e2",
   "metadata": {},
   "source": [
    "Y el rango lo podemos calcular con `rank`."
   ]
  },
  {
   "cell_type": "code",
   "execution_count": 11,
   "id": "23969b88",
   "metadata": {},
   "outputs": [
    {
     "data": {
      "text/plain": [
       "2"
      ]
     },
     "execution_count": 11,
     "metadata": {},
     "output_type": "execute_result"
    }
   ],
   "source": [
    "A.rank()"
   ]
  },
  {
   "cell_type": "markdown",
   "id": "9ac71549",
   "metadata": {},
   "source": [
    "### Ejercicio\n",
    "\n",
    "*Calcular la forma de Hermite por columnas de la matriz*\n",
    "$$\n",
    "A= \\left(\\begin{array}{rrr}\n",
    " 1 &  2 &  1 \\\\\n",
    " 2 &  1 &  0 \\\\\n",
    " 4 &  5 &  2 \\\\\n",
    " \\end{array}\\right).\n",
    "$$"
   ]
  },
  {
   "cell_type": "code",
   "execution_count": 12,
   "id": "4489e502",
   "metadata": {},
   "outputs": [
    {
     "data": {
      "text/latex": [
       "$\\displaystyle \\left[\\begin{matrix}1 & 2 & 1\\\\2 & 1 & 0\\\\4 & 5 & 2\\end{matrix}\\right]$"
      ],
      "text/plain": [
       "Matrix([\n",
       "[1, 2, 1],\n",
       "[2, 1, 0],\n",
       "[4, 5, 2]])"
      ]
     },
     "execution_count": 12,
     "metadata": {},
     "output_type": "execute_result"
    }
   ],
   "source": [
    "A=Matrix([[1,2,1],[2,1,0],[4,5,2]])\n",
    "A"
   ]
  },
  {
   "cell_type": "markdown",
   "id": "268942e9",
   "metadata": {},
   "source": [
    "Para calcular la forma normal reducida por columnas, calculamos la transpuesta de la forma reducida por filas de la transpuesta de la matriz."
   ]
  },
  {
   "cell_type": "code",
   "execution_count": 13,
   "id": "192676f7",
   "metadata": {},
   "outputs": [
    {
     "data": {
      "text/latex": [
       "$\\displaystyle \\left[\\begin{matrix}1 & 0 & 2\\\\0 & 1 & 1\\\\0 & 0 & 0\\end{matrix}\\right]$"
      ],
      "text/plain": [
       "Matrix([\n",
       "[1, 0, 2],\n",
       "[0, 1, 1],\n",
       "[0, 0, 0]])"
      ]
     },
     "execution_count": 13,
     "metadata": {},
     "output_type": "execute_result"
    }
   ],
   "source": [
    "At=A.transpose()\n",
    "rAt,piv =At.rref()\n",
    "rAt"
   ]
  },
  {
   "cell_type": "code",
   "execution_count": 14,
   "id": "08bb32af",
   "metadata": {},
   "outputs": [
    {
     "data": {
      "text/latex": [
       "$\\displaystyle \\left[\\begin{matrix}1 & 0 & 0\\\\0 & 1 & 0\\\\2 & 1 & 0\\end{matrix}\\right]$"
      ],
      "text/plain": [
       "Matrix([\n",
       "[1, 0, 0],\n",
       "[0, 1, 0],\n",
       "[2, 1, 0]])"
      ]
     },
     "execution_count": 14,
     "metadata": {},
     "output_type": "execute_result"
    }
   ],
   "source": [
    "rAt.transpose()"
   ]
  },
  {
   "cell_type": "markdown",
   "id": "0904fe79",
   "metadata": {},
   "source": [
    "### Ejercicio\n",
    "\n",
    "*Calcular la forma de Hermite por filas $H$ de la matriz*\n",
    "$$\n",
    "A=\n",
    " \\left(\\begin{array}{rrrr}\n",
    "-2 & -4 &  2  &  2 \\\\\n",
    " 3 &  6 &  -3 & -3 \\\\\n",
    " 1 &  2 &  0  &  1\n",
    " \\end{array}\\right)\n",
    "$$\n",
    "*así como una matriz regular $Q$ de forma que $H=Q\\cdot A$*.\n"
   ]
  },
  {
   "cell_type": "markdown",
   "id": "fbc6145e",
   "metadata": {},
   "source": [
    "Empezamos definiendo la matriz del enunciado, y le añadimos la matriz identidad por columnas. En sympy, la identidad se puede crear con `eye`."
   ]
  },
  {
   "cell_type": "code",
   "execution_count": 15,
   "id": "0f94b505",
   "metadata": {},
   "outputs": [],
   "source": [
    "from sympy import eye"
   ]
  },
  {
   "cell_type": "code",
   "execution_count": 16,
   "id": "edd21bec",
   "metadata": {},
   "outputs": [
    {
     "data": {
      "text/latex": [
       "$\\displaystyle \\left[\\begin{matrix}-2 & -4 & 2 & 2 & 1 & 0 & 0\\\\3 & 6 & -3 & -3 & 0 & 1 & 0\\\\1 & 2 & 0 & 1 & 0 & 0 & 1\\end{matrix}\\right]$"
      ],
      "text/plain": [
       "Matrix([\n",
       "[-2, -4,  2,  2, 1, 0, 0],\n",
       "[ 3,  6, -3, -3, 0, 1, 0],\n",
       "[ 1,  2,  0,  1, 0, 0, 1]])"
      ]
     },
     "execution_count": 16,
     "metadata": {},
     "output_type": "execute_result"
    }
   ],
   "source": [
    "A=Matrix([[-2,-4,2,2],[3,6,-3,-3],[1,2,0,1]])\n",
    "AI=A.row_join(eye(3))\n",
    "AI"
   ]
  },
  {
   "cell_type": "markdown",
   "id": "341cc963",
   "metadata": {},
   "source": [
    "Que también podemos definir con `Matrix.hstack` (`vstack` para columnas)."
   ]
  },
  {
   "cell_type": "code",
   "execution_count": 17,
   "id": "d0ab7baa",
   "metadata": {},
   "outputs": [
    {
     "data": {
      "text/latex": [
       "$\\displaystyle \\left[\\begin{matrix}-2 & -4 & 2 & 2 & 1 & 0 & 0\\\\3 & 6 & -3 & -3 & 0 & 1 & 0\\\\1 & 2 & 0 & 1 & 0 & 0 & 1\\end{matrix}\\right]$"
      ],
      "text/plain": [
       "Matrix([\n",
       "[-2, -4,  2,  2, 1, 0, 0],\n",
       "[ 3,  6, -3, -3, 0, 1, 0],\n",
       "[ 1,  2,  0,  1, 0, 0, 1]])"
      ]
     },
     "execution_count": 17,
     "metadata": {},
     "output_type": "execute_result"
    }
   ],
   "source": [
    "Matrix.hstack(A,eye(3))"
   ]
  },
  {
   "cell_type": "markdown",
   "id": "776e8efc",
   "metadata": {},
   "source": [
    "Ahora calculamos su forma normal reducida for filas."
   ]
  },
  {
   "cell_type": "code",
   "execution_count": 18,
   "id": "12971cb7",
   "metadata": {},
   "outputs": [
    {
     "data": {
      "text/latex": [
       "$\\displaystyle \\left[\\begin{matrix}1 & 2 & 0 & 1 & 0 & 0 & 1\\\\0 & 0 & 1 & 2 & 0 & - \\frac{1}{3} & 1\\\\0 & 0 & 0 & 0 & 1 & \\frac{2}{3} & 0\\end{matrix}\\right]$"
      ],
      "text/plain": [
       "Matrix([\n",
       "[1, 2, 0, 1, 0,    0, 1],\n",
       "[0, 0, 1, 2, 0, -1/3, 1],\n",
       "[0, 0, 0, 0, 1,  2/3, 0]])"
      ]
     },
     "execution_count": 18,
     "metadata": {},
     "output_type": "execute_result"
    }
   ],
   "source": [
    "hAI,piv=AI.rref()\n",
    "hAI"
   ]
  },
  {
   "cell_type": "markdown",
   "id": "1e24bc2e",
   "metadata": {},
   "source": [
    "Las primeras cuatro filas nos dan la forma normal reducida por filas."
   ]
  },
  {
   "cell_type": "code",
   "execution_count": 19,
   "id": "0107de0e",
   "metadata": {},
   "outputs": [
    {
     "data": {
      "text/latex": [
       "$\\displaystyle \\left[\\begin{matrix}1 & 2 & 0 & 1\\\\0 & 0 & 1 & 2\\\\0 & 0 & 0 & 0\\end{matrix}\\right]$"
      ],
      "text/plain": [
       "Matrix([\n",
       "[1, 2, 0, 1],\n",
       "[0, 0, 1, 2],\n",
       "[0, 0, 0, 0]])"
      ]
     },
     "execution_count": 19,
     "metadata": {},
     "output_type": "execute_result"
    }
   ],
   "source": [
    "hAI[:,0:4]"
   ]
  },
  {
   "cell_type": "markdown",
   "id": "5ab2b34f",
   "metadata": {},
   "source": [
    "Mientras que las restantes nos dan la matriz de paso."
   ]
  },
  {
   "cell_type": "code",
   "execution_count": 20,
   "id": "ef502662",
   "metadata": {
    "scrolled": true
   },
   "outputs": [
    {
     "data": {
      "text/latex": [
       "$\\displaystyle \\left[\\begin{matrix}0 & 0 & 1\\\\0 & - \\frac{1}{3} & 1\\\\1 & \\frac{2}{3} & 0\\end{matrix}\\right]$"
      ],
      "text/plain": [
       "Matrix([\n",
       "[0,    0, 1],\n",
       "[0, -1/3, 1],\n",
       "[1,  2/3, 0]])"
      ]
     },
     "execution_count": 20,
     "metadata": {},
     "output_type": "execute_result"
    }
   ],
   "source": [
    "Q=hAI[:,4:7]\n",
    "Q"
   ]
  },
  {
   "cell_type": "markdown",
   "id": "e330e336",
   "metadata": {},
   "source": [
    "Comprobemos que efectivamente $Q A$ es la forma reducida."
   ]
  },
  {
   "cell_type": "code",
   "execution_count": 21,
   "id": "5b6d1200",
   "metadata": {
    "scrolled": true
   },
   "outputs": [
    {
     "data": {
      "text/latex": [
       "$\\displaystyle \\left[\\begin{matrix}1 & 2 & 0 & 1\\\\0 & 0 & 1 & 2\\\\0 & 0 & 0 & 0\\end{matrix}\\right]$"
      ],
      "text/plain": [
       "Matrix([\n",
       "[1, 2, 0, 1],\n",
       "[0, 0, 1, 2],\n",
       "[0, 0, 0, 0]])"
      ]
     },
     "execution_count": 21,
     "metadata": {},
     "output_type": "execute_result"
    }
   ],
   "source": [
    "Q*A"
   ]
  },
  {
   "cell_type": "markdown",
   "id": "14fcdbc5",
   "metadata": {},
   "source": [
    "### Ejercicio\n",
    "\n",
    "*Calcular la forma de Hermite por columnas $C$ de la matriz*\n",
    "$$\n",
    "A=\n",
    " \\left(\\begin{array}{rrrr}\n",
    " -2 & -4 &  2 &  2 \\\\\n",
    "  3 &  6 & -3 & -3 \\\\\n",
    "  1 &  2 &  0 &  1  \\\\\n",
    " \\end{array}\\right)\n",
    "$$\n",
    "*así como una matriz regular $Q$ de forma que $C=A\\cdot Q$*.\n"
   ]
  },
  {
   "cell_type": "markdown",
   "id": "e44c804d",
   "metadata": {},
   "source": [
    "Procedemos como en el ejercicio anterior, pero ahora añadiendo la identidad por columnas debajo de $A$."
   ]
  },
  {
   "cell_type": "code",
   "execution_count": 22,
   "id": "c9b13467",
   "metadata": {},
   "outputs": [
    {
     "data": {
      "text/latex": [
       "$\\displaystyle \\left[\\begin{matrix}-2 & -4 & 2 & 2\\\\3 & 6 & -3 & -3\\\\1 & 2 & 0 & 1\\\\1 & 0 & 0 & 0\\\\0 & 1 & 0 & 0\\\\0 & 0 & 1 & 0\\\\0 & 0 & 0 & 1\\end{matrix}\\right]$"
      ],
      "text/plain": [
       "Matrix([\n",
       "[-2, -4,  2,  2],\n",
       "[ 3,  6, -3, -3],\n",
       "[ 1,  2,  0,  1],\n",
       "[ 1,  0,  0,  0],\n",
       "[ 0,  1,  0,  0],\n",
       "[ 0,  0,  1,  0],\n",
       "[ 0,  0,  0,  1]])"
      ]
     },
     "execution_count": 22,
     "metadata": {},
     "output_type": "execute_result"
    }
   ],
   "source": [
    "A=Matrix([[-2,-4,2,2],[3,6,-3,-3],[1,2,0,1]])\n",
    "AI=A.col_join(eye(4))\n",
    "AI"
   ]
  },
  {
   "cell_type": "markdown",
   "id": "0ba6c59f",
   "metadata": {},
   "source": [
    "Calculamos la forma normal de hermite de `AI` por columnas (transponiendo, calculando la forma reducida por filas, y volviendo a transponer)."
   ]
  },
  {
   "cell_type": "code",
   "execution_count": 23,
   "id": "6a4fa9c8",
   "metadata": {},
   "outputs": [
    {
     "data": {
      "text/latex": [
       "$\\displaystyle \\left[\\begin{matrix}1 & 0 & 0 & 0\\\\- \\frac{3}{2} & 0 & 0 & 0\\\\0 & 1 & 0 & 0\\\\0 & 0 & 1 & 0\\\\0 & 0 & 0 & 1\\\\\\frac{1}{2} & -1 & 2 & 4\\\\0 & 1 & -1 & -2\\end{matrix}\\right]$"
      ],
      "text/plain": [
       "Matrix([\n",
       "[   1,  0,  0,  0],\n",
       "[-3/2,  0,  0,  0],\n",
       "[   0,  1,  0,  0],\n",
       "[   0,  0,  1,  0],\n",
       "[   0,  0,  0,  1],\n",
       "[ 1/2, -1,  2,  4],\n",
       "[   0,  1, -1, -2]])"
      ]
     },
     "execution_count": 23,
     "metadata": {},
     "output_type": "execute_result"
    }
   ],
   "source": [
    "rtAI,piv=AI.transpose().rref()\n",
    "rAI=rtAI.transpose()\n",
    "rAI"
   ]
  },
  {
   "cell_type": "markdown",
   "id": "9bfeb3ac",
   "metadata": {},
   "source": [
    "Así la forma reducida por columnas es"
   ]
  },
  {
   "cell_type": "code",
   "execution_count": 24,
   "id": "61762acc",
   "metadata": {},
   "outputs": [
    {
     "data": {
      "text/latex": [
       "$\\displaystyle \\left[\\begin{matrix}1 & 0 & 0 & 0\\\\- \\frac{3}{2} & 0 & 0 & 0\\\\0 & 1 & 0 & 0\\end{matrix}\\right]$"
      ],
      "text/plain": [
       "Matrix([\n",
       "[   1, 0, 0, 0],\n",
       "[-3/2, 0, 0, 0],\n",
       "[   0, 1, 0, 0]])"
      ]
     },
     "execution_count": 24,
     "metadata": {},
     "output_type": "execute_result"
    }
   ],
   "source": [
    "H=rAI[0:3,:]\n",
    "H"
   ]
  },
  {
   "cell_type": "markdown",
   "id": "640f545e",
   "metadata": {},
   "source": [
    "Y la matriz $Q$ es "
   ]
  },
  {
   "cell_type": "code",
   "execution_count": 25,
   "id": "c4efadf8",
   "metadata": {},
   "outputs": [
    {
     "data": {
      "text/latex": [
       "$\\displaystyle \\left[\\begin{matrix}0 & 0 & 1 & 0\\\\0 & 0 & 0 & 1\\\\\\frac{1}{2} & -1 & 2 & 4\\\\0 & 1 & -1 & -2\\end{matrix}\\right]$"
      ],
      "text/plain": [
       "Matrix([\n",
       "[  0,  0,  1,  0],\n",
       "[  0,  0,  0,  1],\n",
       "[1/2, -1,  2,  4],\n",
       "[  0,  1, -1, -2]])"
      ]
     },
     "execution_count": 25,
     "metadata": {},
     "output_type": "execute_result"
    }
   ],
   "source": [
    "Q=rAI[3:8,:]\n",
    "Q"
   ]
  },
  {
   "cell_type": "markdown",
   "id": "08ae1f65",
   "metadata": {},
   "source": [
    "Comprobamos que el resultado es correcto."
   ]
  },
  {
   "cell_type": "code",
   "execution_count": 26,
   "id": "88a54ba0",
   "metadata": {
    "scrolled": true
   },
   "outputs": [
    {
     "data": {
      "text/plain": [
       "True"
      ]
     },
     "execution_count": 26,
     "metadata": {},
     "output_type": "execute_result"
    }
   ],
   "source": [
    "A*Q==H"
   ]
  },
  {
   "cell_type": "markdown",
   "id": "69ea3597",
   "metadata": {},
   "source": [
    "## Sistemas de ecuaciones usando Gauss-Jordan"
   ]
  },
  {
   "cell_type": "markdown",
   "id": "ac56231a",
   "metadata": {},
   "source": [
    "### Ejercicio\n",
    "\n",
    "*Discutir y resolver, en su caso, el sistema de ecuaciones lineales:*\n",
    "$$\n",
    "\\left\\{ \\begin{array}{rcl}\n",
    "3x +2y +z&= & 1, \\\\\n",
    "2x+3y+z &= & 0,\\\\\n",
    "2x+ y+3z &= & 0.\n",
    "\\end{array} \\right. \n",
    "$$"
   ]
  },
  {
   "cell_type": "markdown",
   "id": "6bf8b386",
   "metadata": {},
   "source": [
    "Empezamos definiendo la matriz de coeficientes y la matriz ampliada."
   ]
  },
  {
   "cell_type": "code",
   "execution_count": 27,
   "id": "0aac574a",
   "metadata": {
    "scrolled": true
   },
   "outputs": [],
   "source": [
    "A=Matrix([[3,2,1],[2,3,1],[2,1,3]])\n",
    "b=Matrix([1,0,0])"
   ]
  },
  {
   "cell_type": "code",
   "execution_count": 28,
   "id": "9fa4138e",
   "metadata": {},
   "outputs": [
    {
     "data": {
      "text/latex": [
       "$\\displaystyle \\left[\\begin{matrix}3 & 2 & 1\\\\2 & 3 & 1\\\\2 & 1 & 3\\end{matrix}\\right]$"
      ],
      "text/plain": [
       "Matrix([\n",
       "[3, 2, 1],\n",
       "[2, 3, 1],\n",
       "[2, 1, 3]])"
      ]
     },
     "execution_count": 28,
     "metadata": {},
     "output_type": "execute_result"
    }
   ],
   "source": [
    "A"
   ]
  },
  {
   "cell_type": "code",
   "execution_count": 29,
   "id": "10564566",
   "metadata": {},
   "outputs": [
    {
     "data": {
      "text/latex": [
       "$\\displaystyle \\left[\\begin{matrix}1\\\\0\\\\0\\end{matrix}\\right]$"
      ],
      "text/plain": [
       "Matrix([\n",
       "[1],\n",
       "[0],\n",
       "[0]])"
      ]
     },
     "execution_count": 29,
     "metadata": {},
     "output_type": "execute_result"
    }
   ],
   "source": [
    "b"
   ]
  },
  {
   "cell_type": "markdown",
   "id": "146450b3",
   "metadata": {},
   "source": [
    "Para resolverlo, usamos `linsolve`."
   ]
  },
  {
   "cell_type": "code",
   "execution_count": 30,
   "id": "67b908b8",
   "metadata": {},
   "outputs": [],
   "source": [
    "from sympy import linsolve"
   ]
  },
  {
   "cell_type": "code",
   "execution_count": 31,
   "id": "7c4c2468",
   "metadata": {},
   "outputs": [
    {
     "data": {
      "text/latex": [
       "$\\displaystyle \\left\\{\\left( \\frac{2}{3}, \\  - \\frac{1}{3}, \\  - \\frac{1}{3}\\right)\\right\\}$"
      ],
      "text/plain": [
       "{(2/3, -1/3, -1/3)}"
      ]
     },
     "execution_count": 31,
     "metadata": {},
     "output_type": "execute_result"
    }
   ],
   "source": [
    "linsolve((A,b))"
   ]
  },
  {
   "cell_type": "markdown",
   "id": "04848eb9",
   "metadata": {},
   "source": [
    "Por lo que la solución es $x=2/3$, $y=-1/3$ y $z=-1/3$."
   ]
  },
  {
   "cell_type": "markdown",
   "id": "2b029f56",
   "metadata": {},
   "source": [
    "Usando la forma normal reducida de la matriz ampliada"
   ]
  },
  {
   "cell_type": "code",
   "execution_count": 32,
   "id": "6e30ae25",
   "metadata": {},
   "outputs": [
    {
     "data": {
      "text/latex": [
       "$\\displaystyle \\left[\\begin{matrix}3 & 2 & 1 & 1\\\\2 & 3 & 1 & 0\\\\2 & 1 & 3 & 0\\end{matrix}\\right]$"
      ],
      "text/plain": [
       "Matrix([\n",
       "[3, 2, 1, 1],\n",
       "[2, 3, 1, 0],\n",
       "[2, 1, 3, 0]])"
      ]
     },
     "execution_count": 32,
     "metadata": {},
     "output_type": "execute_result"
    }
   ],
   "source": [
    "Ab=A.row_join(b)\n",
    "Ab"
   ]
  },
  {
   "cell_type": "code",
   "execution_count": 33,
   "id": "1765c99f",
   "metadata": {},
   "outputs": [
    {
     "data": {
      "text/latex": [
       "$\\displaystyle \\left[\\begin{matrix}1 & 0 & 0 & \\frac{2}{3}\\\\0 & 1 & 0 & - \\frac{1}{3}\\\\0 & 0 & 1 & - \\frac{1}{3}\\end{matrix}\\right]$"
      ],
      "text/plain": [
       "Matrix([\n",
       "[1, 0, 0,  2/3],\n",
       "[0, 1, 0, -1/3],\n",
       "[0, 0, 1, -1/3]])"
      ]
     },
     "execution_count": 33,
     "metadata": {},
     "output_type": "execute_result"
    }
   ],
   "source": [
    "rAb,piv=Ab.rref()\n",
    "rAb"
   ]
  },
  {
   "cell_type": "markdown",
   "id": "3940348d",
   "metadata": {},
   "source": [
    "Obtenemos que la solución es única: $x=2/3$, $y=-1/3$ y $z=-1/3$.\n",
    "\n",
    "En este caso los rangos de la matriz de coeficientes y de la matriz ampliada coinciden y son máximos."
   ]
  },
  {
   "cell_type": "code",
   "execution_count": 34,
   "id": "7283e608",
   "metadata": {},
   "outputs": [
    {
     "data": {
      "text/plain": [
       "3"
      ]
     },
     "execution_count": 34,
     "metadata": {},
     "output_type": "execute_result"
    }
   ],
   "source": [
    "A.rank()"
   ]
  },
  {
   "cell_type": "code",
   "execution_count": 35,
   "id": "32acd31a",
   "metadata": {},
   "outputs": [
    {
     "data": {
      "text/plain": [
       "3"
      ]
     },
     "execution_count": 35,
     "metadata": {},
     "output_type": "execute_result"
    }
   ],
   "source": [
    "Ab.rank()"
   ]
  },
  {
   "cell_type": "markdown",
   "id": "b45cd8e2",
   "metadata": {},
   "source": [
    "### Ejercicio\n",
    "\n",
    "*Discutir y resolver, en su caso, el sistema de ecuaciones lineales:*\n",
    "$$\n",
    "\\left\\{ \\begin{array}{rcl}\n",
    "3x +2y +z&= & 1, \\\\\n",
    "2x+3y+z &= & 0,\\\\\n",
    "x+ 4y+z &= & 0.\n",
    "\\end{array} \\right. \n",
    "$$"
   ]
  },
  {
   "cell_type": "code",
   "execution_count": 36,
   "id": "3ac03f5a",
   "metadata": {},
   "outputs": [],
   "source": [
    "A=Matrix([[3,2,1],[2,3,1],[1,4,1]])\n",
    "b=Matrix([1,0,0])"
   ]
  },
  {
   "cell_type": "code",
   "execution_count": 37,
   "id": "8e46bea5",
   "metadata": {},
   "outputs": [
    {
     "data": {
      "text/latex": [
       "$\\displaystyle \\emptyset$"
      ],
      "text/plain": [
       "EmptySet"
      ]
     },
     "execution_count": 37,
     "metadata": {},
     "output_type": "execute_result"
    }
   ],
   "source": [
    "linsolve((A,b))"
   ]
  },
  {
   "cell_type": "markdown",
   "id": "706bea6f",
   "metadata": {},
   "source": [
    "Que nos indica que el sistema no tiene solución."
   ]
  },
  {
   "cell_type": "markdown",
   "id": "46b4db69",
   "metadata": {},
   "source": [
    "Veamos cómo es la forma reducida por filas de la matriz ampliada."
   ]
  },
  {
   "cell_type": "code",
   "execution_count": 38,
   "id": "306b2ec7",
   "metadata": {},
   "outputs": [],
   "source": [
    "Ab=A.row_join(b)"
   ]
  },
  {
   "cell_type": "code",
   "execution_count": 39,
   "id": "ca7bc70f",
   "metadata": {},
   "outputs": [
    {
     "data": {
      "text/latex": [
       "$\\displaystyle \\left[\\begin{matrix}1 & 0 & \\frac{1}{5} & 0\\\\0 & 1 & \\frac{1}{5} & 0\\\\0 & 0 & 0 & 1\\end{matrix}\\right]$"
      ],
      "text/plain": [
       "Matrix([\n",
       "[1, 0, 1/5, 0],\n",
       "[0, 1, 1/5, 0],\n",
       "[0, 0,   0, 1]])"
      ]
     },
     "execution_count": 39,
     "metadata": {},
     "output_type": "execute_result"
    }
   ],
   "source": [
    "Ab.rref()[0]"
   ]
  },
  {
   "cell_type": "markdown",
   "id": "cfc06cb2",
   "metadata": {},
   "source": [
    "La incompatibilidad del sistema se aprecia en la última fila, que corresponde a una equación $0=1$.\n",
    "\n",
    "Podemos ver la incompatibilidad también estudiando los rangos de la matriz de coeficientes y de la ampliada."
   ]
  },
  {
   "cell_type": "code",
   "execution_count": 40,
   "id": "6b0eb191",
   "metadata": {},
   "outputs": [
    {
     "data": {
      "text/plain": [
       "2"
      ]
     },
     "execution_count": 40,
     "metadata": {},
     "output_type": "execute_result"
    }
   ],
   "source": [
    "A.rank()"
   ]
  },
  {
   "cell_type": "code",
   "execution_count": 41,
   "id": "0fc41a86",
   "metadata": {},
   "outputs": [
    {
     "data": {
      "text/plain": [
       "3"
      ]
     },
     "execution_count": 41,
     "metadata": {},
     "output_type": "execute_result"
    }
   ],
   "source": [
    "Ab.rank()"
   ]
  },
  {
   "cell_type": "markdown",
   "id": "0848e7f3",
   "metadata": {},
   "source": [
    "### Ejercicio\n",
    "\n",
    "*Discutir y resolver, en su caso, el sistema de ecuaciones lineales:*\n",
    "$$\n",
    "\\left\\{ \\begin{array}{rcl}\n",
    "3x +2y +z&= & 1, \\\\\n",
    "2x+3y+z &= & 2,\\\\\n",
    "x+ 4y+z &= & 3.\n",
    "\\end{array} \\right. \n",
    "$$"
   ]
  },
  {
   "cell_type": "code",
   "execution_count": 42,
   "id": "fd0a161e",
   "metadata": {},
   "outputs": [],
   "source": [
    "A=Matrix([[3,2,1],[2,3,1],[1,4,1]])\n",
    "b=Matrix([1,2,3])"
   ]
  },
  {
   "cell_type": "code",
   "execution_count": 43,
   "id": "1f030e48",
   "metadata": {},
   "outputs": [
    {
     "data": {
      "text/latex": [
       "$\\displaystyle \\left\\{\\left( - \\frac{\\tau_{0}}{5} - \\frac{1}{5}, \\  \\frac{4}{5} - \\frac{\\tau_{0}}{5}, \\  \\tau_{0}\\right)\\right\\}$"
      ],
      "text/plain": [
       "{(-tau0/5 - 1/5, 4/5 - tau0/5, tau0)}"
      ]
     },
     "execution_count": 43,
     "metadata": {},
     "output_type": "execute_result"
    }
   ],
   "source": [
    "linsolve((A,b))"
   ]
  },
  {
   "cell_type": "markdown",
   "id": "43d8f6e1",
   "metadata": {},
   "source": [
    "Por lo que el sistema tiene infinitas soluciones. Podemos tomar $z$ como parámatro. Y las soluciones son $x=-1/5-1/5z$, $y=4/5-1/5z$."
   ]
  },
  {
   "cell_type": "code",
   "execution_count": 44,
   "id": "a6ce1b58",
   "metadata": {},
   "outputs": [],
   "source": [
    "Ab=A.row_join(b)"
   ]
  },
  {
   "cell_type": "markdown",
   "id": "522ade38",
   "metadata": {},
   "source": [
    "Veamos que en este caso los rangos de la matriz de coeficientes y de la matriz ampliada coinciden, pero no son máximos."
   ]
  },
  {
   "cell_type": "code",
   "execution_count": 45,
   "id": "a4c3c95c",
   "metadata": {},
   "outputs": [
    {
     "data": {
      "text/plain": [
       "(2, 2)"
      ]
     },
     "execution_count": 45,
     "metadata": {},
     "output_type": "execute_result"
    }
   ],
   "source": [
    "(A.rank(),Ab.rank())"
   ]
  },
  {
   "cell_type": "markdown",
   "id": "b299f6f9",
   "metadata": {},
   "source": [
    "## Matriz inversa usando operaciones elementales por filas"
   ]
  },
  {
   "cell_type": "markdown",
   "id": "8e0cba77",
   "metadata": {},
   "source": [
    "### Ejercicio\n",
    "\n",
    "*Estudiar si la matriz*\n",
    "$$\n",
    " \\left(\\begin{array}{rrrr}\n",
    " 3 &  2 &  3 & 4 \\\\\n",
    " 3 &  2 &  2 &  3 \\\\\n",
    " 2 &  1 &  2  & 1 \\\\\n",
    " 0 & 1 & 1 & 0\n",
    " \\end{array}\\right)\n",
    "$$\n",
    "*es regular y en tal caso, calcular su matriz inversa.*"
   ]
  },
  {
   "cell_type": "code",
   "execution_count": 46,
   "id": "e07f851f",
   "metadata": {},
   "outputs": [],
   "source": [
    "A=Matrix([[3,2,3,4],[3,2,2,3],[2,1,2,1],[0,1,1,0]])"
   ]
  },
  {
   "cell_type": "markdown",
   "id": "01f18167",
   "metadata": {},
   "source": [
    "Si $A$ tiene inversa, la podemos calcular con `inv` o bien elevando a -1."
   ]
  },
  {
   "cell_type": "code",
   "execution_count": 47,
   "id": "5286c854",
   "metadata": {},
   "outputs": [
    {
     "data": {
      "text/latex": [
       "$\\displaystyle \\left[\\begin{matrix}- \\frac{1}{2} & \\frac{1}{2} & \\frac{1}{2} & - \\frac{1}{2}\\\\- \\frac{1}{2} & \\frac{5}{6} & - \\frac{1}{2} & \\frac{5}{6}\\\\\\frac{1}{2} & - \\frac{5}{6} & \\frac{1}{2} & \\frac{1}{6}\\\\\\frac{1}{2} & - \\frac{1}{6} & - \\frac{1}{2} & - \\frac{1}{6}\\end{matrix}\\right]$"
      ],
      "text/plain": [
       "Matrix([\n",
       "[-1/2,  1/2,  1/2, -1/2],\n",
       "[-1/2,  5/6, -1/2,  5/6],\n",
       "[ 1/2, -5/6,  1/2,  1/6],\n",
       "[ 1/2, -1/6, -1/2, -1/6]])"
      ]
     },
     "execution_count": 47,
     "metadata": {},
     "output_type": "execute_result"
    }
   ],
   "source": [
    "A.inv()"
   ]
  },
  {
   "cell_type": "code",
   "execution_count": 48,
   "id": "27f4034f",
   "metadata": {},
   "outputs": [
    {
     "data": {
      "text/latex": [
       "$\\displaystyle \\left[\\begin{matrix}- \\frac{1}{2} & \\frac{1}{2} & \\frac{1}{2} & - \\frac{1}{2}\\\\- \\frac{1}{2} & \\frac{5}{6} & - \\frac{1}{2} & \\frac{5}{6}\\\\\\frac{1}{2} & - \\frac{5}{6} & \\frac{1}{2} & \\frac{1}{6}\\\\\\frac{1}{2} & - \\frac{1}{6} & - \\frac{1}{2} & - \\frac{1}{6}\\end{matrix}\\right]$"
      ],
      "text/plain": [
       "Matrix([\n",
       "[-1/2,  1/2,  1/2, -1/2],\n",
       "[-1/2,  5/6, -1/2,  5/6],\n",
       "[ 1/2, -5/6,  1/2,  1/6],\n",
       "[ 1/2, -1/6, -1/2, -1/6]])"
      ]
     },
     "execution_count": 48,
     "metadata": {},
     "output_type": "execute_result"
    }
   ],
   "source": [
    "A**(-1)"
   ]
  },
  {
   "cell_type": "markdown",
   "id": "092bacb3",
   "metadata": {},
   "source": [
    "Veamos cómo se puede calcular utilizando la forma normal de Hermite por filas."
   ]
  },
  {
   "cell_type": "code",
   "execution_count": 49,
   "id": "aacd0b7c",
   "metadata": {},
   "outputs": [
    {
     "data": {
      "text/latex": [
       "$\\displaystyle \\left[\\begin{matrix}3 & 2 & 3 & 4 & 1 & 0 & 0 & 0\\\\3 & 2 & 2 & 3 & 0 & 1 & 0 & 0\\\\2 & 1 & 2 & 1 & 0 & 0 & 1 & 0\\\\0 & 1 & 1 & 0 & 0 & 0 & 0 & 1\\end{matrix}\\right]$"
      ],
      "text/plain": [
       "Matrix([\n",
       "[3, 2, 3, 4, 1, 0, 0, 0],\n",
       "[3, 2, 2, 3, 0, 1, 0, 0],\n",
       "[2, 1, 2, 1, 0, 0, 1, 0],\n",
       "[0, 1, 1, 0, 0, 0, 0, 1]])"
      ]
     },
     "execution_count": 49,
     "metadata": {},
     "output_type": "execute_result"
    }
   ],
   "source": [
    "AI=A.row_join(eye(4))\n",
    "AI"
   ]
  },
  {
   "cell_type": "code",
   "execution_count": 50,
   "id": "d10b05d9",
   "metadata": {},
   "outputs": [
    {
     "data": {
      "text/latex": [
       "$\\displaystyle \\left[\\begin{matrix}1 & 0 & 0 & 0 & - \\frac{1}{2} & \\frac{1}{2} & \\frac{1}{2} & - \\frac{1}{2}\\\\0 & 1 & 0 & 0 & - \\frac{1}{2} & \\frac{5}{6} & - \\frac{1}{2} & \\frac{5}{6}\\\\0 & 0 & 1 & 0 & \\frac{1}{2} & - \\frac{5}{6} & \\frac{1}{2} & \\frac{1}{6}\\\\0 & 0 & 0 & 1 & \\frac{1}{2} & - \\frac{1}{6} & - \\frac{1}{2} & - \\frac{1}{6}\\end{matrix}\\right]$"
      ],
      "text/plain": [
       "Matrix([\n",
       "[1, 0, 0, 0, -1/2,  1/2,  1/2, -1/2],\n",
       "[0, 1, 0, 0, -1/2,  5/6, -1/2,  5/6],\n",
       "[0, 0, 1, 0,  1/2, -5/6,  1/2,  1/6],\n",
       "[0, 0, 0, 1,  1/2, -1/6, -1/2, -1/6]])"
      ]
     },
     "execution_count": 50,
     "metadata": {},
     "output_type": "execute_result"
    }
   ],
   "source": [
    "rAI=AI.rref()[0]\n",
    "rAI"
   ]
  },
  {
   "cell_type": "markdown",
   "id": "6819ef53",
   "metadata": {},
   "source": [
    "Por tanto, la inversa es la submatriz formada por las últimas cuatro columnas. "
   ]
  },
  {
   "cell_type": "code",
   "execution_count": 51,
   "id": "88499353",
   "metadata": {},
   "outputs": [
    {
     "data": {
      "text/latex": [
       "$\\displaystyle \\left[\\begin{matrix}- \\frac{1}{2} & \\frac{1}{2} & \\frac{1}{2} & - \\frac{1}{2}\\\\- \\frac{1}{2} & \\frac{5}{6} & - \\frac{1}{2} & \\frac{5}{6}\\\\\\frac{1}{2} & - \\frac{5}{6} & \\frac{1}{2} & \\frac{1}{6}\\\\\\frac{1}{2} & - \\frac{1}{6} & - \\frac{1}{2} & - \\frac{1}{6}\\end{matrix}\\right]$"
      ],
      "text/plain": [
       "Matrix([\n",
       "[-1/2,  1/2,  1/2, -1/2],\n",
       "[-1/2,  5/6, -1/2,  5/6],\n",
       "[ 1/2, -5/6,  1/2,  1/6],\n",
       "[ 1/2, -1/6, -1/2, -1/6]])"
      ]
     },
     "execution_count": 51,
     "metadata": {},
     "output_type": "execute_result"
    }
   ],
   "source": [
    "rAI[:,4:9]"
   ]
  },
  {
   "cell_type": "markdown",
   "id": "9e26a670",
   "metadata": {},
   "source": [
    "### Ejercicio\n",
    "\n",
    "*Estudiar si la matriz*\n",
    "$$\n",
    " \\left(\\begin{array}{rrrr}\n",
    " 1 &  2 &  3 & 4 \\\\\n",
    " 0 &  1 &   2 &  3 \\\\\n",
    " 1 &  0 &  2  &  0 \\\\\n",
    " 1 & 1 & 1 & 1\n",
    " \\end{array}\\right)\n",
    "$$\n",
    "*es regular y en tal caso, calcular su matriz inversa.*"
   ]
  },
  {
   "cell_type": "code",
   "execution_count": 52,
   "id": "a00adcaf",
   "metadata": {},
   "outputs": [
    {
     "data": {
      "text/latex": [
       "$\\displaystyle \\left[\\begin{matrix}1 & 2 & 3 & 4\\\\0 & 1 & 2 & 3\\\\1 & 0 & 2 & 0\\\\1 & 1 & 1 & 1\\end{matrix}\\right]$"
      ],
      "text/plain": [
       "Matrix([\n",
       "[1, 2, 3, 4],\n",
       "[0, 1, 2, 3],\n",
       "[1, 0, 2, 0],\n",
       "[1, 1, 1, 1]])"
      ]
     },
     "execution_count": 52,
     "metadata": {},
     "output_type": "execute_result"
    }
   ],
   "source": [
    "A=Matrix([(1,2,3,4),(0,1,2,3),(1,0,2,0),(1,1,1,1)])\n",
    "A"
   ]
  },
  {
   "cell_type": "code",
   "execution_count": 53,
   "id": "4db849c9",
   "metadata": {},
   "outputs": [
    {
     "data": {
      "text/plain": [
       "3"
      ]
     },
     "execution_count": 53,
     "metadata": {},
     "output_type": "execute_result"
    }
   ],
   "source": [
    "A.rank()"
   ]
  },
  {
   "cell_type": "markdown",
   "id": "691a4ea5",
   "metadata": {},
   "source": [
    "Luego no tiene inversa. \n",
    "\n",
    "Veamos qué aspecto tiene la forma normal reducida por filas cuando le añadimos la identidad."
   ]
  },
  {
   "cell_type": "code",
   "execution_count": 54,
   "id": "f8aa842f",
   "metadata": {},
   "outputs": [
    {
     "data": {
      "text/latex": [
       "$\\displaystyle \\left[\\begin{matrix}1 & 0 & 0 & - \\frac{4}{3} & 0 & - \\frac{2}{3} & \\frac{1}{3} & \\frac{2}{3}\\\\0 & 1 & 0 & \\frac{5}{3} & 0 & \\frac{1}{3} & - \\frac{2}{3} & \\frac{2}{3}\\\\0 & 0 & 1 & \\frac{2}{3} & 0 & \\frac{1}{3} & \\frac{1}{3} & - \\frac{1}{3}\\\\0 & 0 & 0 & 0 & 1 & -1 & 0 & -1\\end{matrix}\\right]$"
      ],
      "text/plain": [
       "Matrix([\n",
       "[1, 0, 0, -4/3, 0, -2/3,  1/3,  2/3],\n",
       "[0, 1, 0,  5/3, 0,  1/3, -2/3,  2/3],\n",
       "[0, 0, 1,  2/3, 0,  1/3,  1/3, -1/3],\n",
       "[0, 0, 0,    0, 1,   -1,    0,   -1]])"
      ]
     },
     "execution_count": 54,
     "metadata": {},
     "output_type": "execute_result"
    }
   ],
   "source": [
    "A.row_join(eye(4)).rref()[0]"
   ]
  },
  {
   "cell_type": "markdown",
   "id": "3709a9ee",
   "metadata": {},
   "source": [
    "La última fila muestra que la matriz no puede tener inversa."
   ]
  },
  {
   "cell_type": "markdown",
   "id": "c151d293",
   "metadata": {},
   "source": [
    "## Matriz de paso entre dos matrices equivalentes por filas"
   ]
  },
  {
   "cell_type": "markdown",
   "id": "1ce237b6",
   "metadata": {},
   "source": [
    "### Ejercicio\n",
    "\n",
    "*Estudiar si las matrices:*\n",
    "$$\n",
    "A=\n",
    " \\left(\\begin{array}{rrrr}\n",
    "  1 &  1 & 1 & 1 \\\\\n",
    "  0 &  1 & 1 & 1 \\\\\n",
    "  0 &  0 & 1 & 1 \\\\\n",
    " \\end{array}\\right)\n",
    " ; \\;\\;\n",
    "B=\n",
    " \\left(\\begin{array}{rrrr}\n",
    "  1 & 0 &  0 &  0 \\\\\n",
    "  1 & 1 &  0 &  0 \\\\\n",
    "  1 & 1 &  1 &  1 \\\\\n",
    " \\end{array}\\right)\n",
    "$$\n",
    "*son equivalentes por filas, y en tal caso determinar una matriz regular $Q$ de forma que $A=Q\\cdot B$.*"
   ]
  },
  {
   "cell_type": "code",
   "execution_count": 55,
   "id": "09090959",
   "metadata": {},
   "outputs": [
    {
     "data": {
      "text/latex": [
       "$\\displaystyle \\left[\\begin{matrix}1 & 1 & 1 & 1\\\\0 & 1 & 1 & 1\\\\0 & 0 & 1 & 1\\end{matrix}\\right]$"
      ],
      "text/plain": [
       "Matrix([\n",
       "[1, 1, 1, 1],\n",
       "[0, 1, 1, 1],\n",
       "[0, 0, 1, 1]])"
      ]
     },
     "execution_count": 55,
     "metadata": {},
     "output_type": "execute_result"
    }
   ],
   "source": [
    "A=Matrix(3,4, [1,1,1,1,0,1,1,1,0,0,1,1])\n",
    "A"
   ]
  },
  {
   "cell_type": "code",
   "execution_count": 56,
   "id": "440ce447",
   "metadata": {},
   "outputs": [
    {
     "data": {
      "text/latex": [
       "$\\displaystyle \\left[\\begin{matrix}1 & 0 & 0 & 0\\\\1 & 1 & 0 & 0\\\\1 & 1 & 1 & 1\\end{matrix}\\right]$"
      ],
      "text/plain": [
       "Matrix([\n",
       "[1, 0, 0, 0],\n",
       "[1, 1, 0, 0],\n",
       "[1, 1, 1, 1]])"
      ]
     },
     "execution_count": 56,
     "metadata": {},
     "output_type": "execute_result"
    }
   ],
   "source": [
    "B=Matrix([(1,0,0,0),(1,1,0,0),(1,1,1,1)])\n",
    "B"
   ]
  },
  {
   "cell_type": "markdown",
   "id": "b40867a9",
   "metadata": {},
   "source": [
    "Veamos cómo son sus formas normales de Hermite por filas."
   ]
  },
  {
   "cell_type": "code",
   "execution_count": 57,
   "id": "3c82d703",
   "metadata": {},
   "outputs": [
    {
     "data": {
      "text/latex": [
       "$\\displaystyle \\left[\\begin{matrix}1 & 0 & 0 & 0\\\\0 & 1 & 0 & 0\\\\0 & 0 & 1 & 1\\end{matrix}\\right]$"
      ],
      "text/plain": [
       "Matrix([\n",
       "[1, 0, 0, 0],\n",
       "[0, 1, 0, 0],\n",
       "[0, 0, 1, 1]])"
      ]
     },
     "execution_count": 57,
     "metadata": {},
     "output_type": "execute_result"
    }
   ],
   "source": [
    "A.rref()[0]"
   ]
  },
  {
   "cell_type": "code",
   "execution_count": 58,
   "id": "44b6d744",
   "metadata": {},
   "outputs": [
    {
     "data": {
      "text/latex": [
       "$\\displaystyle \\left[\\begin{matrix}1 & 0 & 0 & 0\\\\0 & 1 & 0 & 0\\\\0 & 0 & 1 & 1\\end{matrix}\\right]$"
      ],
      "text/plain": [
       "Matrix([\n",
       "[1, 0, 0, 0],\n",
       "[0, 1, 0, 0],\n",
       "[0, 0, 1, 1]])"
      ]
     },
     "execution_count": 58,
     "metadata": {},
     "output_type": "execute_result"
    }
   ],
   "source": [
    "B.rref(pivots=False)"
   ]
  },
  {
   "cell_type": "markdown",
   "id": "0adf2173",
   "metadata": {},
   "source": [
    "Ahora calculemos la matriz $Q$ del enunciado. Para ello buscamos las matrices $Q_A$ y $Q_B$ tales que $Q_A A$ y $Q_B B$ estén en forma normal reducida por filas."
   ]
  },
  {
   "cell_type": "code",
   "execution_count": 59,
   "id": "a8962a0c",
   "metadata": {},
   "outputs": [
    {
     "data": {
      "text/latex": [
       "$\\displaystyle \\left[\\begin{matrix}1 & 0 & 0 & 0 & 1 & -1 & 0\\\\0 & 1 & 0 & 0 & 0 & 1 & -1\\\\0 & 0 & 1 & 1 & 0 & 0 & 1\\end{matrix}\\right]$"
      ],
      "text/plain": [
       "Matrix([\n",
       "[1, 0, 0, 0, 1, -1,  0],\n",
       "[0, 1, 0, 0, 0,  1, -1],\n",
       "[0, 0, 1, 1, 0,  0,  1]])"
      ]
     },
     "execution_count": 59,
     "metadata": {},
     "output_type": "execute_result"
    }
   ],
   "source": [
    "rAI=A.row_join(eye(3)).rref(pivots=False)\n",
    "rAI"
   ]
  },
  {
   "cell_type": "code",
   "execution_count": 60,
   "id": "baef6025",
   "metadata": {},
   "outputs": [
    {
     "data": {
      "text/latex": [
       "$\\displaystyle \\left[\\begin{matrix}1 & -1 & 0\\\\0 & 1 & -1\\\\0 & 0 & 1\\end{matrix}\\right]$"
      ],
      "text/plain": [
       "Matrix([\n",
       "[1, -1,  0],\n",
       "[0,  1, -1],\n",
       "[0,  0,  1]])"
      ]
     },
     "execution_count": 60,
     "metadata": {},
     "output_type": "execute_result"
    }
   ],
   "source": [
    "QA=rAI[:,4:]\n",
    "QA"
   ]
  },
  {
   "cell_type": "code",
   "execution_count": 61,
   "id": "465ca535",
   "metadata": {},
   "outputs": [
    {
     "data": {
      "text/latex": [
       "$\\displaystyle \\left[\\begin{matrix}1 & 0 & 0\\\\-1 & 1 & 0\\\\0 & -1 & 1\\end{matrix}\\right]$"
      ],
      "text/plain": [
       "Matrix([\n",
       "[ 1,  0, 0],\n",
       "[-1,  1, 0],\n",
       "[ 0, -1, 1]])"
      ]
     },
     "execution_count": 61,
     "metadata": {},
     "output_type": "execute_result"
    }
   ],
   "source": [
    "QB=(B.row_join(eye(3)).rref(pivots=False))[:,4:]\n",
    "QB"
   ]
  },
  {
   "cell_type": "markdown",
   "id": "691ef940",
   "metadata": {},
   "source": [
    "Sabemos que $Q_A A = Q_B B$, por lo que la matriz $Q$ que buscamos es $Q_A^{-1}Q_B$."
   ]
  },
  {
   "cell_type": "code",
   "execution_count": 62,
   "id": "be305518",
   "metadata": {},
   "outputs": [
    {
     "data": {
      "text/latex": [
       "$\\displaystyle \\left[\\begin{matrix}0 & 0 & 1\\\\-1 & 0 & 1\\\\0 & -1 & 1\\end{matrix}\\right]$"
      ],
      "text/plain": [
       "Matrix([\n",
       "[ 0,  0, 1],\n",
       "[-1,  0, 1],\n",
       "[ 0, -1, 1]])"
      ]
     },
     "execution_count": 62,
     "metadata": {},
     "output_type": "execute_result"
    }
   ],
   "source": [
    "Q=QA**(-1)*QB\n",
    "Q"
   ]
  },
  {
   "cell_type": "markdown",
   "id": "7307092c",
   "metadata": {},
   "source": [
    "Finalmente, comprobamos que $QB$ es $A$."
   ]
  },
  {
   "cell_type": "code",
   "execution_count": 63,
   "id": "05193817",
   "metadata": {},
   "outputs": [
    {
     "data": {
      "text/plain": [
       "True"
      ]
     },
     "execution_count": 63,
     "metadata": {},
     "output_type": "execute_result"
    }
   ],
   "source": [
    "Q*B==A"
   ]
  },
  {
   "cell_type": "markdown",
   "id": "92ea5697",
   "metadata": {},
   "source": [
    "## Determinantes y operaciones elementales"
   ]
  },
  {
   "cell_type": "markdown",
   "id": "39fc8119",
   "metadata": {},
   "source": [
    "### Ejercicio\n",
    "\n",
    "*Calcular el determinante*\n",
    "$$\n",
    "\\left|\n",
    "\\begin{array}{rrrr}\n",
    "1 & 1/2 & 1/3 & 1/5\\\\\n",
    "-1 & 1/2 & -1/3 & -1/5\\\\\n",
    "1 & 1/2 & 4/3 & 1/5\\\\\n",
    "2 & 1 & 2/3 & 11/5\\\\\n",
    "\\end{array}\n",
    "\\right|.\n",
    "$$"
   ]
  },
  {
   "cell_type": "code",
   "execution_count": 64,
   "id": "724f5e89",
   "metadata": {
    "scrolled": true
   },
   "outputs": [
    {
     "data": {
      "text/latex": [
       "$\\displaystyle \\left[\\begin{matrix}1 & 0.5 & 0.333333333333333 & 0.2\\\\-1 & 0.5 & -0.333333333333333 & -0.2\\\\1 & 0.5 & 1.33333333333333 & 0.2\\\\2 & 1 & 0.666666666666667 & 2.2\\end{matrix}\\right]$"
      ],
      "text/plain": [
       "Matrix([\n",
       "[ 1, 0.5,  0.333333333333333,  0.2],\n",
       "[-1, 0.5, -0.333333333333333, -0.2],\n",
       "[ 1, 0.5,   1.33333333333333,  0.2],\n",
       "[ 2,   1,  0.666666666666667,  2.2]])"
      ]
     },
     "execution_count": 64,
     "metadata": {},
     "output_type": "execute_result"
    }
   ],
   "source": [
    "A=Matrix([(1,1/2,1/3,1/5),(-1,1/2,-1/3,-1/5),(1,1/2,4/3,1/5),(2,1,2/3,11/5)])\n",
    "A"
   ]
  },
  {
   "cell_type": "code",
   "execution_count": 65,
   "id": "5a508f59",
   "metadata": {},
   "outputs": [],
   "source": [
    "from sympy import Rational,S,Integer"
   ]
  },
  {
   "cell_type": "code",
   "execution_count": 66,
   "id": "a998d412",
   "metadata": {},
   "outputs": [
    {
     "data": {
      "text/plain": [
       "0.5"
      ]
     },
     "execution_count": 66,
     "metadata": {},
     "output_type": "execute_result"
    }
   ],
   "source": [
    "1/2"
   ]
  },
  {
   "cell_type": "code",
   "execution_count": 67,
   "id": "513a9a55",
   "metadata": {},
   "outputs": [
    {
     "data": {
      "text/latex": [
       "$\\displaystyle \\frac{1}{2}$"
      ],
      "text/plain": [
       "1/2"
      ]
     },
     "execution_count": 67,
     "metadata": {},
     "output_type": "execute_result"
    }
   ],
   "source": [
    "Integer(1)/2"
   ]
  },
  {
   "cell_type": "code",
   "execution_count": 68,
   "id": "4cea1e45",
   "metadata": {},
   "outputs": [
    {
     "data": {
      "text/latex": [
       "$\\displaystyle \\frac{1}{2}$"
      ],
      "text/plain": [
       "1/2"
      ]
     },
     "execution_count": 68,
     "metadata": {},
     "output_type": "execute_result"
    }
   ],
   "source": [
    "S(1)/2"
   ]
  },
  {
   "cell_type": "code",
   "execution_count": 69,
   "id": "660cc461",
   "metadata": {},
   "outputs": [
    {
     "data": {
      "text/latex": [
       "$\\displaystyle \\frac{1}{2}$"
      ],
      "text/plain": [
       "1/2"
      ]
     },
     "execution_count": 69,
     "metadata": {},
     "output_type": "execute_result"
    }
   ],
   "source": [
    "Rational(1/2)"
   ]
  },
  {
   "cell_type": "code",
   "execution_count": 70,
   "id": "a737b9a1",
   "metadata": {
    "scrolled": true
   },
   "outputs": [
    {
     "data": {
      "text/latex": [
       "$\\displaystyle \\frac{1}{2}$"
      ],
      "text/plain": [
       "1/2"
      ]
     },
     "execution_count": 70,
     "metadata": {},
     "output_type": "execute_result"
    }
   ],
   "source": [
    "Rational(\"1/2\")"
   ]
  },
  {
   "cell_type": "code",
   "execution_count": 71,
   "id": "2cbedf05",
   "metadata": {},
   "outputs": [
    {
     "data": {
      "text/latex": [
       "$\\displaystyle \\frac{1}{2}$"
      ],
      "text/plain": [
       "1/2"
      ]
     },
     "execution_count": 71,
     "metadata": {},
     "output_type": "execute_result"
    }
   ],
   "source": [
    "Rational(1,2)"
   ]
  },
  {
   "cell_type": "markdown",
   "id": "d47184bc",
   "metadata": {},
   "source": [
    "En `sympy` podemos utilizar `det` para calcular el determinante de una matriz."
   ]
  },
  {
   "cell_type": "code",
   "execution_count": 72,
   "id": "1a70ae9d",
   "metadata": {},
   "outputs": [
    {
     "data": {
      "text/latex": [
       "$\\displaystyle 1.8$"
      ],
      "text/plain": [
       "1.80000000000000"
      ]
     },
     "execution_count": 72,
     "metadata": {},
     "output_type": "execute_result"
    }
   ],
   "source": [
    "A.det()"
   ]
  },
  {
   "cell_type": "code",
   "execution_count": 73,
   "id": "01c080a7",
   "metadata": {},
   "outputs": [
    {
     "data": {
      "text/latex": [
       "$\\displaystyle \\left[\\begin{matrix}1 & \\frac{1}{2} & \\frac{1}{3} & \\frac{1}{5}\\\\-1 & \\frac{1}{2} & - \\frac{1}{3} & - \\frac{1}{5}\\\\1 & \\frac{1}{2} & \\frac{4}{3} & \\frac{1}{5}\\\\2 & 1 & \\frac{2}{3} & \\frac{11}{5}\\end{matrix}\\right]$"
      ],
      "text/plain": [
       "Matrix([\n",
       "[ 1, 1/2,  1/3,  1/5],\n",
       "[-1, 1/2, -1/3, -1/5],\n",
       "[ 1, 1/2,  4/3,  1/5],\n",
       "[ 2,   1,  2/3, 11/5]])"
      ]
     },
     "execution_count": 73,
     "metadata": {},
     "output_type": "execute_result"
    }
   ],
   "source": [
    "u=Integer(1)\n",
    "A=Matrix([(u,u/2,u/3,u/5),(-1,u/2,-u/3,-u/5),(u,u/2,u*4/3,u/5),(2,1,u*2/3,u*11/5)])\n",
    "A"
   ]
  },
  {
   "cell_type": "code",
   "execution_count": 74,
   "id": "1bea7d18",
   "metadata": {},
   "outputs": [
    {
     "data": {
      "text/latex": [
       "$\\displaystyle \\frac{9}{5}$"
      ],
      "text/plain": [
       "9/5"
      ]
     },
     "execution_count": 74,
     "metadata": {},
     "output_type": "execute_result"
    }
   ],
   "source": [
    "A.det()"
   ]
  },
  {
   "cell_type": "markdown",
   "id": "215ef207",
   "metadata": {},
   "source": [
    "Hagamos operaciones elementales por filas que no alteren el determinante de forma que lleguemos a una matriz triangular."
   ]
  },
  {
   "cell_type": "code",
   "execution_count": 75,
   "id": "3ed5e34a",
   "metadata": {},
   "outputs": [
    {
     "data": {
      "text/latex": [
       "$\\displaystyle \\left[\\begin{matrix}1 & \\frac{1}{2} & \\frac{1}{3} & \\frac{1}{5}\\\\-1 & \\frac{1}{2} & - \\frac{1}{3} & - \\frac{1}{5}\\\\1 & \\frac{1}{2} & \\frac{4}{3} & \\frac{1}{5}\\\\2 & 1 & \\frac{2}{3} & \\frac{11}{5}\\end{matrix}\\right]$"
      ],
      "text/plain": [
       "Matrix([\n",
       "[ 1, 1/2,  1/3,  1/5],\n",
       "[-1, 1/2, -1/3, -1/5],\n",
       "[ 1, 1/2,  4/3,  1/5],\n",
       "[ 2,   1,  2/3, 11/5]])"
      ]
     },
     "execution_count": 75,
     "metadata": {},
     "output_type": "execute_result"
    }
   ],
   "source": [
    "A"
   ]
  },
  {
   "cell_type": "markdown",
   "id": "20a0e0f9",
   "metadata": {},
   "source": [
    "Vamos a conseguir ceros debajo de la primera posición de la primera fila. Para ello empezamos cambiando la segunda fila por la suma de las dos primeras files (lo que no altera el valor del determinante). Hay que tener cuidado con los índices, pues en `python` empiezan a contar desde cero."
   ]
  },
  {
   "cell_type": "markdown",
   "id": "19c9c751",
   "metadata": {},
   "source": [
    "El método `elementary_row_operation` nos permite hacer esto."
   ]
  },
  {
   "cell_type": "code",
   "execution_count": 76,
   "id": "004448e7",
   "metadata": {
    "scrolled": true
   },
   "outputs": [
    {
     "data": {
      "text/latex": [
       "$\\displaystyle \\left[\\begin{matrix}1 & \\frac{1}{2} & \\frac{1}{3} & \\frac{1}{5}\\\\0 & 1 & 0 & 0\\\\1 & \\frac{1}{2} & \\frac{4}{3} & \\frac{1}{5}\\\\2 & 1 & \\frac{2}{3} & \\frac{11}{5}\\end{matrix}\\right]$"
      ],
      "text/plain": [
       "Matrix([\n",
       "[1, 1/2, 1/3,  1/5],\n",
       "[0,   1,   0,    0],\n",
       "[1, 1/2, 4/3,  1/5],\n",
       "[2,   1, 2/3, 11/5]])"
      ]
     },
     "execution_count": 76,
     "metadata": {},
     "output_type": "execute_result"
    }
   ],
   "source": [
    "A.elementary_row_op(op=\"n->n+km\",k=1,row=1,row2=0)"
   ]
  },
  {
   "cell_type": "markdown",
   "id": "377b7fd6",
   "metadata": {},
   "source": [
    "Pero si no queremos conservar la matriz original, podemos simplemente sumar las filas correspondientes."
   ]
  },
  {
   "cell_type": "code",
   "execution_count": 77,
   "id": "4b2422f7",
   "metadata": {},
   "outputs": [
    {
     "data": {
      "text/latex": [
       "$\\displaystyle \\left[\\begin{matrix}1 & \\frac{1}{2} & \\frac{1}{3} & \\frac{1}{5}\\\\0 & 1 & 0 & 0\\\\1 & \\frac{1}{2} & \\frac{4}{3} & \\frac{1}{5}\\\\2 & 1 & \\frac{2}{3} & \\frac{11}{5}\\end{matrix}\\right]$"
      ],
      "text/plain": [
       "Matrix([\n",
       "[1, 1/2, 1/3,  1/5],\n",
       "[0,   1,   0,    0],\n",
       "[1, 1/2, 4/3,  1/5],\n",
       "[2,   1, 2/3, 11/5]])"
      ]
     },
     "execution_count": 77,
     "metadata": {},
     "output_type": "execute_result"
    }
   ],
   "source": [
    "A[1,:]=A[1,:]+A[0,:]\n",
    "A"
   ]
  },
  {
   "cell_type": "markdown",
   "id": "f3ad9791",
   "metadata": {},
   "source": [
    "Ahora cambiamos la tercera por la diferencia de la tercera con la primera."
   ]
  },
  {
   "cell_type": "code",
   "execution_count": 78,
   "id": "487f9215",
   "metadata": {},
   "outputs": [
    {
     "data": {
      "text/latex": [
       "$\\displaystyle \\left[\\begin{matrix}1 & \\frac{1}{2} & \\frac{1}{3} & \\frac{1}{5}\\\\0 & 1 & 0 & 0\\\\0 & 0 & 1 & 0\\\\2 & 1 & \\frac{2}{3} & \\frac{11}{5}\\end{matrix}\\right]$"
      ],
      "text/plain": [
       "Matrix([\n",
       "[1, 1/2, 1/3,  1/5],\n",
       "[0,   1,   0,    0],\n",
       "[0,   0,   1,    0],\n",
       "[2,   1, 2/3, 11/5]])"
      ]
     },
     "execution_count": 78,
     "metadata": {},
     "output_type": "execute_result"
    }
   ],
   "source": [
    "A[2,:]=A[2,:]-A[0,:]\n",
    "A"
   ]
  },
  {
   "cell_type": "markdown",
   "id": "bcb5e16e",
   "metadata": {},
   "source": [
    "Y la cuarta por la diferencia de la cuarta por dos veces la primera."
   ]
  },
  {
   "cell_type": "code",
   "execution_count": 79,
   "id": "4bec8436",
   "metadata": {},
   "outputs": [
    {
     "data": {
      "text/latex": [
       "$\\displaystyle \\left[\\begin{matrix}1 & \\frac{1}{2} & \\frac{1}{3} & \\frac{1}{5}\\\\0 & 1 & 0 & 0\\\\0 & 0 & 1 & 0\\\\0 & 0 & 0 & \\frac{9}{5}\\end{matrix}\\right]$"
      ],
      "text/plain": [
       "Matrix([\n",
       "[1, 1/2, 1/3, 1/5],\n",
       "[0,   1,   0,   0],\n",
       "[0,   0,   1,   0],\n",
       "[0,   0,   0, 9/5]])"
      ]
     },
     "execution_count": 79,
     "metadata": {},
     "output_type": "execute_result"
    }
   ],
   "source": [
    "A[3,:]=A[3,:]-2*A[0,:]\n",
    "A"
   ]
  },
  {
   "cell_type": "markdown",
   "id": "efcb5772",
   "metadata": {},
   "source": [
    "La matriz ya es triangular, con lo que el determinante es el producto de los elementos de la diagonal."
   ]
  },
  {
   "cell_type": "code",
   "execution_count": 80,
   "id": "e1df1f84",
   "metadata": {},
   "outputs": [
    {
     "data": {
      "text/latex": [
       "$\\displaystyle \\left[\\begin{matrix}1 & 1 & 1 & \\frac{9}{5}\\end{matrix}\\right]$"
      ],
      "text/plain": [
       "Matrix([[1, 1, 1, 9/5]])"
      ]
     },
     "execution_count": 80,
     "metadata": {},
     "output_type": "execute_result"
    }
   ],
   "source": [
    "A.diagonal()"
   ]
  },
  {
   "cell_type": "code",
   "execution_count": 81,
   "id": "b37bc011",
   "metadata": {},
   "outputs": [
    {
     "data": {
      "text/latex": [
       "$\\displaystyle \\frac{9}{5}$"
      ],
      "text/plain": [
       "9/5"
      ]
     },
     "execution_count": 81,
     "metadata": {},
     "output_type": "execute_result"
    }
   ],
   "source": [
    "A.det()"
   ]
  },
  {
   "cell_type": "code",
   "execution_count": 82,
   "id": "c7e53e24",
   "metadata": {},
   "outputs": [],
   "source": [
    "from functools import reduce"
   ]
  },
  {
   "cell_type": "code",
   "execution_count": 83,
   "id": "0b7ec192",
   "metadata": {
    "scrolled": true
   },
   "outputs": [
    {
     "data": {
      "text/latex": [
       "$\\displaystyle \\frac{9}{5}$"
      ],
      "text/plain": [
       "9/5"
      ]
     },
     "execution_count": 83,
     "metadata": {},
     "output_type": "execute_result"
    }
   ],
   "source": [
    "reduce(lambda x,y:x*y,list(A.diagonal()))"
   ]
  },
  {
   "cell_type": "markdown",
   "id": "8cc0b0b5",
   "metadata": {},
   "source": [
    "### Ejercicio\n",
    "\n",
    "*Calcular el determinante dependiendo de los valores de los parámetros $a$ y $b$. Decidir para qué valores es cero.*\n",
    "$$\n",
    "\\left|\n",
    "\\begin{array}{rrr}\n",
    "1-b & 1-a & a-1\\\\\n",
    "-1 & 2-a-b & a\\\\\n",
    "-1 & 1-a & a+1-b\\\\\n",
    "\\end{array}\n",
    "\\right|.\n",
    "$$"
   ]
  },
  {
   "cell_type": "markdown",
   "id": "c8b2e1e1",
   "metadata": {},
   "source": [
    "Empezamos definiendo dos símbolos, `a` y `b`"
   ]
  },
  {
   "cell_type": "code",
   "execution_count": 84,
   "id": "dd590605",
   "metadata": {},
   "outputs": [],
   "source": [
    "from sympy import symbols"
   ]
  },
  {
   "cell_type": "code",
   "execution_count": 85,
   "id": "165da6bf",
   "metadata": {},
   "outputs": [
    {
     "data": {
      "text/plain": [
       "(a, b)"
      ]
     },
     "execution_count": 85,
     "metadata": {},
     "output_type": "execute_result"
    }
   ],
   "source": [
    "a,b =symbols(\"a,b\")\n",
    "a,b"
   ]
  },
  {
   "cell_type": "code",
   "execution_count": 86,
   "id": "9f8eccc4",
   "metadata": {},
   "outputs": [
    {
     "data": {
      "text/latex": [
       "$\\displaystyle \\left[\\begin{matrix}1 - b & 1 - a & a - 1\\\\-1 & - a - b + 2 & a\\\\-1 & 1 - a & a - b + 1\\end{matrix}\\right]$"
      ],
      "text/plain": [
       "Matrix([\n",
       "[1 - b,      1 - a,     a - 1],\n",
       "[   -1, -a - b + 2,         a],\n",
       "[   -1,      1 - a, a - b + 1]])"
      ]
     },
     "execution_count": 86,
     "metadata": {},
     "output_type": "execute_result"
    }
   ],
   "source": [
    "A=Matrix([[1-b,1-a,a-1],[-1,2-a-b,a],[-1,1-a,a+1-b]])\n",
    "A"
   ]
  },
  {
   "cell_type": "code",
   "execution_count": 87,
   "id": "0db65d23",
   "metadata": {},
   "outputs": [
    {
     "data": {
      "text/latex": [
       "$\\displaystyle - b^{3} + 4 b^{2} - 5 b + 2$"
      ],
      "text/plain": [
       "-b**3 + 4*b**2 - 5*b + 2"
      ]
     },
     "execution_count": 87,
     "metadata": {},
     "output_type": "execute_result"
    }
   ],
   "source": [
    "p=A.det()\n",
    "p"
   ]
  },
  {
   "cell_type": "markdown",
   "id": "790662f9",
   "metadata": {},
   "source": [
    "Usamos `factor` para factorizar."
   ]
  },
  {
   "cell_type": "code",
   "execution_count": 88,
   "id": "185e8deb",
   "metadata": {},
   "outputs": [
    {
     "data": {
      "text/latex": [
       "$\\displaystyle - \\left(b - 2\\right) \\left(b - 1\\right)^{2}$"
      ],
      "text/plain": [
       "-(b - 2)*(b - 1)**2"
      ]
     },
     "execution_count": 88,
     "metadata": {},
     "output_type": "execute_result"
    }
   ],
   "source": [
    "p.factor()"
   ]
  },
  {
   "cell_type": "markdown",
   "id": "83b3d72a",
   "metadata": {},
   "source": [
    "Por lo que sabemos que el determinante se anula para los valores de $b=2$ y $b=1$, pero no depende de $a$."
   ]
  },
  {
   "cell_type": "markdown",
   "id": "dc579698",
   "metadata": {},
   "source": [
    "Podríamos usar el comando `solve` para encontrar las raíces del determinante de la matriz."
   ]
  },
  {
   "cell_type": "code",
   "execution_count": 89,
   "id": "0b89e000",
   "metadata": {},
   "outputs": [],
   "source": [
    "from sympy import solve"
   ]
  },
  {
   "cell_type": "code",
   "execution_count": 90,
   "id": "6bbcc582",
   "metadata": {},
   "outputs": [
    {
     "data": {
      "text/plain": [
       "[1, 2]"
      ]
     },
     "execution_count": 90,
     "metadata": {},
     "output_type": "execute_result"
    }
   ],
   "source": [
    "solve(p)"
   ]
  },
  {
   "cell_type": "markdown",
   "id": "e34ea853",
   "metadata": {},
   "source": [
    "Veamos ahora cómo podemos hacer operaciones elementales por filas y columnas con `A` tal y como lo hemos definido. Vamos a crear una nueva matriz para no perder la matriz original. No podemos hacer `B=A`, pues cualquier cambio en `B` se haría en `A` (al ser básicamente listas); usamos el método `copy`."
   ]
  },
  {
   "cell_type": "code",
   "execution_count": 91,
   "id": "ad3c03be",
   "metadata": {},
   "outputs": [],
   "source": [
    "B=A.copy()"
   ]
  },
  {
   "cell_type": "code",
   "execution_count": 92,
   "id": "2749650c",
   "metadata": {},
   "outputs": [
    {
     "data": {
      "text/latex": [
       "$\\displaystyle \\left[\\begin{matrix}1 - b & 1 - a & a - 1\\\\-1 & - a - b + 2 & a\\\\-1 & 1 - a & a - b + 1\\end{matrix}\\right]$"
      ],
      "text/plain": [
       "Matrix([\n",
       "[1 - b,      1 - a,     a - 1],\n",
       "[   -1, -a - b + 2,         a],\n",
       "[   -1,      1 - a, a - b + 1]])"
      ]
     },
     "execution_count": 92,
     "metadata": {},
     "output_type": "execute_result"
    }
   ],
   "source": [
    "B"
   ]
  },
  {
   "cell_type": "markdown",
   "id": "8fd22075",
   "metadata": {},
   "source": [
    "Le restamos a la tercera fila la segunda."
   ]
  },
  {
   "cell_type": "code",
   "execution_count": 93,
   "id": "38249f31",
   "metadata": {
    "scrolled": true
   },
   "outputs": [
    {
     "data": {
      "text/latex": [
       "$\\displaystyle \\left[\\begin{matrix}1 - b & 1 - a & a - 1\\\\-1 & - a - b + 2 & a\\\\0 & b - 1 & 1 - b\\end{matrix}\\right]$"
      ],
      "text/plain": [
       "Matrix([\n",
       "[1 - b,      1 - a, a - 1],\n",
       "[   -1, -a - b + 2,     a],\n",
       "[    0,      b - 1, 1 - b]])"
      ]
     },
     "execution_count": 93,
     "metadata": {},
     "output_type": "execute_result"
    }
   ],
   "source": [
    "B[2,:]=B[2,:]-B[1,:]\n",
    "B"
   ]
  },
  {
   "cell_type": "markdown",
   "id": "c8c46bb2",
   "metadata": {},
   "source": [
    "Vemos que `A` queda intacta."
   ]
  },
  {
   "cell_type": "code",
   "execution_count": 94,
   "id": "5df74817",
   "metadata": {
    "scrolled": true
   },
   "outputs": [
    {
     "data": {
      "text/latex": [
       "$\\displaystyle \\left[\\begin{matrix}1 - b & 1 - a & a - 1\\\\-1 & - a - b + 2 & a\\\\-1 & 1 - a & a - b + 1\\end{matrix}\\right]$"
      ],
      "text/plain": [
       "Matrix([\n",
       "[1 - b,      1 - a,     a - 1],\n",
       "[   -1, -a - b + 2,         a],\n",
       "[   -1,      1 - a, a - b + 1]])"
      ]
     },
     "execution_count": 94,
     "metadata": {},
     "output_type": "execute_result"
    }
   ],
   "source": [
    "A"
   ]
  },
  {
   "cell_type": "markdown",
   "id": "08c08aa1",
   "metadata": {},
   "source": [
    "Ahora podemos cambiar la segunda columna por su suma con la tercera."
   ]
  },
  {
   "cell_type": "code",
   "execution_count": 95,
   "id": "54a6cab3",
   "metadata": {},
   "outputs": [
    {
     "data": {
      "text/latex": [
       "$\\displaystyle \\left[\\begin{matrix}1 - b & 0 & a - 1\\\\-1 & 2 - b & a\\\\0 & 0 & 1 - b\\end{matrix}\\right]$"
      ],
      "text/plain": [
       "Matrix([\n",
       "[1 - b,     0, a - 1],\n",
       "[   -1, 2 - b,     a],\n",
       "[    0,     0, 1 - b]])"
      ]
     },
     "execution_count": 95,
     "metadata": {},
     "output_type": "execute_result"
    }
   ],
   "source": [
    "B[:,1]=B[:,1]+B[:,2]\n",
    "B"
   ]
  },
  {
   "cell_type": "markdown",
   "id": "49e7333c",
   "metadata": {},
   "source": [
    "Ahora el determinante es much más sencillo de calcular, pues se puede desarrollar por la segunda columna."
   ]
  },
  {
   "cell_type": "markdown",
   "id": "07395a22",
   "metadata": {},
   "source": [
    "### Ejercicio\n",
    "\n",
    "*Discutir y resolver en función del parámetro $a$ el sistema de ecuaciones lineales:*\n",
    "$$\n",
    "\\left\\{ \\begin{array}{rcl}\n",
    "x+ay+az&= & 1, \\\\\n",
    "x+2ay+(a+1)z&= &  1, \\\\\n",
    "2x+ay+az & = & 2. \\\\\n",
    "\\end{array} \\right. \n",
    "$$"
   ]
  },
  {
   "cell_type": "code",
   "execution_count": 96,
   "id": "cf3031fb",
   "metadata": {},
   "outputs": [
    {
     "data": {
      "text/latex": [
       "$\\displaystyle \\left[\\begin{matrix}1 & a & a\\\\1 & 2 a & a + 1\\\\2 & a & a\\end{matrix}\\right]$"
      ],
      "text/plain": [
       "Matrix([\n",
       "[1,   a,     a],\n",
       "[1, 2*a, a + 1],\n",
       "[2,   a,     a]])"
      ]
     },
     "execution_count": 96,
     "metadata": {},
     "output_type": "execute_result"
    }
   ],
   "source": [
    "A=Matrix([[1,a,a],[1,2*a,a+1],[2,a,a]])\n",
    "A"
   ]
  },
  {
   "cell_type": "code",
   "execution_count": 97,
   "id": "bba77d12",
   "metadata": {},
   "outputs": [],
   "source": [
    "b=Matrix([1,1,2])"
   ]
  },
  {
   "cell_type": "code",
   "execution_count": 98,
   "id": "e9473dac",
   "metadata": {},
   "outputs": [
    {
     "data": {
      "text/latex": [
       "$\\displaystyle \\left[\\begin{matrix}1 & a & a & 1\\\\1 & 2 a & a + 1 & 1\\\\2 & a & a & 2\\end{matrix}\\right]$"
      ],
      "text/plain": [
       "Matrix([\n",
       "[1,   a,     a, 1],\n",
       "[1, 2*a, a + 1, 1],\n",
       "[2,   a,     a, 2]])"
      ]
     },
     "execution_count": 98,
     "metadata": {},
     "output_type": "execute_result"
    }
   ],
   "source": [
    "Ab=A.row_join(b)\n",
    "Ab"
   ]
  },
  {
   "cell_type": "markdown",
   "id": "376829c6",
   "metadata": {},
   "source": [
    "Hagamos una copia de la matriz extendida y reduzcamos por filas."
   ]
  },
  {
   "cell_type": "code",
   "execution_count": 99,
   "id": "c2787c83",
   "metadata": {},
   "outputs": [
    {
     "data": {
      "text/latex": [
       "$\\displaystyle \\left[\\begin{matrix}1 & a & a & 1\\\\1 & 2 a & a + 1 & 1\\\\2 & a & a & 2\\end{matrix}\\right]$"
      ],
      "text/plain": [
       "Matrix([\n",
       "[1,   a,     a, 1],\n",
       "[1, 2*a, a + 1, 1],\n",
       "[2,   a,     a, 2]])"
      ]
     },
     "execution_count": 99,
     "metadata": {},
     "output_type": "execute_result"
    }
   ],
   "source": [
    "B=Ab.copy()\n",
    "B"
   ]
  },
  {
   "cell_type": "code",
   "execution_count": 100,
   "id": "300bfbd0",
   "metadata": {},
   "outputs": [
    {
     "data": {
      "text/latex": [
       "$\\displaystyle \\left[\\begin{matrix}1 & a & a & 1\\\\0 & a & 1 & 0\\\\2 & a & a & 2\\end{matrix}\\right]$"
      ],
      "text/plain": [
       "Matrix([\n",
       "[1, a, a, 1],\n",
       "[0, a, 1, 0],\n",
       "[2, a, a, 2]])"
      ]
     },
     "execution_count": 100,
     "metadata": {},
     "output_type": "execute_result"
    }
   ],
   "source": [
    "B[1,:]=B[1,:]-B[0,:]\n",
    "B"
   ]
  },
  {
   "cell_type": "code",
   "execution_count": 101,
   "id": "3158978b",
   "metadata": {},
   "outputs": [
    {
     "data": {
      "text/latex": [
       "$\\displaystyle \\left[\\begin{matrix}1 & a & a & 1\\\\0 & a & 1 & 0\\\\0 & - a & - a & 0\\end{matrix}\\right]$"
      ],
      "text/plain": [
       "Matrix([\n",
       "[1,  a,  a, 1],\n",
       "[0,  a,  1, 0],\n",
       "[0, -a, -a, 0]])"
      ]
     },
     "execution_count": 101,
     "metadata": {},
     "output_type": "execute_result"
    }
   ],
   "source": [
    "B[2,:]=B[2,:]-2*B[0,:]\n",
    "B"
   ]
  },
  {
   "cell_type": "code",
   "execution_count": 102,
   "id": "c2e4de28",
   "metadata": {},
   "outputs": [
    {
     "data": {
      "text/latex": [
       "$\\displaystyle \\left[\\begin{matrix}1 & a & a & 1\\\\0 & a & 1 & 0\\\\0 & 0 & 1 - a & 0\\end{matrix}\\right]$"
      ],
      "text/plain": [
       "Matrix([\n",
       "[1, a,     a, 1],\n",
       "[0, a,     1, 0],\n",
       "[0, 0, 1 - a, 0]])"
      ]
     },
     "execution_count": 102,
     "metadata": {},
     "output_type": "execute_result"
    }
   ],
   "source": [
    "B[2,:]=B[2,:]+B[1,:]\n",
    "B"
   ]
  },
  {
   "cell_type": "markdown",
   "id": "66da2bfb",
   "metadata": {},
   "source": [
    "Los valores de $a$ que tenemos que distinguir son 0 y 1, que son precisamente los ceros del determinante de `A` como polinomio en $a$."
   ]
  },
  {
   "cell_type": "code",
   "execution_count": 103,
   "id": "7bc29329",
   "metadata": {},
   "outputs": [
    {
     "data": {
      "text/latex": [
       "$\\displaystyle - a^{2} + a$"
      ],
      "text/plain": [
       "-a**2 + a"
      ]
     },
     "execution_count": 103,
     "metadata": {},
     "output_type": "execute_result"
    }
   ],
   "source": [
    "p=A.det()\n",
    "p"
   ]
  },
  {
   "cell_type": "code",
   "execution_count": 104,
   "id": "f43fd218",
   "metadata": {},
   "outputs": [
    {
     "data": {
      "text/latex": [
       "$\\displaystyle - a \\left(a - 1\\right)$"
      ],
      "text/plain": [
       "-a*(a - 1)"
      ]
     },
     "execution_count": 104,
     "metadata": {},
     "output_type": "execute_result"
    }
   ],
   "source": [
    "p.factor()"
   ]
  },
  {
   "cell_type": "code",
   "execution_count": 105,
   "id": "52df1189",
   "metadata": {},
   "outputs": [
    {
     "data": {
      "text/plain": [
       "[0, 1]"
      ]
     },
     "execution_count": 105,
     "metadata": {},
     "output_type": "execute_result"
    }
   ],
   "source": [
    "solve(p)"
   ]
  },
  {
   "cell_type": "markdown",
   "id": "cf3e819b",
   "metadata": {},
   "source": [
    "Veamos qué ocurre para $a=0$. Usamos `subs` (que toma como argumento un diccionario con las substituciones)."
   ]
  },
  {
   "cell_type": "code",
   "execution_count": 106,
   "id": "75942d7e",
   "metadata": {},
   "outputs": [],
   "source": [
    "Ab0=Ab.subs({a:0})"
   ]
  },
  {
   "cell_type": "code",
   "execution_count": 107,
   "id": "f8855f14",
   "metadata": {},
   "outputs": [
    {
     "data": {
      "text/latex": [
       "$\\displaystyle \\left[\\begin{matrix}1 & 0 & 0 & 1\\\\0 & 0 & 1 & 0\\\\0 & 0 & 0 & 0\\end{matrix}\\right]$"
      ],
      "text/plain": [
       "Matrix([\n",
       "[1, 0, 0, 1],\n",
       "[0, 0, 1, 0],\n",
       "[0, 0, 0, 0]])"
      ]
     },
     "execution_count": 107,
     "metadata": {},
     "output_type": "execute_result"
    }
   ],
   "source": [
    "Ab0.rref(pivots=False)"
   ]
  },
  {
   "cell_type": "markdown",
   "id": "85484dc4",
   "metadata": {},
   "source": [
    "Por lo que en este caso es un sistema compatible indeterminado. Las soluciones son $x=1$, $z=0$ e $y$ puede tomar cualquier valor. Esto también lo podemos conseguir con `linsolve`."
   ]
  },
  {
   "cell_type": "code",
   "execution_count": 108,
   "id": "a633001f",
   "metadata": {},
   "outputs": [
    {
     "data": {
      "text/latex": [
       "$\\displaystyle \\left\\{\\left( 1, \\  \\tau_{0}, \\  0\\right)\\right\\}$"
      ],
      "text/plain": [
       "{(1, tau0, 0)}"
      ]
     },
     "execution_count": 108,
     "metadata": {},
     "output_type": "execute_result"
    }
   ],
   "source": [
    "linsolve((A.subs({a:0}),b))"
   ]
  },
  {
   "cell_type": "markdown",
   "id": "b640d29c",
   "metadata": {},
   "source": [
    "Veamos ahora qué ocurre con $a=1$."
   ]
  },
  {
   "cell_type": "code",
   "execution_count": 109,
   "id": "f1c9934f",
   "metadata": {},
   "outputs": [
    {
     "data": {
      "text/latex": [
       "$\\displaystyle \\left[\\begin{matrix}1 & 1 & 1 & 1\\\\1 & 2 & 2 & 1\\\\2 & 1 & 1 & 2\\end{matrix}\\right]$"
      ],
      "text/plain": [
       "Matrix([\n",
       "[1, 1, 1, 1],\n",
       "[1, 2, 2, 1],\n",
       "[2, 1, 1, 2]])"
      ]
     },
     "execution_count": 109,
     "metadata": {},
     "output_type": "execute_result"
    }
   ],
   "source": [
    "Ab1=Ab.subs({a:1})\n",
    "Ab1"
   ]
  },
  {
   "cell_type": "code",
   "execution_count": 110,
   "id": "b3bcfb20",
   "metadata": {},
   "outputs": [
    {
     "data": {
      "text/latex": [
       "$\\displaystyle \\left[\\begin{matrix}1 & 0 & 0 & 1\\\\0 & 1 & 1 & 0\\\\0 & 0 & 0 & 0\\end{matrix}\\right]$"
      ],
      "text/plain": [
       "Matrix([\n",
       "[1, 0, 0, 1],\n",
       "[0, 1, 1, 0],\n",
       "[0, 0, 0, 0]])"
      ]
     },
     "execution_count": 110,
     "metadata": {},
     "output_type": "execute_result"
    }
   ],
   "source": [
    "Ab1.rref(pivots=False)"
   ]
  },
  {
   "cell_type": "code",
   "execution_count": 111,
   "id": "04a8827f",
   "metadata": {},
   "outputs": [
    {
     "data": {
      "text/latex": [
       "$\\displaystyle \\left\\{\\left( 1, \\  - \\tau_{0}, \\  \\tau_{0}\\right)\\right\\}$"
      ],
      "text/plain": [
       "{(1, -tau0, tau0)}"
      ]
     },
     "execution_count": 111,
     "metadata": {},
     "output_type": "execute_result"
    }
   ],
   "source": [
    "linsolve((A.subs({a:1}),b))"
   ]
  },
  {
   "cell_type": "markdown",
   "id": "9c266c27",
   "metadata": {},
   "source": [
    "En este caso el sistema también es compatible indeterminado: $x=1$, $y=-z$ y $z$ puede tomar cualquier valor.\n",
    "\n",
    "Para el resto de valores de $a$, el sistema es compatible determinado, pues el rango de $A$ y el de la matriz ampliada es el mismo y es máximo."
   ]
  },
  {
   "cell_type": "markdown",
   "id": "6c7429fe",
   "metadata": {},
   "source": [
    "Por lo que la solución es $x=1$, $y=z=0$."
   ]
  },
  {
   "cell_type": "code",
   "execution_count": 112,
   "id": "f5090272",
   "metadata": {},
   "outputs": [
    {
     "data": {
      "text/latex": [
       "$\\displaystyle \\left\\{\\left( 1, \\  0, \\  0\\right)\\right\\}$"
      ],
      "text/plain": [
       "{(1, 0, 0)}"
      ]
     },
     "execution_count": 112,
     "metadata": {},
     "output_type": "execute_result"
    }
   ],
   "source": [
    "linsolve((A,b))"
   ]
  },
  {
   "cell_type": "markdown",
   "id": "c1c96b36",
   "metadata": {},
   "source": [
    "### Ejercicio\n",
    "\n",
    "Discutir, en función de los valores del parámetro $a$, el sistema \n",
    "$$\n",
    "\\left\\{\n",
    "\\begin{array}{rrrl}\n",
    "x&+y& +z&=a,\\\\\n",
    "x&+ay& + a^2z&=a,\\\\\n",
    "x&+a^2y& +az&=a,\\\\\n",
    "x&+y& +az&=0.\\\\\n",
    "\\end{array}\n",
    "\\right.\n",
    "$$"
   ]
  },
  {
   "cell_type": "code",
   "execution_count": 113,
   "id": "75467f7f",
   "metadata": {},
   "outputs": [
    {
     "data": {
      "text/latex": [
       "$\\displaystyle \\left[\\begin{matrix}1 & 1 & 1\\\\1 & a & a^{2}\\\\1 & a^{2} & a\\\\1 & 1 & a\\end{matrix}\\right]$"
      ],
      "text/plain": [
       "Matrix([\n",
       "[1,    1,    1],\n",
       "[1,    a, a**2],\n",
       "[1, a**2,    a],\n",
       "[1,    1,    a]])"
      ]
     },
     "execution_count": 113,
     "metadata": {},
     "output_type": "execute_result"
    }
   ],
   "source": [
    "A=Matrix([[1,1,1],[1,a,a**2],[1,a**2,a],[1,1,a]])\n",
    "A"
   ]
  },
  {
   "cell_type": "code",
   "execution_count": 114,
   "id": "2720bb92",
   "metadata": {},
   "outputs": [],
   "source": [
    "b=Matrix([a,a,a,0])"
   ]
  },
  {
   "cell_type": "code",
   "execution_count": 115,
   "id": "ae851f0a",
   "metadata": {},
   "outputs": [
    {
     "data": {
      "text/latex": [
       "$\\displaystyle \\left[\\begin{matrix}1 & 1 & 1 & a\\\\1 & a & a^{2} & a\\\\1 & a^{2} & a & a\\\\1 & 1 & a & 0\\end{matrix}\\right]$"
      ],
      "text/plain": [
       "Matrix([\n",
       "[1,    1,    1, a],\n",
       "[1,    a, a**2, a],\n",
       "[1, a**2,    a, a],\n",
       "[1,    1,    a, 0]])"
      ]
     },
     "execution_count": 115,
     "metadata": {},
     "output_type": "execute_result"
    }
   ],
   "source": [
    "Ab=A.row_join(b)\n",
    "Ab"
   ]
  },
  {
   "cell_type": "markdown",
   "id": "e579a6cb",
   "metadata": {},
   "source": [
    "Observemos que la matriz ampliada tiene cuatro columnas y cuatro filas, mientras que `A` tiene sólo tres columnas. Esto quiere decir que como mucho el rango de `A` es tres, mientras que si el determinante de la matriz ampliada es no nulo, entonces su rango sería cuatro, dando lugar a un sistema incompatible. Veamos pues para qué valores de $a$ se anula el determinante de `Ab`."
   ]
  },
  {
   "cell_type": "code",
   "execution_count": 116,
   "id": "93aa0471",
   "metadata": {},
   "outputs": [
    {
     "data": {
      "text/latex": [
       "$\\displaystyle a^{2} \\left(a - 1\\right)^{2} \\left(a + 2\\right)$"
      ],
      "text/plain": [
       "a**2*(a - 1)**2*(a + 2)"
      ]
     },
     "execution_count": 116,
     "metadata": {},
     "output_type": "execute_result"
    }
   ],
   "source": [
    "p=Ab.det()\n",
    "p.factor()"
   ]
  },
  {
   "cell_type": "markdown",
   "id": "17f8dfd6",
   "metadata": {},
   "source": [
    "Por tanto si $a\\not\\in \\{-2,0,1\\}$ el sistema será incompatible. Veamos qué ocurre para el resto de los casos."
   ]
  },
  {
   "cell_type": "markdown",
   "id": "964de4d7",
   "metadata": {},
   "source": [
    "Para $a=-2$, obtenemos un sistema compatible determinado, y $x=y=z=-2/3$."
   ]
  },
  {
   "cell_type": "markdown",
   "id": "c55916ad",
   "metadata": {},
   "source": [
    "Para $a=0$, también ($x=y=z=0$)."
   ]
  },
  {
   "cell_type": "markdown",
   "id": "dd658322",
   "metadata": {},
   "source": [
    "Por último, para $a=1$, obtenemos un sistema incompatible."
   ]
  },
  {
   "cell_type": "code",
   "execution_count": 117,
   "id": "de37bd7e",
   "metadata": {
    "scrolled": true
   },
   "outputs": [
    {
     "data": {
      "text/plain": [
       "[{(-2/3, -2/3, -2/3)}, {(0, 0, 0)}, EmptySet]"
      ]
     },
     "execution_count": 117,
     "metadata": {},
     "output_type": "execute_result"
    }
   ],
   "source": [
    "[linsolve((A.subs({a:i}),b.subs({a:i}))) for i in [-2,0,1]]"
   ]
  }
 ],
 "metadata": {
  "kernelspec": {
   "display_name": "Python 3 (ipykernel)",
   "language": "python",
   "name": "python3"
  },
  "language_info": {
   "codemirror_mode": {
    "name": "ipython",
    "version": 3
   },
   "file_extension": ".py",
   "mimetype": "text/x-python",
   "name": "python",
   "nbconvert_exporter": "python",
   "pygments_lexer": "ipython3",
   "version": "3.11.0"
  }
 },
 "nbformat": 4,
 "nbformat_minor": 5
}
