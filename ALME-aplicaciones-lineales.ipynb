{
 "cells": [
  {
   "cell_type": "markdown",
   "id": "6d7a23b4",
   "metadata": {},
   "source": [
    "# Aplicaciones lineales"
   ]
  },
  {
   "cell_type": "markdown",
   "id": "ca99d34f",
   "metadata": {},
   "source": [
    "En este documento ilustraremos cómo usar `Python` para resolver los problemas tipo propuestos por L. Merino y E. Santos en  [página de resolución de ejercicios tipo](https://www.ugr.es/~lmerino/ALME.html) correspondientes al bloque \"Aplicaciones Lineales\"."
   ]
  },
  {
   "cell_type": "markdown",
   "id": "f01f0462",
   "metadata": {},
   "source": [
    "### Ejercicio\n",
    "\n",
    "*Se considera la aplicación lineal $D: \\mathcal{P}_3(\\mathbb{R}) \\longrightarrow \\mathcal{P}_2(\\mathbb{R})$ \n",
    "que a cada polinomio de $\\mathcal{P}_3(\\mathbb{R})$ le asigna su derivada: $D(p(x))=p'(x)$. Determinar la matriz asociada a $D$ respecto de la base estándar $B=\\{ 1, x, x^2, x^3\\}$.*"
   ]
  },
  {
   "cell_type": "markdown",
   "id": "3e53e1a2",
   "metadata": {},
   "source": [
    "Nuestra matriz tiene por columnas las coordenadas de las imágenes de los vectores de la base:\n",
    "$$\n",
    "\\begin{array}{lcccl}\n",
    "D(1)&=   & 0 &=   & (0,0,0,0)_B, \\\\\n",
    "D(x) &=  & 1 &=   & (1,0,0,0)_B, \\\\\n",
    "D(x^2)&= & 2x &=  & (0,2,0,0)_B, \\\\\n",
    "D(x^3)&= & 3x^2& =&(0,0,3,0)_B.\n",
    "\\end{array}\n",
    "$$"
   ]
  },
  {
   "cell_type": "code",
   "execution_count": 15,
   "id": "26ccecd1",
   "metadata": {},
   "outputs": [],
   "source": [
    "from sympy import Symbol, Matrix, eye"
   ]
  },
  {
   "cell_type": "code",
   "execution_count": 3,
   "id": "85f4024a",
   "metadata": {},
   "outputs": [
    {
     "data": {
      "text/latex": [
       "$\\displaystyle \\left[\\begin{matrix}0 & 1 & 0 & 0\\\\0 & 0 & 2 & 0\\\\0 & 0 & 0 & 3\\\\0 & 0 & 0 & 0\\end{matrix}\\right]$"
      ],
      "text/plain": [
       "Matrix([\n",
       "[0, 1, 0, 0],\n",
       "[0, 0, 2, 0],\n",
       "[0, 0, 0, 3],\n",
       "[0, 0, 0, 0]])"
      ]
     },
     "execution_count": 3,
     "metadata": {},
     "output_type": "execute_result"
    }
   ],
   "source": [
    "A=Matrix([(0,0,0,0),(1,0,0,0),(0,2,0,0),(0,0,3,0)]).T\n",
    "A"
   ]
  },
  {
   "cell_type": "markdown",
   "id": "5ba8130a",
   "metadata": {},
   "source": [
    "### Ejercicio\n",
    "\n",
    "*De una aplicación lineal $f:\\mathbb{R}^3 \\longrightarrow \\mathbb{R}^2$ se sabe que*\n",
    "$$\n",
    "\\begin{array}{l}\n",
    "f(1,0,0)=(1,0),\\\\\n",
    "f(0,1,0)= (1,1), \\\\\n",
    "f(0,0,1)=(0,-1).\n",
    "\\end{array}\n",
    "$$\n",
    "\n",
    "*Determinar la matriz asociada a $f$ respecto de las respectivas bases canónicas de $\\mathbb{R}^3$ y $\\mathbb{R}^2$ y calcular $f(1,2,1)$.*"
   ]
  },
  {
   "cell_type": "markdown",
   "id": "93d339e9",
   "metadata": {},
   "source": [
    "La matriz asociada a $f$ respecto de las bases canónicas es"
   ]
  },
  {
   "cell_type": "code",
   "execution_count": 5,
   "id": "2872231a",
   "metadata": {},
   "outputs": [
    {
     "data": {
      "text/latex": [
       "$\\displaystyle \\left[\\begin{matrix}1 & 1 & 0\\\\0 & 1 & -1\\end{matrix}\\right]$"
      ],
      "text/plain": [
       "Matrix([\n",
       "[1, 1,  0],\n",
       "[0, 1, -1]])"
      ]
     },
     "execution_count": 5,
     "metadata": {},
     "output_type": "execute_result"
    }
   ],
   "source": [
    "A=Matrix([[1,0],[1,1],[0,-1]]).T\n",
    "A"
   ]
  },
  {
   "cell_type": "markdown",
   "id": "7c29db60",
   "metadata": {},
   "source": [
    "La imagen de $(1,2,1)$ se obtiene multiplicando `A` por $(1,2,1)^t$."
   ]
  },
  {
   "cell_type": "code",
   "execution_count": 6,
   "id": "a53a71b3",
   "metadata": {},
   "outputs": [
    {
     "data": {
      "text/latex": [
       "$\\displaystyle \\left[\\begin{matrix}3\\\\1\\end{matrix}\\right]$"
      ],
      "text/plain": [
       "Matrix([\n",
       "[3],\n",
       "[1]])"
      ]
     },
     "execution_count": 6,
     "metadata": {},
     "output_type": "execute_result"
    }
   ],
   "source": [
    "A*Matrix([1,2,1])"
   ]
  },
  {
   "cell_type": "markdown",
   "id": "cf4f3f56",
   "metadata": {},
   "source": [
    "### Ejercicio\n",
    "\n",
    "*Se considera la aplicación lineal $f:\\mathbb{R}^3 \\longrightarrow \\mathbb{R}^3$ definida por $f(x,y,z)=(x+y,x+z, y-z)$. Obtener unas ecuaciones cartesianas de $\\operatorname{Im}(f)$.*"
   ]
  },
  {
   "cell_type": "code",
   "execution_count": 8,
   "id": "334e6c91",
   "metadata": {},
   "outputs": [
    {
     "data": {
      "text/latex": [
       "$\\displaystyle \\left[\\begin{matrix}1 & 1 & 0\\\\1 & 0 & 1\\\\0 & 1 & -1\\end{matrix}\\right]$"
      ],
      "text/plain": [
       "Matrix([\n",
       "[1, 1,  0],\n",
       "[1, 0,  1],\n",
       "[0, 1, -1]])"
      ]
     },
     "execution_count": 8,
     "metadata": {},
     "output_type": "execute_result"
    }
   ],
   "source": [
    "f=lambda x,y,z: Matrix([x+y,x+z,y-z])\n",
    "A=Matrix(3,3,[0]*9)\n",
    "A[:,0]=f(1,0,0)\n",
    "A[:,1]=f(0,1,0)\n",
    "A[:,2]=f(0,0,1)\n",
    "A"
   ]
  },
  {
   "cell_type": "markdown",
   "id": "7e41af94",
   "metadata": {},
   "source": [
    "Podemos usar la forma normal por columnas de esa matriz para calcular una base de $\\operatorname{Im}(f)$. "
   ]
  },
  {
   "cell_type": "code",
   "execution_count": 9,
   "id": "6ac21c9a",
   "metadata": {},
   "outputs": [
    {
     "data": {
      "text/latex": [
       "$\\displaystyle \\left[\\begin{matrix}1 & 0 & 1\\\\0 & 1 & -1\\\\0 & 0 & 0\\end{matrix}\\right]$"
      ],
      "text/plain": [
       "Matrix([\n",
       "[1, 0,  1],\n",
       "[0, 1, -1],\n",
       "[0, 0,  0]])"
      ]
     },
     "execution_count": 9,
     "metadata": {},
     "output_type": "execute_result"
    }
   ],
   "source": [
    "A.T.rref(pivots=False)"
   ]
  },
  {
   "cell_type": "markdown",
   "id": "1babc3eb",
   "metadata": {},
   "source": [
    "A partir de aquí podríamos calcular las ecuaciones cartesianas. Nosotros vamos a utilizar nuestra función `gensec` definida en el bloc [ALME-espacios-vectoriales.ipynb](https://github.com/pedritomelenas/Python-algebra-lineal/blob/main/ALME-espacios-vectoriales.ipynb)."
   ]
  },
  {
   "cell_type": "code",
   "execution_count": 16,
   "id": "4f9d8f3c",
   "metadata": {},
   "outputs": [],
   "source": [
    "def gensec(A):\n",
    "    \"\"\"\n",
    "    A es una matriz cuyas filas son los generadores o los coeficientes del subespacio\n",
    "    La salida son las ecuaciones implícitas o los generadores (por filas)\n",
    "    \"\"\"\n",
    "    c=A.cols # número de columnas de A\n",
    "    f=A.rows # número de filas\n",
    "    r=A.rank() # rango\n",
    "    rtAI=A.T.row_join(eye(c)).rref(pivots=False) # añadimos la identidad calculamor forma reducida por columnas\n",
    "    ecs=rtAI[r:,f:]# nos quedamos con la parte que corresponde a ceros (ecuaciones o generadores según la entrada)\n",
    "    return ecs"
   ]
  },
  {
   "cell_type": "code",
   "execution_count": 17,
   "id": "467d463e",
   "metadata": {
    "scrolled": true
   },
   "outputs": [
    {
     "data": {
      "text/latex": [
       "$\\displaystyle \\left[\\begin{matrix}1 & -1 & -1\\end{matrix}\\right]$"
      ],
      "text/plain": [
       "Matrix([[1, -1, -1]])"
      ]
     },
     "execution_count": 17,
     "metadata": {},
     "output_type": "execute_result"
    }
   ],
   "source": [
    "gensec(A.T)"
   ]
  },
  {
   "cell_type": "markdown",
   "id": "854eded5",
   "metadata": {},
   "source": [
    "### Ejercicio\n",
    "\n",
    "*Se considera la aplicación lineal $f:\\mathbb{R}^3 \\longrightarrow \\mathbb{R}^3$ definida por $f(x,y,z)=(x+y,x+z, y-z)$, obtener una base de $Ker(f)$.*"
   ]
  },
  {
   "cell_type": "markdown",
   "id": "30f8c13c",
   "metadata": {},
   "source": [
    "Podemos usar de nuevo `gensec`, pues unas ecuaciones del núcleo son\n",
    "$$\n",
    "\\left\\{ \\begin{array}{ccc}\n",
    "x+y & = & 0, \\\\\n",
    "x+z& = & 0, \\\\\n",
    " y-z& = & 0.\n",
    "\\end{array}\\right.\n",
    "$$"
   ]
  },
  {
   "cell_type": "code",
   "execution_count": 18,
   "id": "91817ffa",
   "metadata": {},
   "outputs": [
    {
     "data": {
      "text/latex": [
       "$\\displaystyle \\left[\\begin{matrix}1 & -1 & -1\\end{matrix}\\right]$"
      ],
      "text/plain": [
       "Matrix([[1, -1, -1]])"
      ]
     },
     "execution_count": 18,
     "metadata": {},
     "output_type": "execute_result"
    }
   ],
   "source": [
    "gensec(A)"
   ]
  },
  {
   "cell_type": "markdown",
   "id": "b7d54ad4",
   "metadata": {},
   "source": [
    "Podemos también usar el método `nullspace`, que calcula el núcleo de una de una aplicación lineal."
   ]
  },
  {
   "cell_type": "code",
   "execution_count": 19,
   "id": "1bbea599",
   "metadata": {
    "scrolled": true
   },
   "outputs": [
    {
     "data": {
      "text/plain": [
       "[Matrix([\n",
       " [-1],\n",
       " [ 1],\n",
       " [ 1]])]"
      ]
     },
     "execution_count": 19,
     "metadata": {},
     "output_type": "execute_result"
    }
   ],
   "source": [
    "A.nullspace()"
   ]
  },
  {
   "cell_type": "markdown",
   "id": "831ba6b8",
   "metadata": {},
   "source": [
    "Por tanto, una base para el núcleo de $F$ es $\\{(-1,1,1)\\}$."
   ]
  },
  {
   "cell_type": "markdown",
   "id": "aaca8be3",
   "metadata": {},
   "source": [
    "### Ejercicio\n",
    "\n",
    "*Se considera la aplicación lineal $D: \\mathcal{P}_3(\\mathbb{R}) \\longrightarrow \\mathcal{P}_3(\\mathbb{R})$ \n",
    "que a cada polinomio de $\\mathcal{P}_3(\\mathbb{R})$ le asigna su derivada: $D(p(x))=p'(x)$. Determinar la matriz asociada a $D$ respecto de la base $\\bar{B}=\\{ 1+x^2, x+x^3, 1+x^3, x^3\\}$.*\n"
   ]
  },
  {
   "cell_type": "markdown",
   "id": "15a5f429",
   "metadata": {},
   "source": [
    "Recordemos que la matriz asociada a la base estándar es "
   ]
  },
  {
   "cell_type": "code",
   "execution_count": 20,
   "id": "69094ef1",
   "metadata": {},
   "outputs": [
    {
     "data": {
      "text/latex": [
       "$\\displaystyle \\left[\\begin{matrix}0 & 1 & 0 & 0\\\\0 & 0 & 2 & 0\\\\0 & 0 & 0 & 3\\\\0 & 0 & 0 & 0\\end{matrix}\\right]$"
      ],
      "text/plain": [
       "Matrix([\n",
       "[0, 1, 0, 0],\n",
       "[0, 0, 2, 0],\n",
       "[0, 0, 0, 3],\n",
       "[0, 0, 0, 0]])"
      ]
     },
     "execution_count": 20,
     "metadata": {},
     "output_type": "execute_result"
    }
   ],
   "source": [
    "A=Matrix([(0,0,0,0),(1,0,0,0),(0,2,0,0),(0,0,3,0)]).T\n",
    "A"
   ]
  },
  {
   "cell_type": "markdown",
   "id": "23f10838",
   "metadata": {},
   "source": [
    "La matriz de cambio de $\\overline{B}$ a $B$ se obtiene poniendo las coordenadas de los vectores de $\\overline{B}$ respecto de $B$ en una matriz por columnas."
   ]
  },
  {
   "cell_type": "code",
   "execution_count": 21,
   "id": "2fde8dd8",
   "metadata": {},
   "outputs": [
    {
     "data": {
      "text/latex": [
       "$\\displaystyle \\left[\\begin{matrix}1 & 0 & 1 & 0\\\\0 & 1 & 0 & 0\\\\1 & 0 & 0 & 0\\\\0 & 1 & 1 & 1\\end{matrix}\\right]$"
      ],
      "text/plain": [
       "Matrix([\n",
       "[1, 0, 1, 0],\n",
       "[0, 1, 0, 0],\n",
       "[1, 0, 0, 0],\n",
       "[0, 1, 1, 1]])"
      ]
     },
     "execution_count": 21,
     "metadata": {},
     "output_type": "execute_result"
    }
   ],
   "source": [
    "P=Matrix([(1,0,1,0),(0,1,0,1),(1,0,0,1),(0,0,0,1)]).T\n",
    "P"
   ]
  },
  {
   "cell_type": "code",
   "execution_count": 21,
   "id": "2823cd9f",
   "metadata": {
    "scrolled": false
   },
   "outputs": [
    {
     "data": {
      "text/html": [
       "<table class=\"dataframe\">\n",
       "<caption>A matrix: 4 × 4 of type dbl</caption>\n",
       "<tbody>\n",
       "\t<tr><td>1</td><td>0</td><td>1</td><td>0</td></tr>\n",
       "\t<tr><td>0</td><td>1</td><td>0</td><td>0</td></tr>\n",
       "\t<tr><td>1</td><td>0</td><td>0</td><td>0</td></tr>\n",
       "\t<tr><td>0</td><td>1</td><td>1</td><td>1</td></tr>\n",
       "</tbody>\n",
       "</table>\n"
      ],
      "text/latex": [
       "A matrix: 4 × 4 of type dbl\n",
       "\\begin{tabular}{llll}\n",
       "\t 1 & 0 & 1 & 0\\\\\n",
       "\t 0 & 1 & 0 & 0\\\\\n",
       "\t 1 & 0 & 0 & 0\\\\\n",
       "\t 0 & 1 & 1 & 1\\\\\n",
       "\\end{tabular}\n"
      ],
      "text/markdown": [
       "\n",
       "A matrix: 4 × 4 of type dbl\n",
       "\n",
       "| 1 | 0 | 1 | 0 |\n",
       "| 0 | 1 | 0 | 0 |\n",
       "| 1 | 0 | 0 | 0 |\n",
       "| 0 | 1 | 1 | 1 |\n",
       "\n"
      ],
      "text/plain": [
       "     [,1] [,2] [,3] [,4]\n",
       "[1,] 1    0    1    0   \n",
       "[2,] 0    1    0    0   \n",
       "[3,] 1    0    0    0   \n",
       "[4,] 0    1    1    1   "
      ]
     },
     "metadata": {},
     "output_type": "display_data"
    }
   ],
   "source": [
    "P<-cbind(c(1,0,1,0),c(0,1,0,1),c(1,0,0,1),c(0,0,0,1))\n",
    "P"
   ]
  },
  {
   "cell_type": "markdown",
   "id": "455aaca6",
   "metadata": {},
   "source": [
    "La matriz de cambio de base de $B$ a $\\overline{B}$ es $P^{-1}$."
   ]
  },
  {
   "cell_type": "code",
   "execution_count": 22,
   "id": "10374bb6",
   "metadata": {},
   "outputs": [
    {
     "data": {
      "text/latex": [
       "$\\displaystyle \\left[\\begin{matrix}0 & 0 & 1 & 0\\\\0 & 1 & 0 & 0\\\\1 & 0 & -1 & 0\\\\-1 & -1 & 1 & 1\\end{matrix}\\right]$"
      ],
      "text/plain": [
       "Matrix([\n",
       "[ 0,  0,  1, 0],\n",
       "[ 0,  1,  0, 0],\n",
       "[ 1,  0, -1, 0],\n",
       "[-1, -1,  1, 1]])"
      ]
     },
     "execution_count": 22,
     "metadata": {},
     "output_type": "execute_result"
    }
   ],
   "source": [
    "P.inv()"
   ]
  },
  {
   "cell_type": "markdown",
   "id": "5ba97af8",
   "metadata": {},
   "source": [
    "Así si partimos de coordenadas en $\\overline{B}$ y queremos aplicar $f$ para terminar obteniendo coordenadas respectdo de $\\overline{B}$, lo primero que tenemos que hacer es traducir esas coordenadas a $B$, aplicar $f$, que devuelve su salida en coordenadas respecto a $B$, y finalmente convertir esas coordenadas a $\\overline{B}$. Por tanto, la matriz buscada es $P^{-1}AP$."
   ]
  },
  {
   "cell_type": "code",
   "execution_count": 23,
   "id": "a993207e",
   "metadata": {
    "scrolled": true
   },
   "outputs": [
    {
     "data": {
      "text/latex": [
       "$\\displaystyle \\left[\\begin{matrix}0 & 3 & 3 & 3\\\\2 & 0 & 0 & 0\\\\0 & -2 & -3 & -3\\\\-2 & 2 & 3 & 3\\end{matrix}\\right]$"
      ],
      "text/plain": [
       "Matrix([\n",
       "[ 0,  3,  3,  3],\n",
       "[ 2,  0,  0,  0],\n",
       "[ 0, -2, -3, -3],\n",
       "[-2,  2,  3,  3]])"
      ]
     },
     "execution_count": 23,
     "metadata": {},
     "output_type": "execute_result"
    }
   ],
   "source": [
    "P.inv()*A*P"
   ]
  },
  {
   "cell_type": "markdown",
   "id": "17a53a96",
   "metadata": {},
   "source": [
    "### Ejercicio\n",
    "\n",
    "*De una aplicación lineal $f:\\mathbb{R}^3 \\longrightarrow \\mathbb{R}^4$ se sabe que*\n",
    "$$\n",
    "\\begin{array}{l}\n",
    "f(1,2,1)=(1,0,1,0),\\\\\n",
    "f(2,1,2)= (0,1,0,1), \\\\\n",
    "f(1,0,0)=(0,0,0,0).\n",
    "\\end{array}\n",
    "$$\n",
    "*Determinar la matriz asociada a $f$ respecto de las respectivas bases canónicas de $\\mathbb{R}^3$ y $\\mathbb{R}^4$ y determinar $f(3,1,1)$.*\n"
   ]
  },
  {
   "cell_type": "markdown",
   "id": "3400d6ee",
   "metadata": {},
   "source": [
    "Comprobemos que $\\overline{B}=\\{(1,2,1),(2,1,2),(1,0,0)\\}$ es una base."
   ]
  },
  {
   "cell_type": "code",
   "execution_count": 24,
   "id": "a284e272",
   "metadata": {},
   "outputs": [
    {
     "data": {
      "text/plain": [
       "3"
      ]
     },
     "execution_count": 24,
     "metadata": {},
     "output_type": "execute_result"
    }
   ],
   "source": [
    "P=Matrix([(1,2,1),(2,1,2),(1,0,0)]).T\n",
    "P.rank()"
   ]
  },
  {
   "cell_type": "markdown",
   "id": "25c72aaa",
   "metadata": {},
   "source": [
    "Tenemos así que $\\overline{B}$ es una base, y $P$ pasa de $\\overline{B}$ a la base canónica. Además, la matriz de $f$ respecto de $\\overline{B}$ y la base canónica de $\\mathbb{R}^4$ es "
   ]
  },
  {
   "cell_type": "code",
   "execution_count": 26,
   "id": "b7c1111d",
   "metadata": {},
   "outputs": [
    {
     "data": {
      "text/latex": [
       "$\\displaystyle \\left[\\begin{matrix}1 & 0 & 0\\\\0 & 1 & 0\\\\1 & 0 & 0\\\\0 & 1 & 0\\end{matrix}\\right]$"
      ],
      "text/plain": [
       "Matrix([\n",
       "[1, 0, 0],\n",
       "[0, 1, 0],\n",
       "[1, 0, 0],\n",
       "[0, 1, 0]])"
      ]
     },
     "execution_count": 26,
     "metadata": {},
     "output_type": "execute_result"
    }
   ],
   "source": [
    "A=Matrix([(1,0,1,0),(0,1,0,1),(0,0,0,0)]).T\n",
    "A"
   ]
  },
  {
   "cell_type": "markdown",
   "id": "50c17a60",
   "metadata": {},
   "source": [
    "Para calcular la matriz con respecto a las bases canónicas, primero traducimos coordenadas de la base canónica a $\\overline{B}$ y luego aplicamos $f$ (cuya salida ya es en coordenadas respecto de la base canónica). Por tanto, la matriz asociada es $A*P^{-1}$."
   ]
  },
  {
   "cell_type": "code",
   "execution_count": 27,
   "id": "e626eed8",
   "metadata": {},
   "outputs": [
    {
     "data": {
      "text/latex": [
       "$\\displaystyle \\left[\\begin{matrix}0 & \\frac{2}{3} & - \\frac{1}{3}\\\\0 & - \\frac{1}{3} & \\frac{2}{3}\\\\0 & \\frac{2}{3} & - \\frac{1}{3}\\\\0 & - \\frac{1}{3} & \\frac{2}{3}\\end{matrix}\\right]$"
      ],
      "text/plain": [
       "Matrix([\n",
       "[0,  2/3, -1/3],\n",
       "[0, -1/3,  2/3],\n",
       "[0,  2/3, -1/3],\n",
       "[0, -1/3,  2/3]])"
      ]
     },
     "execution_count": 27,
     "metadata": {},
     "output_type": "execute_result"
    }
   ],
   "source": [
    "A*P.inv()"
   ]
  },
  {
   "cell_type": "markdown",
   "id": "627a74b4",
   "metadata": {},
   "source": [
    "La imagen de $(3,1,1)$ es"
   ]
  },
  {
   "cell_type": "code",
   "execution_count": 28,
   "id": "d0956a86",
   "metadata": {},
   "outputs": [
    {
     "data": {
      "text/latex": [
       "$\\displaystyle \\left[\\begin{matrix}\\frac{1}{3}\\\\\\frac{1}{3}\\\\\\frac{1}{3}\\\\\\frac{1}{3}\\end{matrix}\\right]$"
      ],
      "text/plain": [
       "Matrix([\n",
       "[1/3],\n",
       "[1/3],\n",
       "[1/3],\n",
       "[1/3]])"
      ]
     },
     "execution_count": 28,
     "metadata": {},
     "output_type": "execute_result"
    }
   ],
   "source": [
    "A*P.inv()*Matrix([3,1,1])"
   ]
  }
 ],
 "metadata": {
  "kernelspec": {
   "display_name": "Python 3 (ipykernel)",
   "language": "python",
   "name": "python3"
  },
  "language_info": {
   "codemirror_mode": {
    "name": "ipython",
    "version": 3
   },
   "file_extension": ".py",
   "mimetype": "text/x-python",
   "name": "python",
   "nbconvert_exporter": "python",
   "pygments_lexer": "ipython3",
   "version": "3.11.0"
  }
 },
 "nbformat": 4,
 "nbformat_minor": 5
}
