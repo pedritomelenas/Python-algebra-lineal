{
 "cells": [
  {
   "cell_type": "markdown",
   "id": "100cee39",
   "metadata": {},
   "source": [
    "# Inversa generalizada de Moore-Penrose\n",
    "\n",
    "Existen varias formas de calcular la inversa generalizada de Moore-Penrose de una matriz. Aquí expondremos algunas de ellas usando diversas librerías de `sympy`.\n",
    "\n",
    "## Cálculo a partir de una descomposición en valores singulares\n",
    "\n",
    "Si $A$ es una matriz con entradas reales y $UDV^t$ es una descomposición en valores singulares corta de $A$, entonces por la demostración del Teorema VI.2.2 de [I. Ojeda, J. Gago, [Métodos matemáticos para la Estadística](https://publicauex.unex.es/libro/metodos-matematicos-para-estadistica_135467/)] la inversa generalizada de Moore-Penrose de $A$ es $A^\\dagger=VD^{-1}U^t$.\n",
    "\n",
    "Ilustremos este cálculo usando los Ejemplos VI.1.8 y VI.2.3 de [I. Ojeda, J. Gago, [Métodos matemáticos para la Estadística](https://publicauex.unex.es/libro/metodos-matematicos-para-estadistica_135467/)].\n"
   ]
  },
  {
   "cell_type": "markdown",
   "id": "f81a89f1",
   "metadata": {},
   "source": [
    "Vamos a utilizar `singular_value_decomposition` que apareció en la versión 1.8 de `sympy`. Si nuestra versión es anterior, podemos ejecutar `pip install \"sympy>=1.8\"` (luego tenemos que reiniciar el núcleo)."
   ]
  },
  {
   "cell_type": "code",
   "execution_count": 1,
   "id": "9e8f5e5a",
   "metadata": {},
   "outputs": [],
   "source": [
    "from sympy import Matrix,eye"
   ]
  },
  {
   "cell_type": "code",
   "execution_count": 2,
   "id": "a4eb15f7",
   "metadata": {
    "scrolled": true
   },
   "outputs": [
    {
     "data": {
      "text/latex": [
       "$\\displaystyle \\left[\\begin{matrix}2 & 0 & 1\\\\3 & -1 & 1\\\\-2 & 4 & 1\\\\1 & 1 & 1\\end{matrix}\\right]$"
      ],
      "text/plain": [
       "Matrix([\n",
       "[ 2,  0, 1],\n",
       "[ 3, -1, 1],\n",
       "[-2,  4, 1],\n",
       "[ 1,  1, 1]])"
      ]
     },
     "execution_count": 2,
     "metadata": {},
     "output_type": "execute_result"
    }
   ],
   "source": [
    "A=Matrix([(2,0,1),(3,-1,1),(-2,4,1),(1,1,1)])\n",
    "A"
   ]
  },
  {
   "cell_type": "markdown",
   "id": "47c2c612",
   "metadata": {},
   "source": [
    "Para calcular la inversa generalizada de Moore-Penrose usamos `pinv`."
   ]
  },
  {
   "cell_type": "code",
   "execution_count": 3,
   "id": "1f03b2c9",
   "metadata": {
    "scrolled": true
   },
   "outputs": [
    {
     "data": {
      "text/latex": [
       "$\\displaystyle \\left[\\begin{matrix}\\frac{5}{42} & \\frac{13}{84} & - \\frac{1}{42} & \\frac{1}{12}\\\\\\frac{1}{21} & \\frac{1}{84} & \\frac{4}{21} & \\frac{1}{12}\\\\\\frac{1}{12} & \\frac{1}{12} & \\frac{1}{12} & \\frac{1}{12}\\end{matrix}\\right]$"
      ],
      "text/plain": [
       "Matrix([\n",
       "[5/42, 13/84, -1/42, 1/12],\n",
       "[1/21,  1/84,  4/21, 1/12],\n",
       "[1/12,  1/12,  1/12, 1/12]])"
      ]
     },
     "execution_count": 3,
     "metadata": {},
     "output_type": "execute_result"
    }
   ],
   "source": [
    "A.pinv()"
   ]
  },
  {
   "cell_type": "markdown",
   "id": "d560b962",
   "metadata": {},
   "source": [
    "#### Usando `svd`"
   ]
  },
  {
   "cell_type": "markdown",
   "id": "19217864",
   "metadata": {},
   "source": [
    "Como hemos visto, para calcular la descomposición en valores singulares, podemos utilizar `svd`."
   ]
  },
  {
   "cell_type": "code",
   "execution_count": 4,
   "id": "5001bec3",
   "metadata": {},
   "outputs": [
    {
     "data": {
      "text/latex": [
       "$\\displaystyle \\left[\\begin{matrix}\\frac{1}{2} & - \\frac{\\sqrt{14}}{14}\\\\\\frac{1}{2} & - \\frac{\\sqrt{14}}{7}\\\\\\frac{1}{2} & \\frac{3 \\sqrt{14}}{14}\\\\\\frac{1}{2} & 0\\end{matrix}\\right]$"
      ],
      "text/plain": [
       "Matrix([\n",
       "[1/2,  -sqrt(14)/14],\n",
       "[1/2,   -sqrt(14)/7],\n",
       "[1/2, 3*sqrt(14)/14],\n",
       "[1/2,             0]])"
      ]
     },
     "execution_count": 4,
     "metadata": {},
     "output_type": "execute_result"
    }
   ],
   "source": [
    "U,D,V=A.singular_value_decomposition()\n",
    "U"
   ]
  },
  {
   "cell_type": "code",
   "execution_count": 5,
   "id": "d3281a3b",
   "metadata": {},
   "outputs": [
    {
     "data": {
      "text/latex": [
       "$\\displaystyle \\left[\\begin{matrix}2 \\sqrt{3} & 0\\\\0 & 2 \\sqrt{7}\\end{matrix}\\right]$"
      ],
      "text/plain": [
       "Matrix([\n",
       "[2*sqrt(3),         0],\n",
       "[        0, 2*sqrt(7)]])"
      ]
     },
     "execution_count": 5,
     "metadata": {},
     "output_type": "execute_result"
    }
   ],
   "source": [
    "D"
   ]
  },
  {
   "cell_type": "code",
   "execution_count": 6,
   "id": "c6e24bb6",
   "metadata": {},
   "outputs": [
    {
     "data": {
      "text/latex": [
       "$\\displaystyle \\left[\\begin{matrix}\\frac{\\sqrt{3}}{3} & - \\frac{\\sqrt{2}}{2}\\\\\\frac{\\sqrt{3}}{3} & \\frac{\\sqrt{2}}{2}\\\\\\frac{\\sqrt{3}}{3} & 0\\end{matrix}\\right]$"
      ],
      "text/plain": [
       "Matrix([\n",
       "[sqrt(3)/3, -sqrt(2)/2],\n",
       "[sqrt(3)/3,  sqrt(2)/2],\n",
       "[sqrt(3)/3,          0]])"
      ]
     },
     "execution_count": 6,
     "metadata": {},
     "output_type": "execute_result"
    }
   ],
   "source": [
    "V"
   ]
  },
  {
   "cell_type": "code",
   "execution_count": 7,
   "id": "fa57c563",
   "metadata": {},
   "outputs": [
    {
     "data": {
      "text/latex": [
       "$\\displaystyle \\left[\\begin{matrix}\\frac{5}{42} & \\frac{13}{84} & - \\frac{1}{42} & \\frac{1}{12}\\\\\\frac{1}{21} & \\frac{1}{84} & \\frac{4}{21} & \\frac{1}{12}\\\\\\frac{1}{12} & \\frac{1}{12} & \\frac{1}{12} & \\frac{1}{12}\\end{matrix}\\right]$"
      ],
      "text/plain": [
       "Matrix([\n",
       "[5/42, 13/84, -1/42, 1/12],\n",
       "[1/21,  1/84,  4/21, 1/12],\n",
       "[1/12,  1/12,  1/12, 1/12]])"
      ]
     },
     "execution_count": 7,
     "metadata": {},
     "output_type": "execute_result"
    }
   ],
   "source": [
    "igA=V*D.inv()*U.T\n",
    "igA"
   ]
  },
  {
   "cell_type": "markdown",
   "id": "1ec43643",
   "metadata": {},
   "source": [
    "Veamos que verifica las condiciones de inversa generalizada.\n",
    "\n",
    "$AA^\\dagger A=A$:"
   ]
  },
  {
   "cell_type": "code",
   "execution_count": 8,
   "id": "e3b37032",
   "metadata": {},
   "outputs": [
    {
     "data": {
      "text/plain": [
       "True"
      ]
     },
     "execution_count": 8,
     "metadata": {},
     "output_type": "execute_result"
    }
   ],
   "source": [
    "A*igA*A==A"
   ]
  },
  {
   "cell_type": "markdown",
   "id": "939ad446",
   "metadata": {},
   "source": [
    "$A^\\dagger A A^\\dagger=A^\\dagger$:"
   ]
  },
  {
   "cell_type": "code",
   "execution_count": 9,
   "id": "330dd6e5",
   "metadata": {},
   "outputs": [
    {
     "data": {
      "text/plain": [
       "True"
      ]
     },
     "execution_count": 9,
     "metadata": {},
     "output_type": "execute_result"
    }
   ],
   "source": [
    "igA*A*igA==igA"
   ]
  },
  {
   "cell_type": "markdown",
   "id": "562da2bd",
   "metadata": {},
   "source": [
    "$A A^\\dagger$ y $A^\\dagger A$ son simétricas:"
   ]
  },
  {
   "cell_type": "code",
   "execution_count": 10,
   "id": "f11690ff",
   "metadata": {},
   "outputs": [
    {
     "data": {
      "text/plain": [
       "True"
      ]
     },
     "execution_count": 10,
     "metadata": {},
     "output_type": "execute_result"
    }
   ],
   "source": [
    "(A*igA).is_symmetric()"
   ]
  },
  {
   "cell_type": "code",
   "execution_count": 11,
   "id": "56746276",
   "metadata": {},
   "outputs": [
    {
     "data": {
      "text/plain": [
       "True"
      ]
     },
     "execution_count": 11,
     "metadata": {},
     "output_type": "execute_result"
    }
   ],
   "source": [
    "(igA*A).is_symmetric()"
   ]
  },
  {
   "cell_type": "markdown",
   "id": "03579b26",
   "metadata": {},
   "source": [
    "## Cálculo a partir de una factorización de rango pleno"
   ]
  },
  {
   "cell_type": "markdown",
   "id": "b2a22c47",
   "metadata": {},
   "source": [
    "Podemos calcular la inversa generalizada una vez que conozcamos una [factorización de rango pleno](https://es.wikipedia.org/wiki/Factorizaci%C3%B3n_de_rango) de la matriz. Ilustramos este proceso siguiendo los pasos que se explican en [L. Merino, E. Santos, [Álgebra Lineal con Métodos Elementales](https://www.amazon.es/%C3%81lgebra-lineal-m%C3%A9todos-elementales-GONZALEZ/dp/8497324811)]."
   ]
  },
  {
   "cell_type": "code",
   "execution_count": 12,
   "id": "721cb639",
   "metadata": {},
   "outputs": [
    {
     "data": {
      "text/latex": [
       "$\\displaystyle \\left[\\begin{matrix}2 & 0\\\\3 & -1\\\\-2 & 4\\\\1 & 1\\end{matrix}\\right]$"
      ],
      "text/plain": [
       "Matrix([\n",
       "[ 2,  0],\n",
       "[ 3, -1],\n",
       "[-2,  4],\n",
       "[ 1,  1]])"
      ]
     },
     "execution_count": 12,
     "metadata": {},
     "output_type": "execute_result"
    }
   ],
   "source": [
    "E,F=A.rank_decomposition()\n",
    "E"
   ]
  },
  {
   "cell_type": "code",
   "execution_count": 13,
   "id": "e367d84f",
   "metadata": {},
   "outputs": [
    {
     "data": {
      "text/latex": [
       "$\\displaystyle \\left[\\begin{matrix}1 & 0 & \\frac{1}{2}\\\\0 & 1 & \\frac{1}{2}\\end{matrix}\\right]$"
      ],
      "text/plain": [
       "Matrix([\n",
       "[1, 0, 1/2],\n",
       "[0, 1, 1/2]])"
      ]
     },
     "execution_count": 13,
     "metadata": {},
     "output_type": "execute_result"
    }
   ],
   "source": [
    "F"
   ]
  },
  {
   "cell_type": "code",
   "execution_count": 14,
   "id": "f361c8e9",
   "metadata": {},
   "outputs": [
    {
     "data": {
      "text/plain": [
       "True"
      ]
     },
     "execution_count": 14,
     "metadata": {},
     "output_type": "execute_result"
    }
   ],
   "source": [
    "E*F==A"
   ]
  },
  {
   "cell_type": "markdown",
   "id": "1610af1b",
   "metadata": {},
   "source": [
    "El rango de `E` y de `F` coincide con el rango de `A`.\n",
    "\n",
    "El siguiente paso es calcular una inversa por la derecha de `F` y una inversa por la izquierda de `E`. Al ser ambas de rango pleno for fillas y por columnas, respectivamente, esto se puede hacer de la siguiente forma."
   ]
  },
  {
   "cell_type": "code",
   "execution_count": 15,
   "id": "f2566a50",
   "metadata": {},
   "outputs": [
    {
     "data": {
      "text/latex": [
       "$\\displaystyle \\left[\\begin{matrix}\\frac{5}{6} & - \\frac{1}{6}\\\\- \\frac{1}{6} & \\frac{5}{6}\\\\\\frac{1}{3} & \\frac{1}{3}\\end{matrix}\\right]$"
      ],
      "text/plain": [
       "Matrix([\n",
       "[ 5/6, -1/6],\n",
       "[-1/6,  5/6],\n",
       "[ 1/3,  1/3]])"
      ]
     },
     "execution_count": 15,
     "metadata": {},
     "output_type": "execute_result"
    }
   ],
   "source": [
    "FR=F.T*(F*F.T).inv()\n",
    "FR"
   ]
  },
  {
   "cell_type": "code",
   "execution_count": 16,
   "id": "df6a8ee9",
   "metadata": {},
   "outputs": [
    {
     "data": {
      "text/latex": [
       "$\\displaystyle \\left[\\begin{matrix}1 & 0\\\\0 & 1\\end{matrix}\\right]$"
      ],
      "text/plain": [
       "Matrix([\n",
       "[1, 0],\n",
       "[0, 1]])"
      ]
     },
     "execution_count": 16,
     "metadata": {},
     "output_type": "execute_result"
    }
   ],
   "source": [
    "F*FR"
   ]
  },
  {
   "cell_type": "code",
   "execution_count": 17,
   "id": "864631dc",
   "metadata": {},
   "outputs": [
    {
     "data": {
      "text/latex": [
       "$\\displaystyle \\left[\\begin{matrix}\\frac{9}{56} & \\frac{11}{56} & \\frac{1}{56} & \\frac{1}{8}\\\\\\frac{5}{56} & \\frac{3}{56} & \\frac{13}{56} & \\frac{1}{8}\\end{matrix}\\right]$"
      ],
      "text/plain": [
       "Matrix([\n",
       "[9/56, 11/56,  1/56, 1/8],\n",
       "[5/56,  3/56, 13/56, 1/8]])"
      ]
     },
     "execution_count": 17,
     "metadata": {},
     "output_type": "execute_result"
    }
   ],
   "source": [
    "EL=(E.T*E).inv()*E.T\n",
    "EL"
   ]
  },
  {
   "cell_type": "code",
   "execution_count": 18,
   "id": "689bc89f",
   "metadata": {},
   "outputs": [
    {
     "data": {
      "text/latex": [
       "$\\displaystyle \\left[\\begin{matrix}1 & 0\\\\0 & 1\\end{matrix}\\right]$"
      ],
      "text/plain": [
       "Matrix([\n",
       "[1, 0],\n",
       "[0, 1]])"
      ]
     },
     "execution_count": 18,
     "metadata": {},
     "output_type": "execute_result"
    }
   ],
   "source": [
    "EL*E"
   ]
  },
  {
   "cell_type": "code",
   "execution_count": 19,
   "id": "ac9caedb",
   "metadata": {},
   "outputs": [
    {
     "data": {
      "text/plain": [
       "True"
      ]
     },
     "execution_count": 19,
     "metadata": {},
     "output_type": "execute_result"
    }
   ],
   "source": [
    "igrpA=FR*EL\n",
    "igrpA==A.pinv()"
   ]
  },
  {
   "cell_type": "markdown",
   "id": "dfa647cb",
   "metadata": {},
   "source": [
    "La descomposición de rango pleno también se puede hacer usando la forma normal reducida por filas."
   ]
  },
  {
   "cell_type": "code",
   "execution_count": 20,
   "id": "3885eb16",
   "metadata": {},
   "outputs": [
    {
     "data": {
      "text/latex": [
       "$\\displaystyle \\left[\\begin{matrix}1 & 0 & \\frac{1}{2} & 0 & 0 & - \\frac{1}{6} & \\frac{2}{3}\\\\0 & 1 & \\frac{1}{2} & 0 & 0 & \\frac{1}{6} & \\frac{1}{3}\\\\0 & 0 & 0 & 1 & 0 & \\frac{1}{3} & - \\frac{4}{3}\\\\0 & 0 & 0 & 0 & 1 & \\frac{2}{3} & - \\frac{5}{3}\\end{matrix}\\right]$"
      ],
      "text/plain": [
       "Matrix([\n",
       "[1, 0, 1/2, 0, 0, -1/6,  2/3],\n",
       "[0, 1, 1/2, 0, 0,  1/6,  1/3],\n",
       "[0, 0,   0, 1, 0,  1/3, -4/3],\n",
       "[0, 0,   0, 0, 1,  2/3, -5/3]])"
      ]
     },
     "execution_count": 20,
     "metadata": {},
     "output_type": "execute_result"
    }
   ],
   "source": [
    "frA=Matrix.hstack(A,eye(4)).rref(pivots=False)\n",
    "frA"
   ]
  },
  {
   "cell_type": "code",
   "execution_count": 21,
   "id": "572a9bc9",
   "metadata": {},
   "outputs": [
    {
     "data": {
      "text/latex": [
       "$\\displaystyle \\left[\\begin{matrix}0 & 0 & - \\frac{1}{6} & \\frac{2}{3}\\\\0 & 0 & \\frac{1}{6} & \\frac{1}{3}\\\\1 & 0 & \\frac{1}{3} & - \\frac{4}{3}\\\\0 & 1 & \\frac{2}{3} & - \\frac{5}{3}\\end{matrix}\\right]$"
      ],
      "text/plain": [
       "Matrix([\n",
       "[0, 0, -1/6,  2/3],\n",
       "[0, 0,  1/6,  1/3],\n",
       "[1, 0,  1/3, -4/3],\n",
       "[0, 1,  2/3, -5/3]])"
      ]
     },
     "execution_count": 21,
     "metadata": {},
     "output_type": "execute_result"
    }
   ],
   "source": [
    "Q=frA[:,3:]\n",
    "H=frA[:,:3]\n",
    "Q"
   ]
  },
  {
   "cell_type": "code",
   "execution_count": 22,
   "id": "7e47040e",
   "metadata": {},
   "outputs": [
    {
     "data": {
      "text/latex": [
       "$\\displaystyle \\left[\\begin{matrix}1 & 0 & \\frac{1}{2}\\\\0 & 1 & \\frac{1}{2}\\\\0 & 0 & 0\\\\0 & 0 & 0\\end{matrix}\\right]$"
      ],
      "text/plain": [
       "Matrix([\n",
       "[1, 0, 1/2],\n",
       "[0, 1, 1/2],\n",
       "[0, 0,   0],\n",
       "[0, 0,   0]])"
      ]
     },
     "execution_count": 22,
     "metadata": {},
     "output_type": "execute_result"
    }
   ],
   "source": [
    "H"
   ]
  },
  {
   "cell_type": "markdown",
   "id": "19b72e37",
   "metadata": {},
   "source": [
    "Como $QA=H$, haciendo $Q^{-1}H$ recuperamos $A$. Como las dos últimas filas de $H$ son cero, sólo nos interesan las dos primeras filas $H$ y las dos primeras columnas de $Q^{-1}$."
   ]
  },
  {
   "cell_type": "code",
   "execution_count": 23,
   "id": "a3ebbc87",
   "metadata": {},
   "outputs": [
    {
     "data": {
      "text/latex": [
       "$\\displaystyle \\left[\\begin{matrix}2 & 0 & 1\\\\3 & -1 & 1\\\\-2 & 4 & 1\\\\1 & 1 & 1\\end{matrix}\\right]$"
      ],
      "text/plain": [
       "Matrix([\n",
       "[ 2,  0, 1],\n",
       "[ 3, -1, 1],\n",
       "[-2,  4, 1],\n",
       "[ 1,  1, 1]])"
      ]
     },
     "execution_count": 23,
     "metadata": {},
     "output_type": "execute_result"
    }
   ],
   "source": [
    "Q.inv()*H"
   ]
  },
  {
   "cell_type": "code",
   "execution_count": 24,
   "id": "1f92f3f6",
   "metadata": {},
   "outputs": [
    {
     "data": {
      "text/plain": [
       "True"
      ]
     },
     "execution_count": 24,
     "metadata": {},
     "output_type": "execute_result"
    }
   ],
   "source": [
    "E==Q.inv()[:,:2]"
   ]
  },
  {
   "cell_type": "code",
   "execution_count": 25,
   "id": "7f765229",
   "metadata": {},
   "outputs": [
    {
     "data": {
      "text/plain": [
       "True"
      ]
     },
     "execution_count": 25,
     "metadata": {},
     "output_type": "execute_result"
    }
   ],
   "source": [
    "F==H[:2,:]"
   ]
  },
  {
   "cell_type": "markdown",
   "id": "ce9dd54a",
   "metadata": {},
   "source": [
    "## Soluciónes mínimo cuadráticas"
   ]
  },
  {
   "cell_type": "markdown",
   "id": "5040b014",
   "metadata": {},
   "source": [
    "Una de las aplicaciones de la inversa generalizada de Moore-Penrose es el cálculo de soluciones óptimas (o de norma mínima) minimo-cuadráticas de un sistema de ecuaciones. Si $Ax=b$ es un sistema de ecuaciones, entonces la solución óptima mínimo-cuadrática de ese sistema es $A^\\dagger b$.\n",
    "\n",
    "Ilustremos esta construcción con el Ejemplo 13 (Capítulo VII) de [L. Merino, E. Santos, [Álgebra Lineal con Métodos Elementales](https://www.amazon.es/%C3%81lgebra-lineal-m%C3%A9todos-elementales-GONZALEZ/dp/8497324811)]."
   ]
  },
  {
   "cell_type": "markdown",
   "id": "bf7b32a9",
   "metadata": {},
   "source": [
    "### Ejemplo\n",
    "\n",
    "Calcular una solución óptima mínimo-cuadrática del sistema $Ax=b$ con \n",
    "$$\n",
    "A=\\begin{pmatrix}\n",
    "2 & 0 & 2 & 0 \\\\\n",
    "1 & 1 & 2 & 1 \\\\\n",
    "-1 & 3 & 2 & 3 \n",
    "\\end{pmatrix}\n",
    "$$\n",
    "y $b=(6,0,2)^t$."
   ]
  },
  {
   "cell_type": "code",
   "execution_count": 26,
   "id": "1f0484ac",
   "metadata": {},
   "outputs": [
    {
     "data": {
      "text/latex": [
       "$\\displaystyle \\left[\\begin{matrix}2 & 0 & 2 & 0\\\\1 & 1 & 2 & 1\\\\-1 & 3 & 2 & 3\\end{matrix}\\right]$"
      ],
      "text/plain": [
       "Matrix([\n",
       "[ 2, 0, 2, 0],\n",
       "[ 1, 1, 2, 1],\n",
       "[-1, 3, 2, 3]])"
      ]
     },
     "execution_count": 26,
     "metadata": {},
     "output_type": "execute_result"
    }
   ],
   "source": [
    "A=Matrix([(2,0,2,0),(1,1,2,1),(-1,3,2,3)])\n",
    "A"
   ]
  },
  {
   "cell_type": "code",
   "execution_count": 27,
   "id": "1880d3a2",
   "metadata": {},
   "outputs": [],
   "source": [
    "b=Matrix([6,0,2])"
   ]
  },
  {
   "cell_type": "code",
   "execution_count": 28,
   "id": "c0cdcc3e",
   "metadata": {},
   "outputs": [
    {
     "data": {
      "text/latex": [
       "$\\displaystyle \\left[\\begin{matrix}\\frac{1}{5} & \\frac{1}{10} & - \\frac{1}{10}\\\\- \\frac{3}{70} & \\frac{1}{70} & \\frac{9}{70}\\\\\\frac{11}{70} & \\frac{4}{35} & \\frac{1}{35}\\\\- \\frac{3}{70} & \\frac{1}{70} & \\frac{9}{70}\\end{matrix}\\right]$"
      ],
      "text/plain": [
       "Matrix([\n",
       "[  1/5, 1/10, -1/10],\n",
       "[-3/70, 1/70,  9/70],\n",
       "[11/70, 4/35,  1/35],\n",
       "[-3/70, 1/70,  9/70]])"
      ]
     },
     "execution_count": 28,
     "metadata": {},
     "output_type": "execute_result"
    }
   ],
   "source": [
    "igA=A.pinv()\n",
    "igA"
   ]
  },
  {
   "cell_type": "code",
   "execution_count": 29,
   "id": "46f65a50",
   "metadata": {},
   "outputs": [
    {
     "data": {
      "text/latex": [
       "$\\displaystyle \\left[\\begin{matrix}1\\\\0\\\\1\\\\0\\end{matrix}\\right]$"
      ],
      "text/plain": [
       "Matrix([\n",
       "[1],\n",
       "[0],\n",
       "[1],\n",
       "[0]])"
      ]
     },
     "execution_count": 29,
     "metadata": {},
     "output_type": "execute_result"
    }
   ],
   "source": [
    "xo=igA*b\n",
    "xo"
   ]
  },
  {
   "cell_type": "markdown",
   "id": "497c1d0b",
   "metadata": {},
   "source": [
    "El sistema no es compatible, ya que $Ax\\neq b$."
   ]
  },
  {
   "cell_type": "code",
   "execution_count": 30,
   "id": "05502759",
   "metadata": {
    "scrolled": true
   },
   "outputs": [
    {
     "data": {
      "text/latex": [
       "$\\displaystyle \\left[\\begin{matrix}4\\\\3\\\\1\\end{matrix}\\right]$"
      ],
      "text/plain": [
       "Matrix([\n",
       "[4],\n",
       "[3],\n",
       "[1]])"
      ]
     },
     "execution_count": 30,
     "metadata": {},
     "output_type": "execute_result"
    }
   ],
   "source": [
    "A*xo"
   ]
  },
  {
   "cell_type": "markdown",
   "id": "50889823",
   "metadata": {},
   "source": [
    "El siguiente ejemplo se corresponde con los Ejemplos 14 y 15 (Capítulo VII) de [L. Merino, E. Santos, [Álgebra Lineal con Métodos Elementales](https://www.amazon.es/%C3%81lgebra-lineal-m%C3%A9todos-elementales-GONZALEZ/dp/8497324811)]."
   ]
  },
  {
   "cell_type": "markdown",
   "id": "c24d1d96",
   "metadata": {},
   "source": [
    "### Ejemplo\n",
    "\n",
    "La siguiente tabla muestra la estatura media de los niños de cero a cuatro semestres de vida\n",
    "\n",
    "| x | 0 | 1 | 2 | 3 | 4 |\n",
    "| :---| :--- | :--- | :--- | :--- | :---| \n",
    "| y | 50 | 66.5 | 75 | 81 | 86.5 |\n",
    "\n",
    "Intentemos ajustar una recta $y=ax+b$. Idealmente, por los datos que tenemos\n",
    "$$\n",
    "\\begin{array}{rcl}\n",
    "b & =& 50,\\\\\n",
    "a + b & =& 66.5,\\\\\n",
    "2a+b &=& 75,\\\\\n",
    "3a+b &=& 81,\\\\\n",
    "4a+b &=& 86.5.\n",
    "\\end{array}\n",
    "$$\n",
    "Que podemos escribir en forma de matriz como \n",
    "$$\n",
    "\\begin{pmatrix}\n",
    "0 & 1\\\\\n",
    "1 & 1\\\\\n",
    "2 & 1\\\\\n",
    "3 & 1\\\\\n",
    "4 & 1\n",
    "\\end{pmatrix} \n",
    "\\begin{pmatrix}\n",
    "a \\\\ b\n",
    "\\end{pmatrix}\n",
    "= \n",
    "\\begin{pmatrix}\n",
    "50 \\\\ 66.5 \\\\ 75 \\\\ 81 \\\\ 86.5\n",
    "\\end{pmatrix}.\n",
    "$$"
   ]
  },
  {
   "cell_type": "code",
   "execution_count": 31,
   "id": "e5c670c9",
   "metadata": {},
   "outputs": [
    {
     "data": {
      "text/latex": [
       "$\\displaystyle \\left[\\begin{matrix}0 & 1\\\\1 & 1\\\\2 & 1\\\\3 & 1\\\\4 & 1\\end{matrix}\\right]$"
      ],
      "text/plain": [
       "Matrix([\n",
       "[0, 1],\n",
       "[1, 1],\n",
       "[2, 1],\n",
       "[3, 1],\n",
       "[4, 1]])"
      ]
     },
     "execution_count": 31,
     "metadata": {},
     "output_type": "execute_result"
    }
   ],
   "source": [
    "A=Matrix([range(5),[1]*5]).T\n",
    "A"
   ]
  },
  {
   "cell_type": "code",
   "execution_count": 32,
   "id": "cd325d0f",
   "metadata": {},
   "outputs": [
    {
     "data": {
      "text/latex": [
       "$\\displaystyle \\left[\\begin{matrix}50\\\\66.5\\\\75\\\\81\\\\86.5\\end{matrix}\\right]$"
      ],
      "text/plain": [
       "Matrix([\n",
       "[  50],\n",
       "[66.5],\n",
       "[  75],\n",
       "[  81],\n",
       "[86.5]])"
      ]
     },
     "execution_count": 32,
     "metadata": {},
     "output_type": "execute_result"
    }
   ],
   "source": [
    "alt=Matrix((50,66.5,75,81,86.5))\n",
    "alt"
   ]
  },
  {
   "cell_type": "code",
   "execution_count": 33,
   "id": "64a13a8e",
   "metadata": {},
   "outputs": [
    {
     "data": {
      "text/latex": [
       "$\\displaystyle \\left[\\begin{matrix}- \\frac{1}{5} & - \\frac{1}{10} & 0 & \\frac{1}{10} & \\frac{1}{5}\\\\\\frac{3}{5} & \\frac{2}{5} & \\frac{1}{5} & 0 & - \\frac{1}{5}\\end{matrix}\\right]$"
      ],
      "text/plain": [
       "Matrix([\n",
       "[-1/5, -1/10,   0, 1/10,  1/5],\n",
       "[ 3/5,   2/5, 1/5,    0, -1/5]])"
      ]
     },
     "execution_count": 33,
     "metadata": {},
     "output_type": "execute_result"
    }
   ],
   "source": [
    "igA=A.pinv()\n",
    "igA"
   ]
  },
  {
   "cell_type": "code",
   "execution_count": 34,
   "id": "8fa9c286",
   "metadata": {},
   "outputs": [
    {
     "data": {
      "text/latex": [
       "$\\displaystyle \\left[\\begin{matrix}8.75\\\\54.3\\end{matrix}\\right]$"
      ],
      "text/plain": [
       "Matrix([\n",
       "[8.75],\n",
       "[54.3]])"
      ]
     },
     "execution_count": 34,
     "metadata": {},
     "output_type": "execute_result"
    }
   ],
   "source": [
    "xo=igA*alt\n",
    "xo"
   ]
  },
  {
   "cell_type": "code",
   "execution_count": 35,
   "id": "9045988a",
   "metadata": {},
   "outputs": [],
   "source": [
    "a,b = tuple(xo)"
   ]
  },
  {
   "cell_type": "markdown",
   "id": "f009a782",
   "metadata": {},
   "source": [
    "Así nuestra recta de aproximación es $y=8.75x+54.3$."
   ]
  },
  {
   "cell_type": "code",
   "execution_count": 36,
   "id": "d2be11a3",
   "metadata": {},
   "outputs": [],
   "source": [
    "from matplotlib import pyplot"
   ]
  },
  {
   "cell_type": "code",
   "execution_count": 37,
   "id": "2f938be3",
   "metadata": {
    "scrolled": false
   },
   "outputs": [
    {
     "data": {
      "image/png": "[encoded data removed]",
      "text/plain": [
       "<Figure size 500x500 with 1 Axes>"
      ]
     },
     "metadata": {},
     "output_type": "display_data"
    }
   ],
   "source": [
    "pyplot.figure(figsize = (5,5))\n",
    "x=range(5)\n",
    "y=alt.T.tolist()[0]\n",
    "r=[a*t+b for t in x]\n",
    "pyplot.plot(x, y, 'b.')\n",
    "pyplot.plot(x, r, 'r')\n",
    "pyplot.xlabel('x')\n",
    "pyplot.ylabel('y')\n",
    "pyplot.show()"
   ]
  },
  {
   "cell_type": "markdown",
   "id": "794f7aa8",
   "metadata": {},
   "source": [
    "### Ejemplo\n",
    "\n",
    "Supongamos que en nuestro problema de edades y alturas queremos ajustar $y$ por un polinomio de grado dos en $x$, $y=ax^2+bx+c$. Evaluando ese polinomio en los valores que conocemos en $x$ y en $y$, obtenemos \n",
    "$$\n",
    "\\begin{pmatrix}\n",
    "0 & 0 & 1\\\\\n",
    "1 & 1 & 1\\\\\n",
    "4 & 2 & 1\\\\\n",
    "9 & 3 & 1\\\\\n",
    "16 & 4 & 1\n",
    "\\end{pmatrix} \n",
    "\\begin{pmatrix}\n",
    "a \\\\ b \\\\ c\n",
    "\\end{pmatrix}\n",
    "= \n",
    "\\begin{pmatrix}\n",
    "50 \\\\ 66.5 \\\\ 75 \\\\ 81 \\\\ 86.5\n",
    "\\end{pmatrix}.\n",
    "$$"
   ]
  },
  {
   "cell_type": "code",
   "execution_count": 38,
   "id": "9317dbf1",
   "metadata": {
    "scrolled": true
   },
   "outputs": [
    {
     "data": {
      "text/latex": [
       "$\\displaystyle \\left[\\begin{matrix}0 & 0 & 1\\\\1 & 1 & 1\\\\4 & 2 & 1\\\\9 & 3 & 1\\\\16 & 4 & 1\\end{matrix}\\right]$"
      ],
      "text/plain": [
       "Matrix([\n",
       "[ 0, 0, 1],\n",
       "[ 1, 1, 1],\n",
       "[ 4, 2, 1],\n",
       "[ 9, 3, 1],\n",
       "[16, 4, 1]])"
      ]
     },
     "execution_count": 38,
     "metadata": {},
     "output_type": "execute_result"
    }
   ],
   "source": [
    "A=Matrix([[i**2 for i in range(5)],range(5),[1]*5]).T\n",
    "A"
   ]
  },
  {
   "cell_type": "code",
   "execution_count": 39,
   "id": "164dbf7f",
   "metadata": {},
   "outputs": [
    {
     "data": {
      "text/latex": [
       "$\\displaystyle \\left[\\begin{matrix}\\frac{1}{7} & - \\frac{1}{14} & - \\frac{1}{7} & - \\frac{1}{14} & \\frac{1}{7}\\\\- \\frac{27}{35} & \\frac{13}{70} & \\frac{4}{7} & \\frac{27}{70} & - \\frac{13}{35}\\\\\\frac{31}{35} & \\frac{9}{35} & - \\frac{3}{35} & - \\frac{1}{7} & \\frac{3}{35}\\end{matrix}\\right]$"
      ],
      "text/plain": [
       "Matrix([\n",
       "[   1/7, -1/14,  -1/7, -1/14,    1/7],\n",
       "[-27/35, 13/70,   4/7, 27/70, -13/35],\n",
       "[ 31/35,  9/35, -3/35,  -1/7,   3/35]])"
      ]
     },
     "execution_count": 39,
     "metadata": {},
     "output_type": "execute_result"
    }
   ],
   "source": [
    "igA=A.pinv()\n",
    "igA"
   ]
  },
  {
   "cell_type": "code",
   "execution_count": 40,
   "id": "df7535e2",
   "metadata": {},
   "outputs": [
    {
     "data": {
      "text/latex": [
       "$\\displaystyle \\left[\\begin{matrix}-1.75\\\\15.75\\\\50.8\\end{matrix}\\right]$"
      ],
      "text/plain": [
       "Matrix([\n",
       "[-1.75],\n",
       "[15.75],\n",
       "[ 50.8]])"
      ]
     },
     "execution_count": 40,
     "metadata": {},
     "output_type": "execute_result"
    }
   ],
   "source": [
    "xo=igA*alt\n",
    "xo"
   ]
  },
  {
   "cell_type": "code",
   "execution_count": 41,
   "id": "a38e91bf",
   "metadata": {},
   "outputs": [],
   "source": [
    "a,b,c=tuple(xo)"
   ]
  },
  {
   "cell_type": "code",
   "execution_count": 42,
   "id": "f1c72868",
   "metadata": {},
   "outputs": [
    {
     "data": {
      "image/png": "[encoded data removed]",
      "text/plain": [
       "<Figure size 500x500 with 1 Axes>"
      ]
     },
     "metadata": {},
     "output_type": "display_data"
    }
   ],
   "source": [
    "pyplot.figure(figsize = (5,5))\n",
    "x=range(5)\n",
    "y=alt.T.tolist()[0]\n",
    "xp=[i/100 for i in range(400)]\n",
    "p=[a*t**2+b*t+c for t in xp]\n",
    "pyplot.plot(x, y, 'b.')\n",
    "pyplot.plot(xp, p, 'p',c=\"r\",linewidth=0.1)\n",
    "pyplot.xlabel('x')\n",
    "pyplot.ylabel('y')\n",
    "pyplot.show()"
   ]
  },
  {
   "cell_type": "markdown",
   "id": "35ac0b79",
   "metadata": {},
   "source": [
    "En nuestros dos últimos ejemplos, $A$ es de rango pleno por columnas, por lo que la solución minimo-cuadrática podríamos haberla calculado con $A^L=(A^tA)^{-1}A^t$ (inversa a la izquierda de $A$)."
   ]
  },
  {
   "cell_type": "code",
   "execution_count": 43,
   "id": "dc4047ce",
   "metadata": {},
   "outputs": [
    {
     "data": {
      "text/latex": [
       "$\\displaystyle \\left[\\begin{matrix}\\frac{1}{7} & - \\frac{1}{14} & - \\frac{1}{7} & - \\frac{1}{14} & \\frac{1}{7}\\\\- \\frac{27}{35} & \\frac{13}{70} & \\frac{4}{7} & \\frac{27}{70} & - \\frac{13}{35}\\\\\\frac{31}{35} & \\frac{9}{35} & - \\frac{3}{35} & - \\frac{1}{7} & \\frac{3}{35}\\end{matrix}\\right]$"
      ],
      "text/plain": [
       "Matrix([\n",
       "[   1/7, -1/14,  -1/7, -1/14,    1/7],\n",
       "[-27/35, 13/70,   4/7, 27/70, -13/35],\n",
       "[ 31/35,  9/35, -3/35,  -1/7,   3/35]])"
      ]
     },
     "execution_count": 43,
     "metadata": {},
     "output_type": "execute_result"
    }
   ],
   "source": [
    "AL=(A.T*A).inv()*A.T\n",
    "AL"
   ]
  },
  {
   "cell_type": "code",
   "execution_count": 44,
   "id": "04fce363",
   "metadata": {},
   "outputs": [
    {
     "data": {
      "text/plain": [
       "True"
      ]
     },
     "execution_count": 44,
     "metadata": {},
     "output_type": "execute_result"
    }
   ],
   "source": [
    "AL==igA"
   ]
  }
 ],
 "metadata": {
  "kernelspec": {
   "display_name": "Python 3 (ipykernel)",
   "language": "python",
   "name": "python3"
  },
  "language_info": {
   "codemirror_mode": {
    "name": "ipython",
    "version": 3
   },
   "file_extension": ".py",
   "mimetype": "text/x-python",
   "name": "python",
   "nbconvert_exporter": "python",
   "pygments_lexer": "ipython3",
   "version": "3.11.0"
  }
 },
 "nbformat": 4,
 "nbformat_minor": 5
}
