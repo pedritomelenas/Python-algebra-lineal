{
 "cells": [
  {
   "cell_type": "markdown",
   "id": "236a58d2",
   "metadata": {},
   "source": [
    "# Descomposición en valores singulares\n",
    "\n",
    "Para ilustrar la descomposición en valores singulares de una matriz vamos a hacer uso del Ejemplo VI.1.8 de [[I. Ojeda, J. Gago, Métodos matemáticos para la Estadística](https://publicauex.unex.es/libro/metodos-matematicos-para-estadistica_135467/)].\n",
    "\n",
    "\n",
    "Otro buen ejemplo de cálculo de esta descomposición paso a paso se puede encontrar [aquí](https://rpubs.com/aaronsc32/singular-value-decomposition-r)."
   ]
  },
  {
   "cell_type": "markdown",
   "id": "0dbb3e6c",
   "metadata": {},
   "source": [
    "Vamos a utilizar `singular_value_decomposition` que apareció en la versión 1.8 de `sympy`. Si nuestra versión es anterior, podemos ejecutar `pip install \"sympy>=1.8\"` (luego tenemos que reiniciar el núcleo)."
   ]
  },
  {
   "cell_type": "code",
   "execution_count": 1,
   "id": "c09d6601",
   "metadata": {},
   "outputs": [],
   "source": [
    "from sympy import Matrix"
   ]
  },
  {
   "cell_type": "code",
   "execution_count": 2,
   "id": "dcdfd67a",
   "metadata": {},
   "outputs": [
    {
     "data": {
      "text/latex": [
       "$\\displaystyle \\left[\\begin{matrix}2 & 0 & 1\\\\3 & -1 & 1\\\\-2 & 4 & 1\\\\1 & 1 & 1\\end{matrix}\\right]$"
      ],
      "text/plain": [
       "Matrix([\n",
       "[ 2,  0, 1],\n",
       "[ 3, -1, 1],\n",
       "[-2,  4, 1],\n",
       "[ 1,  1, 1]])"
      ]
     },
     "execution_count": 2,
     "metadata": {},
     "output_type": "execute_result"
    }
   ],
   "source": [
    "A=Matrix([(2,0,1),(3,-1,1),(-2,4,1),(1,1,1)])\n",
    "A"
   ]
  },
  {
   "cell_type": "code",
   "execution_count": 3,
   "id": "1455b626",
   "metadata": {},
   "outputs": [
    {
     "data": {
      "text/latex": [
       "$\\displaystyle \\left[\\begin{matrix}\\frac{1}{2} & - \\frac{\\sqrt{14}}{14}\\\\\\frac{1}{2} & - \\frac{\\sqrt{14}}{7}\\\\\\frac{1}{2} & \\frac{3 \\sqrt{14}}{14}\\\\\\frac{1}{2} & 0\\end{matrix}\\right]$"
      ],
      "text/plain": [
       "Matrix([\n",
       "[1/2,  -sqrt(14)/14],\n",
       "[1/2,   -sqrt(14)/7],\n",
       "[1/2, 3*sqrt(14)/14],\n",
       "[1/2,             0]])"
      ]
     },
     "execution_count": 3,
     "metadata": {},
     "output_type": "execute_result"
    }
   ],
   "source": [
    "U,D,V=A.singular_value_decomposition()\n",
    "U"
   ]
  },
  {
   "cell_type": "code",
   "execution_count": 4,
   "id": "fedd53bc",
   "metadata": {},
   "outputs": [
    {
     "data": {
      "text/latex": [
       "$\\displaystyle \\left[\\begin{matrix}2 \\sqrt{3} & 0\\\\0 & 2 \\sqrt{7}\\end{matrix}\\right]$"
      ],
      "text/plain": [
       "Matrix([\n",
       "[2*sqrt(3),         0],\n",
       "[        0, 2*sqrt(7)]])"
      ]
     },
     "execution_count": 4,
     "metadata": {},
     "output_type": "execute_result"
    }
   ],
   "source": [
    "D"
   ]
  },
  {
   "cell_type": "code",
   "execution_count": 5,
   "id": "a4217b18",
   "metadata": {},
   "outputs": [
    {
     "data": {
      "text/latex": [
       "$\\displaystyle \\left[\\begin{matrix}\\frac{\\sqrt{3}}{3} & - \\frac{\\sqrt{2}}{2}\\\\\\frac{\\sqrt{3}}{3} & \\frac{\\sqrt{2}}{2}\\\\\\frac{\\sqrt{3}}{3} & 0\\end{matrix}\\right]$"
      ],
      "text/plain": [
       "Matrix([\n",
       "[sqrt(3)/3, -sqrt(2)/2],\n",
       "[sqrt(3)/3,  sqrt(2)/2],\n",
       "[sqrt(3)/3,          0]])"
      ]
     },
     "execution_count": 5,
     "metadata": {},
     "output_type": "execute_result"
    }
   ],
   "source": [
    "V"
   ]
  },
  {
   "cell_type": "code",
   "execution_count": 6,
   "id": "d46163ad",
   "metadata": {},
   "outputs": [
    {
     "data": {
      "text/plain": [
       "True"
      ]
     },
     "execution_count": 6,
     "metadata": {},
     "output_type": "execute_result"
    }
   ],
   "source": [
    "U*D*V.T==A"
   ]
  },
  {
   "cell_type": "markdown",
   "id": "58f4a7bc",
   "metadata": {},
   "source": [
    "### Proceso paso a paso a partir de los valores propios de $A^tA$"
   ]
  },
  {
   "cell_type": "markdown",
   "id": "6d7786d5",
   "metadata": {},
   "source": [
    "Vamos a hacer el proceso paso a paso. Como sabemos, los valores singulares son las raíces cuadradas de los valores propios de $A^tA$."
   ]
  },
  {
   "cell_type": "code",
   "execution_count": 7,
   "id": "65876841",
   "metadata": {},
   "outputs": [],
   "source": [
    "from sympy import sqrt, eye, GramSchmidt"
   ]
  },
  {
   "cell_type": "code",
   "execution_count": 8,
   "id": "c66e6864",
   "metadata": {},
   "outputs": [
    {
     "data": {
      "text/latex": [
       "$\\displaystyle \\left[\\begin{matrix}18 & -10 & 4\\\\-10 & 18 & 4\\\\4 & 4 & 4\\end{matrix}\\right]$"
      ],
      "text/plain": [
       "Matrix([\n",
       "[ 18, -10, 4],\n",
       "[-10,  18, 4],\n",
       "[  4,   4, 4]])"
      ]
     },
     "execution_count": 8,
     "metadata": {},
     "output_type": "execute_result"
    }
   ],
   "source": [
    "A.T*A"
   ]
  },
  {
   "cell_type": "code",
   "execution_count": 9,
   "id": "31b53114",
   "metadata": {},
   "outputs": [
    {
     "data": {
      "text/plain": [
       "{28: 1, 12: 1, 0: 1}"
      ]
     },
     "execution_count": 9,
     "metadata": {},
     "output_type": "execute_result"
    }
   ],
   "source": [
    "ev=(A.T*A).eigenvals()\n",
    "ev"
   ]
  },
  {
   "cell_type": "markdown",
   "id": "e7161da4",
   "metadata": {},
   "source": [
    "Tomamos las raíces cuadradas de los valores no nulos (queremos una descomposición corta)."
   ]
  },
  {
   "cell_type": "code",
   "execution_count": 10,
   "id": "3c7b9934",
   "metadata": {
    "scrolled": true
   },
   "outputs": [
    {
     "data": {
      "text/plain": [
       "[2*sqrt(7), 2*sqrt(3)]"
      ]
     },
     "execution_count": 10,
     "metadata": {},
     "output_type": "execute_result"
    }
   ],
   "source": [
    "d=[sqrt(a) for a in ev.keys() if a!=0]\n",
    "d"
   ]
  },
  {
   "cell_type": "markdown",
   "id": "f5075086",
   "metadata": {},
   "source": [
    "La matriz $V$ está formada por los vectores propios correspondientes a 28 y 12."
   ]
  },
  {
   "cell_type": "code",
   "execution_count": 11,
   "id": "733bdc04",
   "metadata": {},
   "outputs": [
    {
     "data": {
      "text/plain": [
       "[Matrix([\n",
       " [-1],\n",
       " [ 1],\n",
       " [ 0]])]"
      ]
     },
     "execution_count": 11,
     "metadata": {},
     "output_type": "execute_result"
    }
   ],
   "source": [
    "V28=(A.T*A - 28*eye(3)).nullspace()\n",
    "V28"
   ]
  },
  {
   "cell_type": "code",
   "execution_count": 12,
   "id": "117c5316",
   "metadata": {},
   "outputs": [
    {
     "data": {
      "text/plain": [
       "[Matrix([\n",
       " [1],\n",
       " [1],\n",
       " [1]])]"
      ]
     },
     "execution_count": 12,
     "metadata": {},
     "output_type": "execute_result"
    }
   ],
   "source": [
    "V12=(A.T*A - 12*eye(3)).nullspace()\n",
    "V12"
   ]
  },
  {
   "cell_type": "markdown",
   "id": "3a339847",
   "metadata": {},
   "source": [
    "Juntamos las bases, ortogonalizamos por Gram-Schmidt y las ponemos como columnas en una matriz."
   ]
  },
  {
   "cell_type": "code",
   "execution_count": 13,
   "id": "a8114666",
   "metadata": {},
   "outputs": [
    {
     "data": {
      "text/latex": [
       "$\\displaystyle \\left[\\begin{matrix}- \\frac{\\sqrt{2}}{2} & \\frac{\\sqrt{3}}{3}\\\\\\frac{\\sqrt{2}}{2} & \\frac{\\sqrt{3}}{3}\\\\0 & \\frac{\\sqrt{3}}{3}\\end{matrix}\\right]$"
      ],
      "text/plain": [
       "Matrix([\n",
       "[-sqrt(2)/2, sqrt(3)/3],\n",
       "[ sqrt(2)/2, sqrt(3)/3],\n",
       "[         0, sqrt(3)/3]])"
      ]
     },
     "execution_count": 13,
     "metadata": {},
     "output_type": "execute_result"
    }
   ],
   "source": [
    "V=Matrix.hstack(*GramSchmidt(V28+V12,True))\n",
    "V"
   ]
  },
  {
   "cell_type": "code",
   "execution_count": 14,
   "id": "785a70b5",
   "metadata": {},
   "outputs": [
    {
     "data": {
      "text/latex": [
       "$\\displaystyle \\left[\\begin{matrix}2 \\sqrt{7} & 0\\\\0 & 2 \\sqrt{3}\\end{matrix}\\right]$"
      ],
      "text/plain": [
       "Matrix([\n",
       "[2*sqrt(7),         0],\n",
       "[        0, 2*sqrt(3)]])"
      ]
     },
     "execution_count": 14,
     "metadata": {},
     "output_type": "execute_result"
    }
   ],
   "source": [
    "D=Matrix.diag(d)\n",
    "D"
   ]
  },
  {
   "cell_type": "markdown",
   "id": "e9a4c44b",
   "metadata": {},
   "source": [
    "Como $A=UDV^t$, tenemos $AV=UD$, luego $U$ se calcula como sigue."
   ]
  },
  {
   "cell_type": "code",
   "execution_count": 15,
   "id": "c9d0f081",
   "metadata": {},
   "outputs": [
    {
     "data": {
      "text/latex": [
       "$\\displaystyle \\left[\\begin{matrix}- \\frac{\\sqrt{14}}{14} & \\frac{1}{2}\\\\- \\frac{\\sqrt{14}}{7} & \\frac{1}{2}\\\\\\frac{3 \\sqrt{14}}{14} & \\frac{1}{2}\\\\0 & \\frac{1}{2}\\end{matrix}\\right]$"
      ],
      "text/plain": [
       "Matrix([\n",
       "[ -sqrt(14)/14, 1/2],\n",
       "[  -sqrt(14)/7, 1/2],\n",
       "[3*sqrt(14)/14, 1/2],\n",
       "[            0, 1/2]])"
      ]
     },
     "execution_count": 15,
     "metadata": {},
     "output_type": "execute_result"
    }
   ],
   "source": [
    "U=A*V*D.inv()\n",
    "U"
   ]
  },
  {
   "cell_type": "markdown",
   "id": "1b334a3d",
   "metadata": {},
   "source": [
    "Comprobemos que es efectivamente una descomposición de $A$."
   ]
  },
  {
   "cell_type": "code",
   "execution_count": 16,
   "id": "3ebbe840",
   "metadata": {},
   "outputs": [
    {
     "data": {
      "text/plain": [
       "True"
      ]
     },
     "execution_count": 16,
     "metadata": {},
     "output_type": "execute_result"
    }
   ],
   "source": [
    "U*D*V.T==A"
   ]
  }
 ],
 "metadata": {
  "kernelspec": {
   "display_name": "Python 3 (ipykernel)",
   "language": "python",
   "name": "python3"
  },
  "language_info": {
   "codemirror_mode": {
    "name": "ipython",
    "version": 3
   },
   "file_extension": ".py",
   "mimetype": "text/x-python",
   "name": "python",
   "nbconvert_exporter": "python",
   "pygments_lexer": "ipython3",
   "version": "3.11.0"
  }
 },
 "nbformat": 4,
 "nbformat_minor": 5
}
