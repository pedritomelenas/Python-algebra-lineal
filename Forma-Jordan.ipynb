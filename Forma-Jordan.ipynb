{
 "cells": [
  {
   "attachments": {},
   "cell_type": "markdown",
   "id": "19a5c4d7",
   "metadata": {},
   "source": [
    "## Forma de Jordan\n",
    "\n",
    "En este documento implementamos algunos ejemplos de cálculo de formas canónicas de Jordan (y las matrices de paso)."
   ]
  },
  {
   "cell_type": "code",
   "execution_count": 2,
   "id": "5f43a430",
   "metadata": {},
   "outputs": [],
   "source": [
    "from sympy import Matrix, eye"
   ]
  },
  {
   "attachments": {},
   "cell_type": "markdown",
   "id": "7b18474c",
   "metadata": {},
   "source": [
    "El primer ejemplo que vamos a desarrolar usando `sympy` es el Ejercicio resuelto número 69 de [L. Merino, E. Santos [Álgebra Lineal con Métodos Elementales](https://www.amazon.es/%C3%81lgebra-lineal-m%C3%A9todos-elementales-GONZALEZ/dp/8497324811)].\n",
    "\n",
    "\n",
    "## Ejemplo 1 \n",
    "\n",
    "*Calcula la forma normal de Jordan de la matriz*\n",
    "$$\n",
    "\\begin{pmatrix}\n",
    "0& -4 & 0 & -1 \\\\ 0 & 2 & 0 & 0 \\\\ 0 & 0 & 0 & 0 \\\\ 4 & 8 & -12 & 4\n",
    "\\end{pmatrix}.\n",
    "$$"
   ]
  },
  {
   "cell_type": "code",
   "execution_count": 3,
   "id": "efd44330",
   "metadata": {},
   "outputs": [
    {
     "data": {
      "text/latex": [
       "$\\displaystyle \\left[\\begin{matrix}0 & -4 & 0 & -1\\\\0 & 2 & 0 & 0\\\\0 & 0 & 0 & 0\\\\4 & 8 & -12 & 4\\end{matrix}\\right]$"
      ],
      "text/plain": [
       "Matrix([\n",
       "[0, -4,   0, -1],\n",
       "[0,  2,   0,  0],\n",
       "[0,  0,   0,  0],\n",
       "[4,  8, -12,  4]])"
      ]
     },
     "execution_count": 3,
     "metadata": {},
     "output_type": "execute_result"
    }
   ],
   "source": [
    "A=Matrix([(0,-4,0,-1),(0,2,0,0),(0,0,0,0),(4,8,-12,4)])\n",
    "A"
   ]
  },
  {
   "attachments": {},
   "cell_type": "markdown",
   "id": "e33a3da3",
   "metadata": {},
   "source": [
    "Podemos calcular la fórma canónic de Jordan con el método `jordan_form`."
   ]
  },
  {
   "cell_type": "code",
   "execution_count": 4,
   "id": "47308c5b",
   "metadata": {},
   "outputs": [
    {
     "data": {
      "text/latex": [
       "$\\displaystyle \\left[\\begin{matrix}3 & -2 & 1 & -2\\\\0 & 0 & 0 & 1\\\\1 & 0 & 0 & 0\\\\0 & 4 & 0 & 0\\end{matrix}\\right]$"
      ],
      "text/plain": [
       "Matrix([\n",
       "[3, -2, 1, -2],\n",
       "[0,  0, 0,  1],\n",
       "[1,  0, 0,  0],\n",
       "[0,  4, 0,  0]])"
      ]
     },
     "execution_count": 4,
     "metadata": {},
     "output_type": "execute_result"
    }
   ],
   "source": [
    "P,J=A.jordan_form()\n",
    "P"
   ]
  },
  {
   "cell_type": "code",
   "execution_count": 5,
   "id": "15a99fe9",
   "metadata": {},
   "outputs": [
    {
     "data": {
      "text/latex": [
       "$\\displaystyle \\left[\\begin{matrix}0 & 0 & 0 & 0\\\\0 & 2 & 1 & 0\\\\0 & 0 & 2 & 0\\\\0 & 0 & 0 & 2\\end{matrix}\\right]$"
      ],
      "text/plain": [
       "Matrix([\n",
       "[0, 0, 0, 0],\n",
       "[0, 2, 1, 0],\n",
       "[0, 0, 2, 0],\n",
       "[0, 0, 0, 2]])"
      ]
     },
     "execution_count": 5,
     "metadata": {},
     "output_type": "execute_result"
    }
   ],
   "source": [
    "J"
   ]
  },
  {
   "cell_type": "code",
   "execution_count": 6,
   "id": "ecd8cd68",
   "metadata": {},
   "outputs": [
    {
     "data": {
      "text/latex": [
       "$\\displaystyle \\left[\\begin{matrix}0 & 0 & 0 & 0\\\\0 & 2 & 1 & 0\\\\0 & 0 & 2 & 0\\\\0 & 0 & 0 & 2\\end{matrix}\\right]$"
      ],
      "text/plain": [
       "Matrix([\n",
       "[0, 0, 0, 0],\n",
       "[0, 2, 1, 0],\n",
       "[0, 0, 2, 0],\n",
       "[0, 0, 0, 2]])"
      ]
     },
     "execution_count": 6,
     "metadata": {},
     "output_type": "execute_result"
    }
   ],
   "source": [
    "P.inv()*A*P"
   ]
  },
  {
   "attachments": {},
   "cell_type": "markdown",
   "id": "84fa48c2",
   "metadata": {},
   "source": [
    "Hagamos el cálculo \"a mano\". Veamos primero cuáles son sus valores propios."
   ]
  },
  {
   "cell_type": "code",
   "execution_count": 7,
   "id": "b4daff12",
   "metadata": {},
   "outputs": [
    {
     "data": {
      "text/plain": [
       "[(0,\n",
       "  1,\n",
       "  [Matrix([\n",
       "   [3],\n",
       "   [0],\n",
       "   [1],\n",
       "   [0]])]),\n",
       " (2,\n",
       "  3,\n",
       "  [Matrix([\n",
       "   [-2],\n",
       "   [ 1],\n",
       "   [ 0],\n",
       "   [ 0]]),\n",
       "   Matrix([\n",
       "   [-1/2],\n",
       "   [   0],\n",
       "   [   0],\n",
       "   [   1]])])]"
      ]
     },
     "execution_count": 7,
     "metadata": {},
     "output_type": "execute_result"
    }
   ],
   "source": [
    "A.eigenvects()"
   ]
  },
  {
   "attachments": {},
   "cell_type": "markdown",
   "id": "1c21bc73",
   "metadata": {},
   "source": [
    "Son el 2 con multiplicidad 3, y el 0 con multiplicidad 1. Vemos que la multiplicidad geométrica de 2 es 2, por lo que la matriz no es diagonalizable."
   ]
  },
  {
   "cell_type": "code",
   "execution_count": 8,
   "id": "c57f5df5",
   "metadata": {},
   "outputs": [
    {
     "data": {
      "text/latex": [
       "$\\displaystyle \\left[\\begin{matrix}-2 & -4 & 0 & -1\\\\0 & 0 & 0 & 0\\\\0 & 0 & -2 & 0\\\\4 & 8 & -12 & 2\\end{matrix}\\right]$"
      ],
      "text/plain": [
       "Matrix([\n",
       "[-2, -4,   0, -1],\n",
       "[ 0,  0,   0,  0],\n",
       "[ 0,  0,  -2,  0],\n",
       "[ 4,  8, -12,  2]])"
      ]
     },
     "execution_count": 8,
     "metadata": {},
     "output_type": "execute_result"
    }
   ],
   "source": [
    "A2=A-2*eye(4)\n",
    "A2"
   ]
  },
  {
   "cell_type": "code",
   "execution_count": 9,
   "id": "1f7929e9",
   "metadata": {},
   "outputs": [
    {
     "data": {
      "text/plain": [
       "[Matrix([\n",
       " [-2],\n",
       " [ 1],\n",
       " [ 0],\n",
       " [ 0]]),\n",
       " Matrix([\n",
       " [-1/2],\n",
       " [   0],\n",
       " [   0],\n",
       " [   1]])]"
      ]
     },
     "execution_count": 9,
     "metadata": {},
     "output_type": "execute_result"
    }
   ],
   "source": [
    "A2.nullspace()"
   ]
  },
  {
   "attachments": {},
   "cell_type": "markdown",
   "id": "137d61d0",
   "metadata": {},
   "source": [
    "Por tanto el subespacio propio asociado al 2 tiene dimensión menor que la multiplicidad algebraica de 2 (que es 3). Calculamos $\\operatorname{N}(A-2I)^2$. "
   ]
  },
  {
   "cell_type": "code",
   "execution_count": 10,
   "id": "e917432b",
   "metadata": {},
   "outputs": [
    {
     "data": {
      "text/plain": [
       "[Matrix([\n",
       " [1],\n",
       " [0],\n",
       " [0],\n",
       " [0]]),\n",
       " Matrix([\n",
       " [0],\n",
       " [1],\n",
       " [0],\n",
       " [0]]),\n",
       " Matrix([\n",
       " [0],\n",
       " [0],\n",
       " [0],\n",
       " [1]])]"
      ]
     },
     "execution_count": 10,
     "metadata": {},
     "output_type": "execute_result"
    }
   ],
   "source": [
    "V2_2=(A2**2).nullspace()\n",
    "V2_2"
   ]
  },
  {
   "attachments": {},
   "cell_type": "markdown",
   "id": "e684ca3c",
   "metadata": {},
   "source": [
    "Que ya tiene dimensión tres, igual a la multiplicidad algebraica del autovalor 2. Así el bloque de Jordan correspondiente a este autovalor se formará con una base de $\\operatorname{N}(A-2I)^2$ que contiene a dos vectores de $\\operatorname{N}(A-2I)$.\n",
    "\n",
    "Escogemos un vector $u$ de $\\operatorname{N}(A-2I)^2\\setminus\\operatorname{N}(A-2I)$, calculamos $Au$, que estará en $\\operatorname{N}(A-2I)$, y luego tomamos un vector que complete una base de $\\operatorname{N}(A-2I)$. Con estos tres vectores tendremos la caja de Jordan asociada al autovalor 2."
   ]
  },
  {
   "cell_type": "code",
   "execution_count": 11,
   "id": "52b50d65",
   "metadata": {},
   "outputs": [
    {
     "data": {
      "text/latex": [
       "$\\displaystyle \\left[\\begin{matrix}1\\\\0\\\\0\\\\0\\end{matrix}\\right]$"
      ],
      "text/plain": [
       "Matrix([\n",
       "[1],\n",
       "[0],\n",
       "[0],\n",
       "[0]])"
      ]
     },
     "execution_count": 11,
     "metadata": {},
     "output_type": "execute_result"
    }
   ],
   "source": [
    "u1=V2_2[0]\n",
    "u1"
   ]
  },
  {
   "cell_type": "code",
   "execution_count": 12,
   "id": "b160e27d",
   "metadata": {},
   "outputs": [
    {
     "data": {
      "text/latex": [
       "$\\displaystyle \\left[\\begin{matrix}-2\\\\0\\\\0\\\\4\\end{matrix}\\right]$"
      ],
      "text/plain": [
       "Matrix([\n",
       "[-2],\n",
       "[ 0],\n",
       "[ 0],\n",
       "[ 4]])"
      ]
     },
     "execution_count": 12,
     "metadata": {},
     "output_type": "execute_result"
    }
   ],
   "source": [
    "u2=A2*u1\n",
    "u2"
   ]
  },
  {
   "attachments": {},
   "cell_type": "markdown",
   "id": "a03ebd44",
   "metadata": {},
   "source": [
    "Seleccionamos un vector de la base de $\\ker(A-2I)$ que sea linealmente independiente con los dos ya calculados."
   ]
  },
  {
   "cell_type": "code",
   "execution_count": 13,
   "id": "c4478fdf",
   "metadata": {
    "scrolled": true
   },
   "outputs": [
    {
     "data": {
      "text/plain": [
       "[Matrix([\n",
       " [0],\n",
       " [1],\n",
       " [0],\n",
       " [0]])]"
      ]
     },
     "execution_count": 13,
     "metadata": {},
     "output_type": "execute_result"
    }
   ],
   "source": [
    "cand=[v for v in V2_2 if Matrix.hstack(u1,u2,v).rank()==3]\n",
    "cand"
   ]
  },
  {
   "cell_type": "code",
   "execution_count": 14,
   "id": "a5cc0dc1",
   "metadata": {},
   "outputs": [
    {
     "data": {
      "text/latex": [
       "$\\displaystyle \\left[\\begin{matrix}0\\\\1\\\\0\\\\0\\end{matrix}\\right]$"
      ],
      "text/plain": [
       "Matrix([\n",
       "[0],\n",
       "[1],\n",
       "[0],\n",
       "[0]])"
      ]
     },
     "execution_count": 14,
     "metadata": {},
     "output_type": "execute_result"
    }
   ],
   "source": [
    "u3=cand[0]\n",
    "u3"
   ]
  },
  {
   "cell_type": "code",
   "execution_count": 15,
   "id": "b6a3ab1b",
   "metadata": {},
   "outputs": [
    {
     "data": {
      "text/latex": [
       "$\\displaystyle \\left[\\begin{matrix}1 & -2 & 0\\\\0 & 0 & 1\\\\0 & 0 & 0\\\\0 & 4 & 0\\end{matrix}\\right]$"
      ],
      "text/plain": [
       "Matrix([\n",
       "[1, -2, 0],\n",
       "[0,  0, 1],\n",
       "[0,  0, 0],\n",
       "[0,  4, 0]])"
      ]
     },
     "execution_count": 15,
     "metadata": {},
     "output_type": "execute_result"
    }
   ],
   "source": [
    "P2=Matrix.hstack(u1,u2,u3)\n",
    "P2"
   ]
  },
  {
   "attachments": {},
   "cell_type": "markdown",
   "id": "33c5598b",
   "metadata": {},
   "source": [
    "Ahora sólo nos basta completar con la parte de la base correspondiente al autovalor 0."
   ]
  },
  {
   "cell_type": "code",
   "execution_count": 16,
   "id": "76a2896f",
   "metadata": {},
   "outputs": [
    {
     "data": {
      "text/plain": [
       "[Matrix([\n",
       " [3],\n",
       " [0],\n",
       " [1],\n",
       " [0]])]"
      ]
     },
     "execution_count": 16,
     "metadata": {},
     "output_type": "execute_result"
    }
   ],
   "source": [
    "V0=A.nullspace()\n",
    "V0"
   ]
  },
  {
   "cell_type": "code",
   "execution_count": 17,
   "id": "fe220df9",
   "metadata": {},
   "outputs": [
    {
     "data": {
      "text/latex": [
       "$\\displaystyle \\left[\\begin{matrix}1 & -2 & 0 & 3\\\\0 & 0 & 1 & 0\\\\0 & 0 & 0 & 1\\\\0 & 4 & 0 & 0\\end{matrix}\\right]$"
      ],
      "text/plain": [
       "Matrix([\n",
       "[1, -2, 0, 3],\n",
       "[0,  0, 1, 0],\n",
       "[0,  0, 0, 1],\n",
       "[0,  4, 0, 0]])"
      ]
     },
     "execution_count": 17,
     "metadata": {},
     "output_type": "execute_result"
    }
   ],
   "source": [
    "P=Matrix.hstack(P2,V0[0])\n",
    "P"
   ]
  },
  {
   "attachments": {},
   "cell_type": "markdown",
   "id": "f07254a5",
   "metadata": {},
   "source": [
    "Comprobemos que la matriz $P$ es una matriz de paso para una forma de Jordan de $A$."
   ]
  },
  {
   "cell_type": "code",
   "execution_count": 18,
   "id": "a74fa5a2",
   "metadata": {},
   "outputs": [
    {
     "data": {
      "text/latex": [
       "$\\displaystyle \\left[\\begin{matrix}2 & 0 & 0 & 0\\\\1 & 2 & 2 & 0\\\\0 & 0 & 2 & 0\\\\0 & 0 & 0 & 0\\end{matrix}\\right]$"
      ],
      "text/plain": [
       "Matrix([\n",
       "[2, 0, 0, 0],\n",
       "[1, 2, 2, 0],\n",
       "[0, 0, 2, 0],\n",
       "[0, 0, 0, 0]])"
      ]
     },
     "execution_count": 18,
     "metadata": {},
     "output_type": "execute_result"
    }
   ],
   "source": [
    "P.inv()*A*P"
   ]
  },
  {
   "attachments": {},
   "cell_type": "markdown",
   "id": "3d6c3ca2",
   "metadata": {},
   "source": [
    "Hagamos ahora el Ejemplo III.5.19 de [I. Ojeda, J. Gago, [Métodos matemáticos para la Estadística](https://publicauex.unex.es/libro/metodos-matematicos-para-estadistica_135467/)].\n",
    "\n",
    "\n",
    "## Ejemplo \n",
    "\n",
    "*Calcular la forma de Jordan de la matriz*\n",
    "$$\n",
    "A=\\begin{pmatrix}\n",
    "1& -1 & 1 &-1\\\\\n",
    "-1 & 0 & 1 & -1\\\\\n",
    "-1 & 3 & -10&  9\\\\\n",
    "0 & 4 & -12 & 11\n",
    "\\end{pmatrix}.\n",
    "$$"
   ]
  },
  {
   "cell_type": "code",
   "execution_count": 19,
   "id": "5ccd3643",
   "metadata": {},
   "outputs": [
    {
     "data": {
      "text/latex": [
       "$\\displaystyle \\left[\\begin{matrix}1 & -1 & 1 & -1\\\\-1 & 0 & 1 & -1\\\\-1 & 3 & -10 & 9\\\\0 & 4 & -12 & 11\\end{matrix}\\right]$"
      ],
      "text/plain": [
       "Matrix([\n",
       "[ 1, -1,   1, -1],\n",
       "[-1,  0,   1, -1],\n",
       "[-1,  3, -10,  9],\n",
       "[ 0,  4, -12, 11]])"
      ]
     },
     "execution_count": 19,
     "metadata": {},
     "output_type": "execute_result"
    }
   ],
   "source": [
    "A=Matrix([(1,-1,1,-1),(-1,0,1,-1),(-1,3,-10,9),(0,4,-12,11)])\n",
    "A"
   ]
  },
  {
   "cell_type": "code",
   "execution_count": 20,
   "id": "97141daa",
   "metadata": {},
   "outputs": [
    {
     "data": {
      "text/latex": [
       "$\\displaystyle \\left[\\begin{matrix}0 & 0 & -1 & - \\frac{1}{2}\\\\0 & 1 & - \\frac{1}{2} & 1\\\\1 & -3 & \\frac{7}{2} & 0\\\\1 & -4 & 4 & 0\\end{matrix}\\right]$"
      ],
      "text/plain": [
       "Matrix([\n",
       "[0,  0,   -1, -1/2],\n",
       "[0,  1, -1/2,    1],\n",
       "[1, -3,  7/2,    0],\n",
       "[1, -4,    4,    0]])"
      ]
     },
     "execution_count": 20,
     "metadata": {},
     "output_type": "execute_result"
    }
   ],
   "source": [
    "P,J = A.jordan_form()\n",
    "P"
   ]
  },
  {
   "cell_type": "code",
   "execution_count": 21,
   "id": "22b8ae0d",
   "metadata": {},
   "outputs": [
    {
     "data": {
      "text/latex": [
       "$\\displaystyle \\left[\\begin{matrix}-1 & 0 & 0 & 0\\\\0 & 1 & 1 & 0\\\\0 & 0 & 1 & 1\\\\0 & 0 & 0 & 1\\end{matrix}\\right]$"
      ],
      "text/plain": [
       "Matrix([\n",
       "[-1, 0, 0, 0],\n",
       "[ 0, 1, 1, 0],\n",
       "[ 0, 0, 1, 1],\n",
       "[ 0, 0, 0, 1]])"
      ]
     },
     "execution_count": 21,
     "metadata": {},
     "output_type": "execute_result"
    }
   ],
   "source": [
    "J"
   ]
  },
  {
   "cell_type": "code",
   "execution_count": 22,
   "id": "92b80b8a",
   "metadata": {},
   "outputs": [
    {
     "data": {
      "text/latex": [
       "$\\displaystyle \\left[\\begin{matrix}-1 & 0 & 0 & 0\\\\0 & 1 & 1 & 0\\\\0 & 0 & 1 & 1\\\\0 & 0 & 0 & 1\\end{matrix}\\right]$"
      ],
      "text/plain": [
       "Matrix([\n",
       "[-1, 0, 0, 0],\n",
       "[ 0, 1, 1, 0],\n",
       "[ 0, 0, 1, 1],\n",
       "[ 0, 0, 0, 1]])"
      ]
     },
     "execution_count": 22,
     "metadata": {},
     "output_type": "execute_result"
    }
   ],
   "source": [
    "P.inv()*A*P"
   ]
  }
 ],
 "metadata": {
  "kernelspec": {
   "display_name": "Python 3 (ipykernel)",
   "language": "python",
   "name": "python3"
  },
  "language_info": {
   "codemirror_mode": {
    "name": "ipython",
    "version": 3
   },
   "file_extension": ".py",
   "mimetype": "text/x-python",
   "name": "python",
   "nbconvert_exporter": "python",
   "pygments_lexer": "ipython3",
   "version": "3.9.13"
  }
 },
 "nbformat": 4,
 "nbformat_minor": 5
}
