{
 "cells": [
  {
   "attachments": {},
   "cell_type": "markdown",
   "id": "a07b850c",
   "metadata": {},
   "source": [
    "# Espacios vectoriales \n",
    "\n",
    "En este documento ilustraremos cómo usar `Python` para resolver los problemas tipo propuestos por L. Merino y E. Santos en  [página de resolución de ejercicios tipo](https://www.ugr.es/~lmerino/ALME.html) correspondientes al bloque \"Espacios Vectoriales\"."
   ]
  },
  {
   "attachments": {},
   "cell_type": "markdown",
   "id": "69c7c543",
   "metadata": {},
   "source": [
    "## Coordenadas. Dependencia lineal"
   ]
  },
  {
   "attachments": {},
   "cell_type": "markdown",
   "id": "d1db3719",
   "metadata": {},
   "source": [
    "### Ejercicio\n",
    "\n",
    "*Se considera en el espacio vectorial ${\\mathbb{R}}^3$ la base $B=\\{(1,0,1), (0,2,0) , (0,0,3)\\}$. Determinar el vector $x$ \n",
    "cuyas cordenadas respecto de $B$ son $x=(2,1,2)_{B}$.*"
   ]
  },
  {
   "attachments": {},
   "cell_type": "markdown",
   "id": "a2ca8127",
   "metadata": {},
   "source": [
    "Nuestro vector tiene coordenadas $(2,1,2)_B$, por lo que $x=2\\times(1,0,1)+1\\times(0,2,0)+2\\times (0,0,3)$. Ponemos por tanto los vectores de $B$ como columnas en un matriz y multiplicamos por el vector $(2,1,2)$."
   ]
  },
  {
   "cell_type": "code",
   "execution_count": 1,
   "id": "252ac4d9",
   "metadata": {},
   "outputs": [],
   "source": [
    "from sympy import Matrix"
   ]
  },
  {
   "cell_type": "code",
   "execution_count": 2,
   "id": "692a96ba",
   "metadata": {},
   "outputs": [
    {
     "data": {
      "text/latex": [
       "$\\displaystyle \\left[\\begin{matrix}1 & 0 & 0\\\\0 & 2 & 0\\\\1 & 0 & 3\\end{matrix}\\right]$"
      ],
      "text/plain": [
       "Matrix([\n",
       "[1, 0, 0],\n",
       "[0, 2, 0],\n",
       "[1, 0, 3]])"
      ]
     },
     "execution_count": 2,
     "metadata": {},
     "output_type": "execute_result"
    }
   ],
   "source": [
    "B=Matrix([(1,0,1),(0,2,0),(0,0,3)]).T\n",
    "B"
   ]
  },
  {
   "cell_type": "code",
   "execution_count": 3,
   "id": "66d1bc82",
   "metadata": {},
   "outputs": [
    {
     "data": {
      "text/latex": [
       "$\\displaystyle \\left[\\begin{matrix}2\\\\2\\\\8\\end{matrix}\\right]$"
      ],
      "text/plain": [
       "Matrix([\n",
       "[2],\n",
       "[2],\n",
       "[8]])"
      ]
     },
     "execution_count": 3,
     "metadata": {},
     "output_type": "execute_result"
    }
   ],
   "source": [
    "B*Matrix([2,1,2])"
   ]
  },
  {
   "attachments": {},
   "cell_type": "markdown",
   "id": "938ca12a",
   "metadata": {},
   "source": [
    "Con lo que nuestro vector es $(2,2,8)$."
   ]
  },
  {
   "attachments": {},
   "cell_type": "markdown",
   "id": "eb0af7ce",
   "metadata": {},
   "source": [
    "### Ejercicio\n",
    "\n",
    "*Se considera en el espacio vectorial ${\\mathbb{R}}^3$ la base $B=\\{(1,0,1), (0,2,0) , (0,0,3)\\}$. Determinar \n",
    "coordenadas respecto de $B$ del vector $x=(5,4,2)$.*"
   ]
  },
  {
   "attachments": {},
   "cell_type": "markdown",
   "id": "6c175953",
   "metadata": {},
   "source": [
    "Tenemos que encontrar $a,b,c\\in \\mathbb{R}$ tales que $(5,4,2)=a(1,0,1)+b(0,2,0)+c(0,0,3)$, y esto equivale a resolver el sistema \n",
    "\n",
    "$$\n",
    "\\left\\{\n",
    "\\begin{array}{rcl}\n",
    "a&=&5,\\\\\n",
    "2b&=&4,\\\\\n",
    "a+3c&=&2.\n",
    "\\end{array}\n",
    "\\right.\n",
    "$$"
   ]
  },
  {
   "attachments": {},
   "cell_type": "markdown",
   "id": "0c0b52e1",
   "metadata": {},
   "source": [
    "Aprovechamos que ya tenemos definida la matriz $B$ del ejercicio anterior."
   ]
  },
  {
   "cell_type": "code",
   "execution_count": 4,
   "id": "f0c5781d",
   "metadata": {},
   "outputs": [],
   "source": [
    "from sympy import linsolve"
   ]
  },
  {
   "cell_type": "code",
   "execution_count": 5,
   "id": "bd5609e1",
   "metadata": {},
   "outputs": [
    {
     "data": {
      "text/latex": [
       "$\\displaystyle \\left\\{\\left( 5, \\  2, \\  -1\\right)\\right\\}$"
      ],
      "text/plain": [
       "{(5, 2, -1)}"
      ]
     },
     "execution_count": 5,
     "metadata": {},
     "output_type": "execute_result"
    }
   ],
   "source": [
    "linsolve((B,Matrix([5,4,2])))"
   ]
  },
  {
   "attachments": {},
   "cell_type": "markdown",
   "id": "5bc0089b",
   "metadata": {},
   "source": [
    "Por lo que $x=(5,2,-1)_B$."
   ]
  },
  {
   "cell_type": "code",
   "execution_count": 6,
   "id": "5a154f56",
   "metadata": {},
   "outputs": [
    {
     "data": {
      "text/latex": [
       "$\\displaystyle \\left[\\begin{matrix}5\\\\2\\\\-1\\end{matrix}\\right]$"
      ],
      "text/plain": [
       "Matrix([\n",
       "[ 5],\n",
       "[ 2],\n",
       "[-1]])"
      ]
     },
     "execution_count": 6,
     "metadata": {},
     "output_type": "execute_result"
    }
   ],
   "source": [
    "B.inv()*Matrix([5,4,2])"
   ]
  },
  {
   "attachments": {},
   "cell_type": "markdown",
   "id": "a316b752",
   "metadata": {},
   "source": [
    "### Ejercicio\n",
    "\n",
    "*En el espacio vectorial $\\mathcal{P}_3(\\mathbb{R})$ se consideran los vectores $p(x) = x^3+x^2+x+1$, $q(x)= 2x^2+1$ y $r(x)= x^3+2x^2$. Estudiar si son linealmente dependientes o independientes.*"
   ]
  },
  {
   "attachments": {},
   "cell_type": "markdown",
   "id": "1d44339c",
   "metadata": {},
   "source": [
    "Consideramos la base estándar de $\\mathcal{P}_3(\\mathbb{R})$, $B=\\{1,x,x^2, x^3 \\}$. Respecto de esta base, las coordenadas de los vectores que nos dan son:\n",
    "$$p(x)=(1,1,1,1)_B,  q(x)=(1,0,2,0)_B, r(x)=(0,0,2,1)_B.$$\n",
    "De esta forma, si ponemos esos vectores en una matriz y vemos su forma reducida por filas, podremos ver si son linealmente dependientes o no. Para ello haremos uso de `rref`."
   ]
  },
  {
   "cell_type": "code",
   "execution_count": 7,
   "id": "98f21ac3",
   "metadata": {},
   "outputs": [
    {
     "data": {
      "text/latex": [
       "$\\displaystyle \\left[\\begin{matrix}1 & 1 & 1 & 1\\\\1 & 0 & 2 & 0\\\\0 & 0 & 2 & 1\\end{matrix}\\right]$"
      ],
      "text/plain": [
       "Matrix([\n",
       "[1, 1, 1, 1],\n",
       "[1, 0, 2, 0],\n",
       "[0, 0, 2, 1]])"
      ]
     },
     "execution_count": 7,
     "metadata": {},
     "output_type": "execute_result"
    }
   ],
   "source": [
    "A=Matrix([(1,1,1,1),(1,0,2,0),(0,0,2,1)])\n",
    "A"
   ]
  },
  {
   "cell_type": "code",
   "execution_count": 8,
   "id": "dcad9d9c",
   "metadata": {},
   "outputs": [
    {
     "data": {
      "text/latex": [
       "$\\displaystyle \\left[\\begin{matrix}1 & 0 & 0 & -1\\\\0 & 1 & 0 & \\frac{3}{2}\\\\0 & 0 & 1 & \\frac{1}{2}\\end{matrix}\\right]$"
      ],
      "text/plain": [
       "Matrix([\n",
       "[1, 0, 0,  -1],\n",
       "[0, 1, 0, 3/2],\n",
       "[0, 0, 1, 1/2]])"
      ]
     },
     "execution_count": 8,
     "metadata": {},
     "output_type": "execute_result"
    }
   ],
   "source": [
    "A.rref(pivots=False)"
   ]
  },
  {
   "attachments": {},
   "cell_type": "markdown",
   "id": "4b43e223",
   "metadata": {},
   "source": [
    "Vemos que la matriz tiene rango máximo, por lo que los vectores del enunciado son linealmente independientes."
   ]
  },
  {
   "attachments": {},
   "cell_type": "markdown",
   "id": "b6410db5",
   "metadata": {},
   "source": [
    "### Ejercicio\n",
    "*En el espacio vectorial ${\\mathfrak M}_2(\\mathbb{R})$ se consideran los vectores  $a=\\begin{pmatrix} 1  & 2 \\\\ 2 & 1 \\end{pmatrix}$,  $b=\\begin{pmatrix} 1  & 1 \\\\ 2 & 0 \\end{pmatrix}$,  $c=\\begin{pmatrix} 0  & 1 \\\\ 2 & 1 \\end{pmatrix}$ y   $b=\\begin{pmatrix} 1  & 2 \\\\ 3 & 1 \\end{pmatrix}$.    Estudiar si son linealmente dependientes o independientes.*"
   ]
  },
  {
   "attachments": {},
   "cell_type": "markdown",
   "id": "d4d25598",
   "metadata": {},
   "source": [
    "Consideramos la base estándar de ${\\mathfrak M}_2(\\mathbb{R})$, $B=\\left\\{\n",
    " \\begin{pmatrix} 1  & 0 \\\\ 0 & 0 \\end{pmatrix},\n",
    " \\begin{pmatrix} 0  & 1 \\\\ 0 & 0 \\end{pmatrix},\n",
    " \\begin{pmatrix} 0  & 0 \\\\ 1 & 0 \\end{pmatrix},\n",
    " \\begin{pmatrix} 0  & 0 \\\\ 0 & 1 \\end{pmatrix}\n",
    " \\right\\}$.\n",
    "Respecto de esta base los vectores dados tienen coordenadas $(1,2,2,1)_B$, $(1,1,2,0)_B$, $(0,1,2,1)_B$ y $(1,2,3,1)_B$, respectivamente. Procedemos como antes poniendo esos vectores por filas en una matriz y calculamos su forma reducida por filas."
   ]
  },
  {
   "cell_type": "code",
   "execution_count": 9,
   "id": "51483026",
   "metadata": {},
   "outputs": [
    {
     "data": {
      "text/latex": [
       "$\\displaystyle \\left[\\begin{matrix}1 & 2 & 2 & 1\\\\1 & 1 & 2 & 0\\\\0 & 1 & 2 & 1\\\\1 & 2 & 3 & 1\\end{matrix}\\right]$"
      ],
      "text/plain": [
       "Matrix([\n",
       "[1, 2, 2, 1],\n",
       "[1, 1, 2, 0],\n",
       "[0, 1, 2, 1],\n",
       "[1, 2, 3, 1]])"
      ]
     },
     "execution_count": 9,
     "metadata": {},
     "output_type": "execute_result"
    }
   ],
   "source": [
    "A=Matrix([(1,2,2,1),(1,1,2,0),(0,1,2,1),(1,2,3,1)])\n",
    "A"
   ]
  },
  {
   "cell_type": "code",
   "execution_count": 10,
   "id": "e33550a6",
   "metadata": {},
   "outputs": [
    {
     "data": {
      "text/latex": [
       "$\\displaystyle \\left[\\begin{matrix}1 & 0 & 0 & -1\\\\0 & 1 & 0 & 1\\\\0 & 0 & 1 & 0\\\\0 & 0 & 0 & 0\\end{matrix}\\right]$"
      ],
      "text/plain": [
       "Matrix([\n",
       "[1, 0, 0, -1],\n",
       "[0, 1, 0,  1],\n",
       "[0, 0, 1,  0],\n",
       "[0, 0, 0,  0]])"
      ]
     },
     "execution_count": 10,
     "metadata": {},
     "output_type": "execute_result"
    }
   ],
   "source": [
    "A.rref(pivots=False)"
   ]
  },
  {
   "attachments": {},
   "cell_type": "markdown",
   "id": "1ed8b9d4",
   "metadata": {},
   "source": [
    "Como podemos observar, hay una fila de ceros, por lo que a lo sumo tres de ellos son linealmente independientes, y los cuatro son linealmente dependientes."
   ]
  },
  {
   "cell_type": "code",
   "execution_count": 11,
   "id": "d50a172d",
   "metadata": {},
   "outputs": [],
   "source": [
    "from sympy import eye"
   ]
  },
  {
   "cell_type": "code",
   "execution_count": 12,
   "id": "1f84a716",
   "metadata": {},
   "outputs": [
    {
     "data": {
      "text/latex": [
       "$\\displaystyle \\left[\\begin{matrix}1 & 0 & 0 & -1 & 0 & 1 & -1 & 0\\\\0 & 1 & 0 & 1 & 0 & -2 & -1 & 2\\\\0 & 0 & 1 & 0 & 0 & 1 & 1 & -1\\\\0 & 0 & 0 & 0 & 1 & 1 & 1 & -2\\end{matrix}\\right]$"
      ],
      "text/plain": [
       "Matrix([\n",
       "[1, 0, 0, -1, 0,  1, -1,  0],\n",
       "[0, 1, 0,  1, 0, -2, -1,  2],\n",
       "[0, 0, 1,  0, 0,  1,  1, -1],\n",
       "[0, 0, 0,  0, 1,  1,  1, -2]])"
      ]
     },
     "execution_count": 12,
     "metadata": {},
     "output_type": "execute_result"
    }
   ],
   "source": [
    "AI=A.row_join(eye(4))\n",
    "rAI=AI.rref(pivots=False)\n",
    "rAI"
   ]
  },
  {
   "cell_type": "code",
   "execution_count": 12,
   "id": "b26e8ae5",
   "metadata": {},
   "outputs": [
    {
     "data": {
      "text/latex": [
       "$\\displaystyle \\left[\\begin{matrix}0 & 1 & -1 & 0\\\\0 & -2 & -1 & 2\\\\0 & 1 & 1 & -1\\\\1 & 1 & 1 & -2\\end{matrix}\\right]$"
      ],
      "text/plain": [
       "Matrix([\n",
       "[0,  1, -1,  0],\n",
       "[0, -2, -1,  2],\n",
       "[0,  1,  1, -1],\n",
       "[1,  1,  1, -2]])"
      ]
     },
     "execution_count": 12,
     "metadata": {},
     "output_type": "execute_result"
    }
   ],
   "source": [
    "Q=rAI[:,4:]\n",
    "Q"
   ]
  },
  {
   "cell_type": "code",
   "execution_count": 13,
   "id": "63232742",
   "metadata": {},
   "outputs": [
    {
     "data": {
      "text/latex": [
       "$\\displaystyle \\left[\\begin{matrix}1 & 0 & 0 & -1\\\\0 & 1 & 0 & 1\\\\0 & 0 & 1 & 0\\\\0 & 0 & 0 & 0\\end{matrix}\\right]$"
      ],
      "text/plain": [
       "Matrix([\n",
       "[1, 0, 0, -1],\n",
       "[0, 1, 0,  1],\n",
       "[0, 0, 1,  0],\n",
       "[0, 0, 0,  0]])"
      ]
     },
     "execution_count": 13,
     "metadata": {},
     "output_type": "execute_result"
    }
   ],
   "source": [
    "Q*A"
   ]
  },
  {
   "attachments": {},
   "cell_type": "markdown",
   "id": "4412da8b",
   "metadata": {},
   "source": [
    "Al ser la última fila todo ceros, ya tenemos la relación de dependencia lineal."
   ]
  },
  {
   "cell_type": "code",
   "execution_count": 14,
   "id": "d2768ef8",
   "metadata": {},
   "outputs": [
    {
     "data": {
      "text/latex": [
       "$\\displaystyle \\left[\\begin{matrix}0 & 0 & 0 & 0\\end{matrix}\\right]$"
      ],
      "text/plain": [
       "Matrix([[0, 0, 0, 0]])"
      ]
     },
     "execution_count": 14,
     "metadata": {},
     "output_type": "execute_result"
    }
   ],
   "source": [
    "Q[3,:]*A"
   ]
  },
  {
   "attachments": {},
   "cell_type": "markdown",
   "id": "de58fef2",
   "metadata": {},
   "source": [
    "Por lo que $a+b+c-2d=0$."
   ]
  },
  {
   "attachments": {},
   "cell_type": "markdown",
   "id": "7614e9bc",
   "metadata": {},
   "source": [
    "## Cambio de base"
   ]
  },
  {
   "attachments": {},
   "cell_type": "markdown",
   "id": "2c0d6a25",
   "metadata": {},
   "source": [
    "### Ejercicio\n",
    "\n",
    "*En el espacio vectorial $\\mathcal{P}_3(\\mathbb{R})$ de los polinomios de grado menor o igual que $3$, se consideran las bases estándar $B=\\{1,x,x^2, x^3 \\}$ y $B'=\\{x^3+x^2+x+1, x^3+x^2+x, x^3+x^2, x^3\\}$. Determinar la ecuación del cambio de base de $B$ a $B'$ y las coordenadas respecto de $B'$ del vector $p(x)=x^3+2x$.*"
   ]
  },
  {
   "attachments": {},
   "cell_type": "markdown",
   "id": "57d40390",
   "metadata": {},
   "source": [
    "Tenemos que los vectores de $B'$ tienen coordenadas\n",
    "$$\n",
    "\\begin{array}{lcl}\n",
    "x^3+x^2+x+1 &= & (1,1,1,1)_B, \\\\\n",
    "x^3+x^2+x   &= & (0,1,1,1)_B, \\\\\n",
    "x^3+x^2     &= & (0,0,1,1)_B, \\\\\n",
    "x^3         &= & (0,0,0,1)_B.\n",
    "\\end{array}\n",
    "$$\n",
    "\n",
    "Por lo que la matriz de cambio de base de $B'$ a $B$ es \n",
    "$$\n",
    "P=\n",
    "\\begin{pmatrix}\n",
    "1 & 0 & 0 & 0 \\\\\n",
    "1 & 1 & 0 & 0 \\\\\n",
    "1 & 1 & 1 & 0 \\\\\n",
    "1 & 1 & 1 & 1\n",
    "\\end{pmatrix}.\n",
    "$$\n",
    "Y la de $B$ a $B'$ será su inversa."
   ]
  },
  {
   "cell_type": "code",
   "execution_count": 13,
   "id": "0c9a36b7",
   "metadata": {},
   "outputs": [
    {
     "data": {
      "text/latex": [
       "$\\displaystyle \\left[\\begin{matrix}1 & 0 & 0 & 0\\\\1 & 1 & 0 & 0\\\\1 & 1 & 1 & 0\\\\1 & 1 & 1 & 1\\end{matrix}\\right]$"
      ],
      "text/plain": [
       "Matrix([\n",
       "[1, 0, 0, 0],\n",
       "[1, 1, 0, 0],\n",
       "[1, 1, 1, 0],\n",
       "[1, 1, 1, 1]])"
      ]
     },
     "execution_count": 13,
     "metadata": {},
     "output_type": "execute_result"
    }
   ],
   "source": [
    "P=Matrix([(1,1,1,1),(0,1,1,1),(0,0,1,1),(0,0,0,1)]).T\n",
    "P"
   ]
  },
  {
   "cell_type": "code",
   "execution_count": 14,
   "id": "91832cef",
   "metadata": {},
   "outputs": [
    {
     "data": {
      "text/latex": [
       "$\\displaystyle \\left[\\begin{matrix}1 & 0 & 0 & 0\\\\-1 & 1 & 0 & 0\\\\0 & -1 & 1 & 0\\\\0 & 0 & -1 & 1\\end{matrix}\\right]$"
      ],
      "text/plain": [
       "Matrix([\n",
       "[ 1,  0,  0, 0],\n",
       "[-1,  1,  0, 0],\n",
       "[ 0, -1,  1, 0],\n",
       "[ 0,  0, -1, 1]])"
      ]
     },
     "execution_count": 14,
     "metadata": {},
     "output_type": "execute_result"
    }
   ],
   "source": [
    "P.inv()"
   ]
  },
  {
   "attachments": {},
   "cell_type": "markdown",
   "id": "f3aececd",
   "metadata": {},
   "source": [
    "El polinomio $p(x)$ tiene coordenadas $(0,2,0,1)_B$, por lo que sus coordenadas respecto de $B'$ son"
   ]
  },
  {
   "cell_type": "code",
   "execution_count": 15,
   "id": "781fb13c",
   "metadata": {},
   "outputs": [
    {
     "data": {
      "text/latex": [
       "$\\displaystyle \\left[\\begin{matrix}0\\\\2\\\\-2\\\\1\\end{matrix}\\right]$"
      ],
      "text/plain": [
       "Matrix([\n",
       "[ 0],\n",
       "[ 2],\n",
       "[-2],\n",
       "[ 1]])"
      ]
     },
     "execution_count": 15,
     "metadata": {},
     "output_type": "execute_result"
    }
   ],
   "source": [
    "P.inv()*Matrix([0,2,0,1])"
   ]
  },
  {
   "attachments": {},
   "cell_type": "markdown",
   "id": "35f278c2",
   "metadata": {},
   "source": [
    "esto es, $p(x)=(0,2,-2,1)_{B'}$"
   ]
  },
  {
   "attachments": {},
   "cell_type": "markdown",
   "id": "b5cea394",
   "metadata": {},
   "source": [
    "### Ejercicio\n",
    "\n",
    "*En el espacio vectorial $\\mathbb{R}^3$ se consideran las bases $B'=\\{ (1,1,0), (0,1,2),  (1,0,1) \\}$   y  $B''=\\{(1,0,0), (2,1,0), (1,1,1)\\}$. Determinar la ecuación del cambio de base de $B'$ a $B''$.*"
   ]
  },
  {
   "attachments": {},
   "cell_type": "markdown",
   "id": "e657f5de",
   "metadata": {},
   "source": [
    "Vamos a determinar la matriz de cambio de base $P$ de $B'$ a la base estándar $B$, y luego la de $B$ a $B''$, $Q$. Multiplicando $Q$ y $P$, tendremos la matriz de cambio de base de $B'$ a $B''$."
   ]
  },
  {
   "cell_type": "code",
   "execution_count": 16,
   "id": "69d70caf",
   "metadata": {},
   "outputs": [],
   "source": [
    "P=Matrix([(1,1,0),(0,1,2),(1,0,1)]).T\n",
    "Q=Matrix([(1,0,0),(2,1,0),(1,1,1)]).T.inv()"
   ]
  },
  {
   "cell_type": "code",
   "execution_count": 17,
   "id": "cc249eaa",
   "metadata": {},
   "outputs": [
    {
     "data": {
      "text/latex": [
       "$\\displaystyle \\left[\\begin{matrix}1 & 0 & 1\\\\1 & 1 & 0\\\\0 & 2 & 1\\end{matrix}\\right]$"
      ],
      "text/plain": [
       "Matrix([\n",
       "[1, 0, 1],\n",
       "[1, 1, 0],\n",
       "[0, 2, 1]])"
      ]
     },
     "execution_count": 17,
     "metadata": {},
     "output_type": "execute_result"
    }
   ],
   "source": [
    "P"
   ]
  },
  {
   "cell_type": "code",
   "execution_count": 18,
   "id": "6f69f3c1",
   "metadata": {},
   "outputs": [
    {
     "data": {
      "text/latex": [
       "$\\displaystyle \\left[\\begin{matrix}1 & -2 & 1\\\\0 & 1 & -1\\\\0 & 0 & 1\\end{matrix}\\right]$"
      ],
      "text/plain": [
       "Matrix([\n",
       "[1, -2,  1],\n",
       "[0,  1, -1],\n",
       "[0,  0,  1]])"
      ]
     },
     "execution_count": 18,
     "metadata": {},
     "output_type": "execute_result"
    }
   ],
   "source": [
    "Q"
   ]
  },
  {
   "cell_type": "code",
   "execution_count": 19,
   "id": "553d12bf",
   "metadata": {},
   "outputs": [
    {
     "data": {
      "text/latex": [
       "$\\displaystyle \\left[\\begin{matrix}-1 & 0 & 2\\\\1 & -1 & -1\\\\0 & 2 & 1\\end{matrix}\\right]$"
      ],
      "text/plain": [
       "Matrix([\n",
       "[-1,  0,  2],\n",
       "[ 1, -1, -1],\n",
       "[ 0,  2,  1]])"
      ]
     },
     "execution_count": 19,
     "metadata": {},
     "output_type": "execute_result"
    }
   ],
   "source": [
    "Q*P"
   ]
  },
  {
   "attachments": {},
   "cell_type": "markdown",
   "id": "409bcd54",
   "metadata": {},
   "source": [
    "## Espresiones de un subespacio"
   ]
  },
  {
   "attachments": {},
   "cell_type": "markdown",
   "id": "a3743181",
   "metadata": {},
   "source": [
    "### Ejercicio\n",
    "\n",
    "*En el espacio vectorial $\\mathcal{P}_3(\\mathbb{K})$ de los polinomios de grado menor o igual que $3$, se considera el subespacio $U$ generado por $2x^3+2x+1, 2x^3+x^2+3x+1, x^3+x^2+2x, 2x^2+2x+1$. Determinar una base de $U$, unas ecuaciones paramétricas y unas cartesianas.*"
   ]
  },
  {
   "attachments": {},
   "cell_type": "markdown",
   "id": "75fd0df5",
   "metadata": {},
   "source": [
    "Consideramos la base estándar $B=\\{1,x,x^2,x^3\\}$ de $\\mathcal{P}_3(\\mathbb{K})$, entonces\n",
    "$$\n",
    "\\begin{array}{rcl}\n",
    " 2x^3+2x+1    & = & (1,2,0,2)_B, \\\\\n",
    "2x^3+x^2+3x+1 & = & (1,3,1,2)_B, \\\\\n",
    "x^3+x^2+2x    & = & (0,2,1,1)_B, \\\\\n",
    "2x^2+2x+1     & = & (1,2,2,0)_B.\n",
    "\\end{array}\n",
    "$$\n",
    "Para encontrar una base, calculamos la forma normal reducida de la matriz cuyas filas son esas coordenadas."
   ]
  },
  {
   "cell_type": "code",
   "execution_count": 20,
   "id": "c38aa089",
   "metadata": {},
   "outputs": [
    {
     "data": {
      "text/latex": [
       "$\\displaystyle \\left[\\begin{matrix}1 & 2 & 0 & 2\\\\1 & 3 & 1 & 2\\\\0 & 2 & 1 & 1\\\\1 & 2 & 2 & 0\\end{matrix}\\right]$"
      ],
      "text/plain": [
       "Matrix([\n",
       "[1, 2, 0, 2],\n",
       "[1, 3, 1, 2],\n",
       "[0, 2, 1, 1],\n",
       "[1, 2, 2, 0]])"
      ]
     },
     "execution_count": 20,
     "metadata": {},
     "output_type": "execute_result"
    }
   ],
   "source": [
    "A=Matrix([(1,2,0,2),(1,3,1,2),(0,2,1,1),(1,2,2,0)])\n",
    "A"
   ]
  },
  {
   "cell_type": "code",
   "execution_count": 21,
   "id": "7e494c18",
   "metadata": {},
   "outputs": [
    {
     "data": {
      "text/latex": [
       "$\\displaystyle \\left[\\begin{matrix}1 & 0 & 0 & 0\\\\0 & 1 & 0 & 1\\\\0 & 0 & 1 & -1\\\\0 & 0 & 0 & 0\\end{matrix}\\right]$"
      ],
      "text/plain": [
       "Matrix([\n",
       "[1, 0, 0,  0],\n",
       "[0, 1, 0,  1],\n",
       "[0, 0, 1, -1],\n",
       "[0, 0, 0,  0]])"
      ]
     },
     "execution_count": 21,
     "metadata": {},
     "output_type": "execute_result"
    }
   ],
   "source": [
    "rA=A.rref(pivots=False)\n",
    "rA"
   ]
  },
  {
   "attachments": {},
   "cell_type": "markdown",
   "id": "31abc75d",
   "metadata": {},
   "source": [
    "Por lo que una base de $U$ es $\\{(1,0,0,0),(0,1,0,1),(0,0,1,-1)\\}$. Las ecuaciones paramétricas serán\n",
    "$$\n",
    "\\left\\{ \\begin{array}{rcl}\n",
    "x_1 &=& \\lambda,     \\\\\n",
    "x_2 &=& \\mu,  \\\\\n",
    "x_3 &=& \\gamma, \\\\\n",
    "x_4  &=&  \\mu - \\gamma.\n",
    "\\end{array} \\right.\n",
    "$$"
   ]
  },
  {
   "attachments": {},
   "cell_type": "markdown",
   "id": "1e63123d",
   "metadata": {},
   "source": [
    "Para encontrar las ecuaciones implícitas, vamos a colocar los vectores de la base que hemos elegido de $U$ por columnas."
   ]
  },
  {
   "cell_type": "code",
   "execution_count": 22,
   "id": "05bd9a1d",
   "metadata": {},
   "outputs": [
    {
     "data": {
      "text/latex": [
       "$\\displaystyle \\left[\\begin{matrix}1 & 0 & 0\\\\0 & 1 & 0\\\\0 & 0 & 1\\\\0 & 1 & -1\\end{matrix}\\right]$"
      ],
      "text/plain": [
       "Matrix([\n",
       "[1, 0,  0],\n",
       "[0, 1,  0],\n",
       "[0, 0,  1],\n",
       "[0, 1, -1]])"
      ]
     },
     "execution_count": 22,
     "metadata": {},
     "output_type": "execute_result"
    }
   ],
   "source": [
    "U=rA[0:3,:].T\n",
    "U"
   ]
  },
  {
   "attachments": {},
   "cell_type": "markdown",
   "id": "a92541ce",
   "metadata": {},
   "source": [
    "Le añadimos la identidad."
   ]
  },
  {
   "cell_type": "code",
   "execution_count": 24,
   "id": "d5c4c403",
   "metadata": {},
   "outputs": [
    {
     "data": {
      "text/latex": [
       "$\\displaystyle \\left[\\begin{matrix}1 & 0 & 0 & 1 & 0 & 0 & 0\\\\0 & 1 & 0 & 0 & 1 & 0 & 0\\\\0 & 0 & 1 & 0 & 0 & 1 & 0\\\\0 & 1 & -1 & 0 & 0 & 0 & 1\\end{matrix}\\right]$"
      ],
      "text/plain": [
       "Matrix([\n",
       "[1, 0,  0, 1, 0, 0, 0],\n",
       "[0, 1,  0, 0, 1, 0, 0],\n",
       "[0, 0,  1, 0, 0, 1, 0],\n",
       "[0, 1, -1, 0, 0, 0, 1]])"
      ]
     },
     "execution_count": 24,
     "metadata": {},
     "output_type": "execute_result"
    }
   ],
   "source": [
    "UI=U.row_join(eye(4))\n",
    "UI    "
   ]
  },
  {
   "attachments": {},
   "cell_type": "markdown",
   "id": "17d43fec",
   "metadata": {},
   "source": [
    "Eliminar parámetros (tres primeras columnas) se corresponde con encontrar la forma reducida por filas, y ver en qué filas dejan de haber parámetros."
   ]
  },
  {
   "cell_type": "code",
   "execution_count": 25,
   "id": "703b6b7e",
   "metadata": {},
   "outputs": [
    {
     "data": {
      "text/latex": [
       "$\\displaystyle \\left[\\begin{matrix}1 & 0 & 0 & 1 & 0 & 0 & 0\\\\0 & 1 & 0 & 0 & 0 & 1 & 1\\\\0 & 0 & 1 & 0 & 0 & 1 & 0\\\\0 & 0 & 0 & 0 & 1 & -1 & -1\\end{matrix}\\right]$"
      ],
      "text/plain": [
       "Matrix([\n",
       "[1, 0, 0, 1, 0,  0,  0],\n",
       "[0, 1, 0, 0, 0,  1,  1],\n",
       "[0, 0, 1, 0, 0,  1,  0],\n",
       "[0, 0, 0, 0, 1, -1, -1]])"
      ]
     },
     "execution_count": 25,
     "metadata": {},
     "output_type": "execute_result"
    }
   ],
   "source": [
    "UI.rref(pivots=False)"
   ]
  },
  {
   "attachments": {},
   "cell_type": "markdown",
   "id": "a550022c",
   "metadata": {},
   "source": [
    "De la última fila se deduce que una ecuación implícita de $U$ es $x_2-x_3-x_4=0$."
   ]
  },
  {
   "cell_type": "code",
   "execution_count": 26,
   "id": "2273bb48",
   "metadata": {},
   "outputs": [],
   "source": [
    "from sympy import symbols"
   ]
  },
  {
   "cell_type": "code",
   "execution_count": 27,
   "id": "74264f4f",
   "metadata": {},
   "outputs": [],
   "source": [
    "x,y,z,t=symbols(\"x y z t\")"
   ]
  },
  {
   "cell_type": "code",
   "execution_count": 32,
   "id": "af64539e",
   "metadata": {},
   "outputs": [
    {
     "data": {
      "text/latex": [
       "$\\displaystyle \\left[\\begin{matrix}1 & 0 & 0 & x\\\\0 & 1 & 0 & y\\\\0 & 0 & 1 & z\\\\0 & 1 & -1 & t\\end{matrix}\\right]$"
      ],
      "text/plain": [
       "Matrix([\n",
       "[1, 0,  0, x],\n",
       "[0, 1,  0, y],\n",
       "[0, 0,  1, z],\n",
       "[0, 1, -1, t]])"
      ]
     },
     "execution_count": 32,
     "metadata": {},
     "output_type": "execute_result"
    }
   ],
   "source": [
    "UX=U.row_join(Matrix([x,y,z,t]))\n",
    "UX"
   ]
  },
  {
   "attachments": {},
   "cell_type": "markdown",
   "id": "5ea401d6",
   "metadata": {},
   "source": [
    "`sympy` no considera las variables como parámetros sujetos a condiciones, por lo que si calculamos la forma escalonada reducida por filas nos dará la identidad. "
   ]
  },
  {
   "cell_type": "code",
   "execution_count": 30,
   "id": "9631948e",
   "metadata": {},
   "outputs": [
    {
     "data": {
      "text/latex": [
       "$\\displaystyle \\left[\\begin{matrix}1 & 0 & 0 & 0\\\\0 & 1 & 0 & 0\\\\0 & 0 & 1 & 0\\\\0 & 0 & 0 & 1\\end{matrix}\\right]$"
      ],
      "text/plain": [
       "Matrix([\n",
       "[1, 0, 0, 0],\n",
       "[0, 1, 0, 0],\n",
       "[0, 0, 1, 0],\n",
       "[0, 0, 0, 1]])"
      ]
     },
     "execution_count": 30,
     "metadata": {},
     "output_type": "execute_result"
    }
   ],
   "source": [
    "UX.rref(pivots=False)"
   ]
  },
  {
   "attachments": {},
   "cell_type": "markdown",
   "id": "d33d9cad",
   "metadata": {},
   "source": [
    "Podemos hacer la reducción a mano."
   ]
  },
  {
   "cell_type": "code",
   "execution_count": 33,
   "id": "660cf20d",
   "metadata": {},
   "outputs": [
    {
     "data": {
      "text/latex": [
       "$\\displaystyle \\left[\\begin{matrix}1 & 0 & 0 & x\\\\0 & 1 & 0 & y\\\\0 & 0 & 1 & z\\\\0 & 0 & -1 & t - y\\end{matrix}\\right]$"
      ],
      "text/plain": [
       "Matrix([\n",
       "[1, 0,  0,     x],\n",
       "[0, 1,  0,     y],\n",
       "[0, 0,  1,     z],\n",
       "[0, 0, -1, t - y]])"
      ]
     },
     "execution_count": 33,
     "metadata": {},
     "output_type": "execute_result"
    }
   ],
   "source": [
    "UX[3,:]=UX[3,:]-UX[1,:]\n",
    "UX"
   ]
  },
  {
   "cell_type": "code",
   "execution_count": 34,
   "id": "0a0f68f5",
   "metadata": {},
   "outputs": [
    {
     "data": {
      "text/latex": [
       "$\\displaystyle \\left[\\begin{matrix}1 & 0 & 0 & x\\\\0 & 1 & 0 & y\\\\0 & 0 & 1 & z\\\\0 & 0 & 0 & t - y + z\\end{matrix}\\right]$"
      ],
      "text/plain": [
       "Matrix([\n",
       "[1, 0, 0,         x],\n",
       "[0, 1, 0,         y],\n",
       "[0, 0, 1,         z],\n",
       "[0, 0, 0, t - y + z]])"
      ]
     },
     "execution_count": 34,
     "metadata": {},
     "output_type": "execute_result"
    }
   ],
   "source": [
    "UX[3,:]=UX[3,:]+UX[2,:]\n",
    "UX"
   ]
  },
  {
   "attachments": {},
   "cell_type": "markdown",
   "id": "e6c812fe",
   "metadata": {},
   "source": [
    "### Ejercicio\n",
    "\n",
    "*En $\\mathfrak{M}_2(\\mathbb{R})$ se considera el subespacio $U$ que tiene ecuaciones cartesianas respecto de la base estándar*\n",
    "$$\n",
    "\\left\\{ \\begin{array}{rcl}\n",
    "x+y+t&=& 0, \\\\\n",
    "2x-y+t&=& 0.\n",
    "\\end{array} \\right.\n",
    "$$\n",
    "*Determinar una base de $U$.*"
   ]
  },
  {
   "cell_type": "code",
   "execution_count": 35,
   "id": "f26e471b",
   "metadata": {},
   "outputs": [],
   "source": [
    "A=Matrix([(1,1,0,1),(2,-1,0,1)])"
   ]
  },
  {
   "cell_type": "code",
   "execution_count": 36,
   "id": "5c6dc1a8",
   "metadata": {},
   "outputs": [
    {
     "data": {
      "text/latex": [
       "$\\displaystyle \\left[\\begin{matrix}1 & 0 & 0 & \\frac{2}{3}\\\\0 & 1 & 0 & \\frac{1}{3}\\end{matrix}\\right]$"
      ],
      "text/plain": [
       "Matrix([\n",
       "[1, 0, 0, 2/3],\n",
       "[0, 1, 0, 1/3]])"
      ]
     },
     "execution_count": 36,
     "metadata": {},
     "output_type": "execute_result"
    }
   ],
   "source": [
    "A.rref(pivots=False)"
   ]
  },
  {
   "attachments": {},
   "cell_type": "markdown",
   "id": "021f635a",
   "metadata": {},
   "source": [
    "Por lo que nuestro sistema original es equivalente a\n",
    "$$\n",
    "\\left\\{ \\begin{array}{rcl}\n",
    "x+\\frac{2}{3} t&=& 0, \\\\\n",
    "y+\\frac{1}{3}t&=& 0. \n",
    "\\end{array} \\right.\n",
    "$$"
   ]
  },
  {
   "attachments": {},
   "cell_type": "markdown",
   "id": "ed81c580",
   "metadata": {},
   "source": [
    "Tomando como parámetros $z$ y $t$, y pasando a paramétricas obtenemos que una base de $U$ es $\\{(0,0,1,0)_B, (-2/3,-1/3,0,1)_B\\}$, esto es, \n",
    "$$\n",
    "\\left\\{\\begin{pmatrix}\n",
    "-\\frac{2}{3} & -\\frac{1}{3} \\\\\n",
    "0 & 1\n",
    "\\end{pmatrix}\n",
    ",\n",
    "\\;\n",
    "\\begin{pmatrix}\n",
    "0 & 0 \\\\\n",
    "1 & 0\n",
    "\\end{pmatrix}\n",
    "\\right\\}.\n",
    "$$ "
   ]
  },
  {
   "attachments": {},
   "cell_type": "markdown",
   "id": "bca79756",
   "metadata": {},
   "source": [
    "Esto también lo podemos obtener calculando la forma reducida por filas de la traspuesta de $A$ añadiéndole la identidad. "
   ]
  },
  {
   "cell_type": "code",
   "execution_count": 38,
   "id": "710f7a84",
   "metadata": {},
   "outputs": [
    {
     "data": {
      "text/latex": [
       "$\\displaystyle \\left[\\begin{matrix}1 & 0 & 0 & \\frac{1}{2} & 0 & \\frac{1}{2}\\\\0 & 1 & 0 & - \\frac{1}{2} & 0 & \\frac{1}{2}\\\\0 & 0 & 1 & \\frac{1}{2} & 0 & - \\frac{3}{2}\\\\0 & 0 & 0 & 0 & 1 & 0\\end{matrix}\\right]$"
      ],
      "text/plain": [
       "Matrix([\n",
       "[1, 0, 0,  1/2, 0,  1/2],\n",
       "[0, 1, 0, -1/2, 0,  1/2],\n",
       "[0, 0, 1,  1/2, 0, -3/2],\n",
       "[0, 0, 0,    0, 1,    0]])"
      ]
     },
     "execution_count": 38,
     "metadata": {},
     "output_type": "execute_result"
    }
   ],
   "source": [
    "rtA=A.col_join(eye(4)).T.rref(pivots=False)\n",
    "rtA"
   ]
  },
  {
   "attachments": {},
   "cell_type": "markdown",
   "id": "d1b8cfee",
   "metadata": {},
   "source": [
    "La matriz de paso es "
   ]
  },
  {
   "cell_type": "code",
   "execution_count": 39,
   "id": "e7b052c9",
   "metadata": {},
   "outputs": [
    {
     "data": {
      "text/latex": [
       "$\\displaystyle \\left[\\begin{matrix}0 & \\frac{1}{2} & 0 & \\frac{1}{2}\\\\0 & - \\frac{1}{2} & 0 & \\frac{1}{2}\\\\1 & \\frac{1}{2} & 0 & - \\frac{3}{2}\\\\0 & 0 & 1 & 0\\end{matrix}\\right]$"
      ],
      "text/plain": [
       "Matrix([\n",
       "[0,  1/2, 0,  1/2],\n",
       "[0, -1/2, 0,  1/2],\n",
       "[1,  1/2, 0, -3/2],\n",
       "[0,    0, 1,    0]])"
      ]
     },
     "execution_count": 39,
     "metadata": {},
     "output_type": "execute_result"
    }
   ],
   "source": [
    "Q=rtA[:,2:]\n",
    "Q"
   ]
  },
  {
   "attachments": {},
   "cell_type": "markdown",
   "id": "bdbf80b4",
   "metadata": {},
   "source": [
    "Al ser las dos últimas filas de la forma reducida de `t(A)` cero, esto nos dice que las dos últimas filas de $Q$ son una base para $U$, pues son linealmente independientes y verifican las ecuaciones de $U$."
   ]
  },
  {
   "cell_type": "code",
   "execution_count": 40,
   "id": "9dfaa392",
   "metadata": {},
   "outputs": [
    {
     "data": {
      "text/latex": [
       "$\\displaystyle \\left[\\begin{matrix}1 & \\frac{1}{2} & 0 & - \\frac{3}{2}\\\\0 & 0 & 1 & 0\\end{matrix}\\right]$"
      ],
      "text/plain": [
       "Matrix([\n",
       "[1, 1/2, 0, -3/2],\n",
       "[0,   0, 1,    0]])"
      ]
     },
     "execution_count": 40,
     "metadata": {},
     "output_type": "execute_result"
    }
   ],
   "source": [
    "Q[2:4,:]"
   ]
  },
  {
   "attachments": {},
   "cell_type": "markdown",
   "id": "8a6d961e",
   "metadata": {},
   "source": [
    "Lo que nos dice que otra posible base es $\\{(0,0,1,0)_B,(1,1/2,0,-3/2)_B\\}$ (nótese que el último vector es $-2/3$ por el segundo vector que obtuvimos antes)."
   ]
  },
  {
   "attachments": {},
   "cell_type": "markdown",
   "id": "ad464e30",
   "metadata": {},
   "source": [
    "## Paso de generadores a implícitas y viceversa\n",
    "\n",
    "Vamos a escribir una función que nos permita calcular las ecuaciones implícitas de un subespacio vectorial a partir de un sistema de generadores de dicho subespacio, y viceversa. \n",
    "\n",
    "Supongamos que nuestro subespacio vectorial $U\\subseteq \\mathbb{R}^n$ está generado por $\\{v_1,\\dots,v_k\\}$. Supongamos que la dimensión de $U$ es $d$, que además coincide con el rango de la matriz $A$ cuyas columnas son $v_1,\\dots, v_k$. Supongamos que $H$ es la forma normal reducida por columnas de $A$, y que $Q$ es tal que $Q A=H$. Tenemos entonces que las últimas $n-d$ columnas de $H$ son cero. Esto quiere decir que las últimas $d-n$ filas de $Q$ cuando las multiplicamos por $A$ dan cero, o dicho de otra forma, esas últimas $d-n$ filas son los coeficientes de ecuaciones que verifican todos los generadores de $U$, y por tanto son unas ecuaciones implícitas de $U$.\n",
    "\n",
    "Si, en lugar de generadores, partimos de $k$ ecuaciones implícitas de $U$, el proceso es dual, por lo que si en $A$ almacenamos (por filas) los coeficientes de dichas ecuaciones y tomamos su transpuesta, podemos calcular nuevamente la forma normal de hermite de $A^t$, $H$, y $Q$ tal que $QA^t=H$. Si de esas $k$ ecuaciones, $d$ de ellas son independientes, entonces las últimas $n-d$ columnas de $H$ serán nulas. De esta forma las últimas $n-d$ filas de $Q$ conforman una base de $U$.\n",
    "\n",
    "Escribamos este proceso en `python`."
   ]
  },
  {
   "cell_type": "code",
   "execution_count": 41,
   "id": "f1e91a10",
   "metadata": {},
   "outputs": [],
   "source": [
    "def gensec(A):\n",
    "    \"\"\"\n",
    "    A es una matriz cuyas filas son los generadores o los coeficientes del subespacio\n",
    "    La salida son las ecuaciones implícitas o los generadores (por filas)\n",
    "    \"\"\"\n",
    "    c=A.cols # número de columnas de A\n",
    "    f=A.rows # número de filas\n",
    "    r=A.rank() # rango\n",
    "    rtAI=A.T.row_join(eye(c)).rref(pivots=False) # añadimos la identidad calculamor forma reducida por columnas\n",
    "    ecs=rtAI[r:,f:]# nos quedamos con la parte que corresponde a ceros (ecuaciones o generadores según la entrada)\n",
    "    return ecs\n"
   ]
  },
  {
   "attachments": {},
   "cell_type": "markdown",
   "id": "7f0b8f6d",
   "metadata": {},
   "source": [
    "Tenemos que tener presente al usar esta función que estamos escribiendo los generadores del subespacio por **filas** en la matriz de entrada; y si la entrada son ecuaciones, los coeficientes también van por filas."
   ]
  },
  {
   "attachments": {},
   "cell_type": "markdown",
   "id": "e1eb180e",
   "metadata": {},
   "source": [
    "Veamos su uso con los dos ejemplos de antes."
   ]
  },
  {
   "attachments": {},
   "cell_type": "markdown",
   "id": "64140140",
   "metadata": {},
   "source": [
    "### Ejemplo 1\n",
    "\n",
    "\n",
    "Sea $U=\\mathcal{L}(\\{(1,2,0,2),(1,3,1,2),(0,2,1,1),(1,2,2,0) \\})\\subseteq\\mathbb{R}^4$. Calculemos sus ecuaciones implícitas."
   ]
  },
  {
   "cell_type": "code",
   "execution_count": 42,
   "id": "88f2e8f8",
   "metadata": {},
   "outputs": [
    {
     "data": {
      "text/latex": [
       "$\\displaystyle \\left[\\begin{matrix}1 & 2 & 0 & 2\\\\1 & 3 & 1 & 2\\\\0 & 2 & 1 & 1\\\\1 & 2 & 2 & 0\\end{matrix}\\right]$"
      ],
      "text/plain": [
       "Matrix([\n",
       "[1, 2, 0, 2],\n",
       "[1, 3, 1, 2],\n",
       "[0, 2, 1, 1],\n",
       "[1, 2, 2, 0]])"
      ]
     },
     "execution_count": 42,
     "metadata": {},
     "output_type": "execute_result"
    }
   ],
   "source": [
    "A=Matrix([(1,2,0,2),(1,3,1,2),(0,2,1,1),(1,2,2,0)])\n",
    "A"
   ]
  },
  {
   "cell_type": "code",
   "execution_count": 43,
   "id": "51611044",
   "metadata": {},
   "outputs": [
    {
     "data": {
      "text/latex": [
       "$\\displaystyle \\left[\\begin{matrix}0 & 1 & -1 & -1\\end{matrix}\\right]$"
      ],
      "text/plain": [
       "Matrix([[0, 1, -1, -1]])"
      ]
     },
     "execution_count": 43,
     "metadata": {},
     "output_type": "execute_result"
    }
   ],
   "source": [
    "gensec(A)"
   ]
  },
  {
   "attachments": {},
   "cell_type": "markdown",
   "id": "e3cf3a48",
   "metadata": {},
   "source": [
    "Por lo tanto la ecuación de $U$ es $x_2-x_3-x_4=0$.\n"
   ]
  },
  {
   "attachments": {},
   "cell_type": "markdown",
   "id": "aa9df554",
   "metadata": {},
   "source": [
    "### Ejemplo 2\n",
    "\n",
    "Sea ahora el subespacio vectorial de $\\mathbb{R}^4$ con ecuaciones $x_1+x_2+x_4=0$, $2x_1-x_2+x_4=0$."
   ]
  },
  {
   "cell_type": "code",
   "execution_count": 44,
   "id": "124f3064",
   "metadata": {},
   "outputs": [
    {
     "data": {
      "text/latex": [
       "$\\displaystyle \\left[\\begin{matrix}1 & \\frac{1}{2} & 0 & - \\frac{3}{2}\\\\0 & 0 & 1 & 0\\end{matrix}\\right]$"
      ],
      "text/plain": [
       "Matrix([\n",
       "[1, 1/2, 0, -3/2],\n",
       "[0,   0, 1,    0]])"
      ]
     },
     "execution_count": 44,
     "metadata": {},
     "output_type": "execute_result"
    }
   ],
   "source": [
    "B=Matrix([[1,1,0,1],[2,-1,0,1]])\n",
    "gensec(B)"
   ]
  },
  {
   "attachments": {},
   "cell_type": "markdown",
   "id": "285bbdfa",
   "metadata": {},
   "source": [
    "Por lo que nuestro subespacio es $\\mathcal{L}(\\{(1,1/2,0,-3/2),(0,0,1,0)\\})$."
   ]
  },
  {
   "attachments": {},
   "cell_type": "markdown",
   "id": "3dc41191",
   "metadata": {},
   "source": [
    "## Suma e intersección de subespacios"
   ]
  },
  {
   "attachments": {},
   "cell_type": "markdown",
   "id": "82da900c",
   "metadata": {},
   "source": [
    "### Ejercicio\n",
    "\n",
    "*Determinar bases de la suma y la intersección de los subespacios $U=\\mathcal{L}((1,1,0,0), (0,0,1,1))$ y $W=\\mathcal{L}((1,1,1,0), (1,1,1,1))$ de $\\mathbb{R}^4$.*"
   ]
  },
  {
   "attachments": {},
   "cell_type": "markdown",
   "id": "86f3ec4c",
   "metadata": {},
   "source": [
    "Para calcular la suma, basta con calcular una base del espacio vectorial generado por la unión de los generadores de $U$ y $V$."
   ]
  },
  {
   "cell_type": "code",
   "execution_count": 45,
   "id": "f392a967",
   "metadata": {},
   "outputs": [
    {
     "data": {
      "text/latex": [
       "$\\displaystyle \\left[\\begin{matrix}1 & 1 & 0 & 0\\\\0 & 0 & 1 & 0\\\\0 & 0 & 0 & 1\\\\0 & 0 & 0 & 0\\end{matrix}\\right]$"
      ],
      "text/plain": [
       "Matrix([\n",
       "[1, 1, 0, 0],\n",
       "[0, 0, 1, 0],\n",
       "[0, 0, 0, 1],\n",
       "[0, 0, 0, 0]])"
      ]
     },
     "execution_count": 45,
     "metadata": {},
     "output_type": "execute_result"
    }
   ],
   "source": [
    "U=Matrix([[1,1,0,0],[0,0,1,1]])\n",
    "V=Matrix([[1,1,1,0],[1,1,1,1]])\n",
    "U.col_join(V).rref(pivots=False)"
   ]
  },
  {
   "attachments": {},
   "cell_type": "markdown",
   "id": "65b998ed",
   "metadata": {},
   "source": [
    "Luego la suma está generada por $\\{(1,1,0,0),(0,0,1,0),(0,0,0,1)\\}$."
   ]
  },
  {
   "attachments": {},
   "cell_type": "markdown",
   "id": "2b4ba20e",
   "metadata": {},
   "source": [
    "Para la intersección, calculamos las ecuaciones implícitas de $U$ y $V$, y luego las juntamos."
   ]
  },
  {
   "cell_type": "code",
   "execution_count": 46,
   "id": "e816be8c",
   "metadata": {},
   "outputs": [
    {
     "data": {
      "text/latex": [
       "$\\displaystyle \\left[\\begin{matrix}1 & -1 & 0 & 0\\\\0 & 0 & 1 & -1\\end{matrix}\\right]$"
      ],
      "text/plain": [
       "Matrix([\n",
       "[1, -1, 0,  0],\n",
       "[0,  0, 1, -1]])"
      ]
     },
     "execution_count": 46,
     "metadata": {},
     "output_type": "execute_result"
    }
   ],
   "source": [
    "ecU=gensec(U)\n",
    "ecU"
   ]
  },
  {
   "attachments": {},
   "cell_type": "markdown",
   "id": "164db5bf",
   "metadata": {},
   "source": [
    "Las ecuaciones de $U$ son $x-y=0$, $z-t=0$."
   ]
  },
  {
   "cell_type": "code",
   "execution_count": 47,
   "id": "c55387fa",
   "metadata": {},
   "outputs": [
    {
     "data": {
      "text/latex": [
       "$\\displaystyle \\left[\\begin{matrix}1 & 0 & -1 & 0\\\\0 & 1 & -1 & 0\\end{matrix}\\right]$"
      ],
      "text/plain": [
       "Matrix([\n",
       "[1, 0, -1, 0],\n",
       "[0, 1, -1, 0]])"
      ]
     },
     "execution_count": 47,
     "metadata": {},
     "output_type": "execute_result"
    }
   ],
   "source": [
    "ecV=gensec(V)\n",
    "ecV"
   ]
  },
  {
   "attachments": {},
   "cell_type": "markdown",
   "id": "b0af998a",
   "metadata": {},
   "source": [
    "Las de $V$ son $x-z=0$, $y-z=0$. Las de la intersección por tanto se obtienen juntando estas ecuaciones y reduciendo."
   ]
  },
  {
   "cell_type": "code",
   "execution_count": 48,
   "id": "5b71240f",
   "metadata": {},
   "outputs": [
    {
     "data": {
      "text/latex": [
       "$\\displaystyle \\left[\\begin{matrix}1 & 0 & 0 & -1\\\\0 & 1 & 0 & -1\\\\0 & 0 & 1 & -1\\end{matrix}\\right]$"
      ],
      "text/plain": [
       "Matrix([\n",
       "[1, 0, 0, -1],\n",
       "[0, 1, 0, -1],\n",
       "[0, 0, 1, -1]])"
      ]
     },
     "execution_count": 48,
     "metadata": {},
     "output_type": "execute_result"
    }
   ],
   "source": [
    "ecUiV=ecU.col_join(ecV).rref(pivots=False)\n",
    "ecUiV[:ecUiV.rank(),:]"
   ]
  },
  {
   "attachments": {},
   "cell_type": "markdown",
   "id": "a76a7844",
   "metadata": {},
   "source": [
    "Por tanto las ecuaciones de la intersección son\n",
    "$$\n",
    "\\left\\{ \\begin{array}{rcl}\n",
    "x - t &=& 0, \\\\\n",
    "y - t &=&  0, \\\\\n",
    "z - t &=& 0.\n",
    "\\end{array} \\right.\n",
    "$$"
   ]
  },
  {
   "cell_type": "code",
   "execution_count": 49,
   "id": "dfc458c8",
   "metadata": {},
   "outputs": [
    {
     "data": {
      "text/latex": [
       "$\\displaystyle \\left[\\begin{matrix}1 & 1 & 1 & 1\\end{matrix}\\right]$"
      ],
      "text/plain": [
       "Matrix([[1, 1, 1, 1]])"
      ]
     },
     "execution_count": 49,
     "metadata": {},
     "output_type": "execute_result"
    }
   ],
   "source": [
    "gensec(ecUiV)"
   ]
  },
  {
   "attachments": {},
   "cell_type": "markdown",
   "id": "595c1333",
   "metadata": {},
   "source": [
    "Teniendo así que $U\\cap V$ está generado por $(1,1,1,1)$."
   ]
  },
  {
   "attachments": {},
   "cell_type": "markdown",
   "id": "867c76e3",
   "metadata": {},
   "source": [
    "## Suma directa de subespacios"
   ]
  },
  {
   "attachments": {},
   "cell_type": "markdown",
   "id": "22eb8c77",
   "metadata": {},
   "source": [
    "### Ejercicio\n",
    "\n",
    "*Dado el subespacio $U$ de $\\mathbb{R}^4$ de ecuaciones cartesianas*\n",
    "$$\n",
    "\\left\\{ \\begin{array}{ccc}\n",
    "x+y & = & 0, \\\\\n",
    "t & = & 0.\n",
    "\\end{array} \\right.\n",
    "$$\n",
    "*Obtener un subespacio complementario de $U$.*"
   ]
  },
  {
   "cell_type": "code",
   "execution_count": 50,
   "id": "7cbbc322",
   "metadata": {},
   "outputs": [
    {
     "data": {
      "text/latex": [
       "$\\displaystyle \\left[\\begin{matrix}1 & -1 & 0 & 0\\\\0 & 0 & 1 & 0\\end{matrix}\\right]$"
      ],
      "text/plain": [
       "Matrix([\n",
       "[1, -1, 0, 0],\n",
       "[0,  0, 1, 0]])"
      ]
     },
     "execution_count": 50,
     "metadata": {},
     "output_type": "execute_result"
    }
   ],
   "source": [
    "ecU=Matrix([[1,1,0,0],[0,0,0,1]])\n",
    "U=gensec(ecU)\n",
    "U"
   ]
  },
  {
   "cell_type": "code",
   "execution_count": 51,
   "id": "62683db2",
   "metadata": {},
   "outputs": [
    {
     "data": {
      "text/plain": [
       "4"
      ]
     },
     "execution_count": 51,
     "metadata": {},
     "output_type": "execute_result"
    }
   ],
   "source": [
    "U.col_join(ecU).rank()"
   ]
  },
  {
   "attachments": {},
   "cell_type": "markdown",
   "id": "67017d10",
   "metadata": {},
   "source": [
    "Un complementario es por tanto $\\mathcal{L}(\\{(1,1,0,0),(0,0,0,1)\\})$ (los vectores cuyas coordenadas son los coeficientes de las ecuaciones de $U$)."
   ]
  },
  {
   "attachments": {},
   "cell_type": "markdown",
   "id": "66042fa4",
   "metadata": {},
   "source": [
    "### Ejercicio\n",
    "\n",
    "*Se consideran los subespacios de $\\mathcal{P}_2(\\mathbb{R})$ $U=\\mathcal{L}(1+x^2)$ y $W$ con ecuación cartesiana respecto de base estándar $x_1 + x_3= 0$. Comprobar que $\\mathcal{P}_2(\\mathbb{R})=U\\oplus W$ y descomponer el vector $1+3x+3x^2$ como suma de un vector de $U$ y uno de $W$.*"
   ]
  },
  {
   "attachments": {},
   "cell_type": "markdown",
   "id": "b20626b4",
   "metadata": {},
   "source": [
    "Respecto a la base estándar $B=\\{1,x,x^2\\}$, $U$ está generado por $(1,0,1)$. Encontremos una base para $W$."
   ]
  },
  {
   "cell_type": "code",
   "execution_count": 52,
   "id": "563e7d91",
   "metadata": {},
   "outputs": [
    {
     "data": {
      "text/latex": [
       "$\\displaystyle \\left[\\begin{matrix}1 & 0 & -1\\\\0 & 1 & 0\\end{matrix}\\right]$"
      ],
      "text/plain": [
       "Matrix([\n",
       "[1, 0, -1],\n",
       "[0, 1,  0]])"
      ]
     },
     "execution_count": 52,
     "metadata": {},
     "output_type": "execute_result"
    }
   ],
   "source": [
    "U=Matrix([[1,0,1]])\n",
    "ecW=Matrix([[1,0,1]])\n",
    "W=gensec(ecW)\n",
    "W"
   ]
  },
  {
   "attachments": {},
   "cell_type": "markdown",
   "id": "c4c11c2e",
   "metadata": {},
   "source": [
    "Como "
   ]
  },
  {
   "cell_type": "code",
   "execution_count": 53,
   "id": "d1d71c44",
   "metadata": {},
   "outputs": [
    {
     "data": {
      "text/plain": [
       "3"
      ]
     },
     "execution_count": 53,
     "metadata": {},
     "output_type": "execute_result"
    }
   ],
   "source": [
    "U.col_join(W).rank()"
   ]
  },
  {
   "attachments": {},
   "cell_type": "markdown",
   "id": "01fa906c",
   "metadata": {},
   "source": [
    "Tenemos que $U+W=\\mathcal{P}_2(\\mathbb{R})$. Además, como $U$ tiene dimensión uno y $W$ tiene dimensión dos, la intersección debe tener dimensión cero, pues $\\dim(U\\cap W) = \\dim(U) + \\dim(W) -\\dim(U+W)= 1 +2 -3 =0$. Por tanto, $\\mathcal{P}_2(\\mathbb{R})=U\\oplus W$. Esto también queda claro por el hecho de que la ecuación cartesianda de $W$ tiene como coeficientes el vector que genera a $U$."
   ]
  },
  {
   "attachments": {},
   "cell_type": "markdown",
   "id": "b22eb1c8",
   "metadata": {},
   "source": [
    "El polinomio $1+3x+3x^2$ tiene coordenadas $(1,3,3)$ respecto de la base estándar. Calculemos sus coordenadas respecto de la base formada por la unión de las bases de $U$ y $W$, $B'=\\{(1,0,1),(1,0,-1),(0,1,0)\\}$."
   ]
  },
  {
   "cell_type": "code",
   "execution_count": 54,
   "id": "6f2e183e",
   "metadata": {},
   "outputs": [
    {
     "data": {
      "text/latex": [
       "$\\displaystyle \\left[\\begin{matrix}1 & 0 & 1\\\\1 & 0 & -1\\\\0 & 1 & 0\\end{matrix}\\right]$"
      ],
      "text/plain": [
       "Matrix([\n",
       "[1, 0,  1],\n",
       "[1, 0, -1],\n",
       "[0, 1,  0]])"
      ]
     },
     "execution_count": 54,
     "metadata": {},
     "output_type": "execute_result"
    }
   ],
   "source": [
    "cb=U.col_join(W)\n",
    "cb"
   ]
  },
  {
   "cell_type": "code",
   "execution_count": 55,
   "id": "7a8c2418",
   "metadata": {},
   "outputs": [
    {
     "data": {
      "text/latex": [
       "$\\displaystyle \\left\\{\\left( 2, \\  3, \\  -1\\right)\\right\\}$"
      ],
      "text/plain": [
       "{(2, 3, -1)}"
      ]
     },
     "execution_count": 55,
     "metadata": {},
     "output_type": "execute_result"
    }
   ],
   "source": [
    "linsolve((cb,Matrix([1,3,3])))"
   ]
  },
  {
   "attachments": {},
   "cell_type": "markdown",
   "id": "686e9cb4",
   "metadata": {},
   "source": [
    "Luego $1+3x+3x^2=(2,-1,3)_{B'}=2(1+x^2)-(1-x^2)+3x$, con $2+2x^2\\in U$ y $-1+3x+x^2\\in W$."
   ]
  },
  {
   "attachments": {},
   "cell_type": "markdown",
   "id": "1babdaf2",
   "metadata": {},
   "source": [
    "## Matriz de Gram"
   ]
  },
  {
   "attachments": {},
   "cell_type": "markdown",
   "id": "e6f0bba4",
   "metadata": {},
   "source": [
    "### Ejercicio\n",
    "\n",
    "*En el espacio vectorial $\\mathcal{P}_2(\\mathbb{K})$ de los polinomios de grado menor o igual que $2$, calcular la matriz de Gram del producto escalar definido por*\n",
    "$$ \\langle p(x),q(x)\\rangle = \\int_{0}^{1} p(x)q(x)dx $$\n",
    "*respecto de la base estándar $B=\\{1,x,x^2 \\}$.*"
   ]
  },
  {
   "cell_type": "code",
   "execution_count": 56,
   "id": "a70d8460",
   "metadata": {},
   "outputs": [],
   "source": [
    "from sympy import Symbol"
   ]
  },
  {
   "cell_type": "code",
   "execution_count": 57,
   "id": "6bdd9397",
   "metadata": {},
   "outputs": [
    {
     "data": {
      "text/latex": [
       "$\\displaystyle x$"
      ],
      "text/plain": [
       "x"
      ]
     },
     "execution_count": 57,
     "metadata": {},
     "output_type": "execute_result"
    }
   ],
   "source": [
    "x=Symbol(\"x\")\n",
    "x"
   ]
  },
  {
   "cell_type": "code",
   "execution_count": 58,
   "id": "d11d5fbb",
   "metadata": {},
   "outputs": [],
   "source": [
    "B=[1,x,x**2]"
   ]
  },
  {
   "cell_type": "code",
   "execution_count": 59,
   "id": "f9272d99",
   "metadata": {},
   "outputs": [],
   "source": [
    "from sympy import integrate"
   ]
  },
  {
   "cell_type": "code",
   "execution_count": 60,
   "id": "79735372",
   "metadata": {},
   "outputs": [
    {
     "data": {
      "text/latex": [
       "$\\displaystyle \\frac{1}{2}$"
      ],
      "text/plain": [
       "1/2"
      ]
     },
     "execution_count": 60,
     "metadata": {},
     "output_type": "execute_result"
    }
   ],
   "source": [
    "integrate(B[0]*B[1],(x,0,1))"
   ]
  },
  {
   "cell_type": "code",
   "execution_count": 61,
   "id": "e1dc2ec7",
   "metadata": {
    "scrolled": true
   },
   "outputs": [
    {
     "data": {
      "text/latex": [
       "$\\displaystyle \\left[\\begin{matrix}1 & \\frac{1}{2} & \\frac{1}{3}\\\\\\frac{1}{2} & \\frac{1}{3} & \\frac{1}{4}\\\\\\frac{1}{3} & \\frac{1}{4} & \\frac{1}{5}\\end{matrix}\\right]$"
      ],
      "text/plain": [
       "Matrix([\n",
       "[  1, 1/2, 1/3],\n",
       "[1/2, 1/3, 1/4],\n",
       "[1/3, 1/4, 1/5]])"
      ]
     },
     "execution_count": 61,
     "metadata": {},
     "output_type": "execute_result"
    }
   ],
   "source": [
    "G=Matrix(3,3,lambda i,j:integrate(B[i]*B[j],(x,0,1)))\n",
    "G"
   ]
  },
  {
   "attachments": {},
   "cell_type": "markdown",
   "id": "5bf2de8f",
   "metadata": {},
   "source": [
    "### Ejercicio\n",
    "\n",
    "*Con el producto escalar anterior y los polinomios $p(x)= 1+6x-10x^2$ y $q(x)=1+2x+4x^2$, calcular*\n",
    " 1. $\\langle p(x), q(x) \\rangle$,\n",
    " 2. $|| p(x)||$, $||q(x) ||$,  \n",
    " 3. *el ángulo que determinan $p(x)$ y $q(x)$.*"
   ]
  },
  {
   "attachments": {},
   "cell_type": "markdown",
   "id": "c5d6c237",
   "metadata": {},
   "source": [
    "Podemos usar la matriz de Gram antes calculada"
   ]
  },
  {
   "cell_type": "code",
   "execution_count": 62,
   "id": "5a410445",
   "metadata": {},
   "outputs": [],
   "source": [
    "p=1+6*x-10*x**2\n",
    "q=1+2*x+4*x**2"
   ]
  },
  {
   "cell_type": "code",
   "execution_count": 63,
   "id": "b388f209",
   "metadata": {},
   "outputs": [
    {
     "data": {
      "text/latex": [
       "$\\displaystyle 0$"
      ],
      "text/plain": [
       "0"
      ]
     },
     "execution_count": 63,
     "metadata": {},
     "output_type": "execute_result"
    }
   ],
   "source": [
    "integrate(p*q,(x,0,1))"
   ]
  },
  {
   "attachments": {},
   "cell_type": "markdown",
   "id": "955c4447",
   "metadata": {},
   "source": [
    "O bien usando las coordenadas de $p(x)$ y $q(x)$ en la base estándar."
   ]
  },
  {
   "cell_type": "code",
   "execution_count": 64,
   "id": "8bb0dd9f",
   "metadata": {},
   "outputs": [
    {
     "data": {
      "text/latex": [
       "$\\displaystyle \\left[\\begin{matrix}0\\end{matrix}\\right]$"
      ],
      "text/plain": [
       "Matrix([[0]])"
      ]
     },
     "execution_count": 64,
     "metadata": {},
     "output_type": "execute_result"
    }
   ],
   "source": [
    "Matrix([[1,6,-10]])*G*Matrix([1,2,4])"
   ]
  },
  {
   "attachments": {},
   "cell_type": "markdown",
   "id": "2f9563ec",
   "metadata": {},
   "source": [
    "En particular esto implica que son ortogonales (el ángulo que forman es $\\pi/2$)."
   ]
  },
  {
   "attachments": {},
   "cell_type": "markdown",
   "id": "9e595f4c",
   "metadata": {},
   "source": [
    "En cuanto a las normas"
   ]
  },
  {
   "cell_type": "code",
   "execution_count": 65,
   "id": "328f1f64",
   "metadata": {},
   "outputs": [],
   "source": [
    "from sympy import sqrt"
   ]
  },
  {
   "cell_type": "code",
   "execution_count": 67,
   "id": "60716b75",
   "metadata": {},
   "outputs": [
    {
     "data": {
      "text/latex": [
       "$\\displaystyle \\left[\\begin{matrix}\\frac{7}{3}\\end{matrix}\\right]$"
      ],
      "text/plain": [
       "Matrix([[7/3]])"
      ]
     },
     "execution_count": 67,
     "metadata": {},
     "output_type": "execute_result"
    }
   ],
   "source": [
    "Matrix([[1,6,-10]])*G*Matrix([1,6,-10])"
   ]
  },
  {
   "cell_type": "code",
   "execution_count": 68,
   "id": "c4f2c71c",
   "metadata": {},
   "outputs": [
    {
     "data": {
      "text/latex": [
       "$\\displaystyle \\frac{\\sqrt{21}}{3}$"
      ],
      "text/plain": [
       "sqrt(21)/3"
      ]
     },
     "execution_count": 68,
     "metadata": {},
     "output_type": "execute_result"
    }
   ],
   "source": [
    "sqrt(_[0])"
   ]
  },
  {
   "cell_type": "code",
   "execution_count": 71,
   "id": "c0ce4b98",
   "metadata": {},
   "outputs": [],
   "source": [
    "from sympy import simplify"
   ]
  },
  {
   "cell_type": "code",
   "execution_count": 72,
   "id": "ef1cb5d1",
   "metadata": {},
   "outputs": [
    {
     "data": {
      "text/latex": [
       "$\\displaystyle \\frac{\\sqrt{355}}{5}$"
      ],
      "text/plain": [
       "sqrt(355)/5"
      ]
     },
     "execution_count": 72,
     "metadata": {},
     "output_type": "execute_result"
    }
   ],
   "source": [
    "simplify(sqrt(integrate(q**2,(x,0,1))))"
   ]
  },
  {
   "attachments": {},
   "cell_type": "markdown",
   "id": "3c9eb727",
   "metadata": {},
   "source": [
    "## Cálculo de una base ortogonal usando el método de Gram-Schmidt"
   ]
  },
  {
   "attachments": {},
   "cell_type": "markdown",
   "id": "5104c827",
   "metadata": {},
   "source": [
    "### Ejercicio\n",
    "\n",
    "*En $\\mathbb{R}^3$ con el producto escalar usual, calcular una base ortogonal a partir de los vectores $\\{u_1=(1,1,-1), u_2=(1,-1,1),u_3=(-1,1,1) \\}$.*"
   ]
  },
  {
   "attachments": {},
   "cell_type": "markdown",
   "id": "72d088fb",
   "metadata": {},
   "source": [
    "`GramSchmidt` ortogonaliza."
   ]
  },
  {
   "cell_type": "code",
   "execution_count": 82,
   "id": "f1d61d67",
   "metadata": {},
   "outputs": [],
   "source": [
    "from sympy import GramSchmidt"
   ]
  },
  {
   "attachments": {},
   "cell_type": "markdown",
   "id": "e605788e",
   "metadata": {},
   "source": [
    "Pero no admite matrices como argumentos, sino listas de vectores (matrices con una sola columna)."
   ]
  },
  {
   "cell_type": "code",
   "execution_count": 83,
   "id": "d38c008c",
   "metadata": {},
   "outputs": [
    {
     "data": {
      "text/plain": [
       "[[1, 0, 1]]"
      ]
     },
     "execution_count": 83,
     "metadata": {},
     "output_type": "execute_result"
    }
   ],
   "source": [
    "U.tolist()"
   ]
  },
  {
   "cell_type": "code",
   "execution_count": 84,
   "id": "2919265f",
   "metadata": {
    "scrolled": true
   },
   "outputs": [
    {
     "data": {
      "text/plain": [
       "[Matrix([\n",
       " [ 1],\n",
       " [ 1],\n",
       " [-1]]),\n",
       " Matrix([\n",
       " [ 1],\n",
       " [-1],\n",
       " [ 1]]),\n",
       " Matrix([\n",
       " [-1],\n",
       " [ 1],\n",
       " [ 1]])]"
      ]
     },
     "execution_count": 84,
     "metadata": {},
     "output_type": "execute_result"
    }
   ],
   "source": [
    "B=[Matrix([1,1,-1]),Matrix([1,-1,1]),Matrix([-1,1,1])]\n",
    "B"
   ]
  },
  {
   "cell_type": "code",
   "execution_count": 85,
   "id": "54090d58",
   "metadata": {
    "scrolled": true
   },
   "outputs": [
    {
     "name": "stdout",
     "output_type": "stream",
     "text": [
      "[[1, 1, -1]]\n",
      "[[4/3, -2/3, 2/3]]\n",
      "[[0, 1, 1]]\n"
     ]
    }
   ],
   "source": [
    "gmB=GramSchmidt(B)\n",
    "gmB\n",
    "for v in gmB:\n",
    "    print(v.T.tolist())"
   ]
  },
  {
   "attachments": {},
   "cell_type": "markdown",
   "id": "f690168c",
   "metadata": {},
   "source": [
    "Veamos que efectivamente es una base ortogonal."
   ]
  },
  {
   "cell_type": "code",
   "execution_count": 86,
   "id": "7d54cb9b",
   "metadata": {},
   "outputs": [
    {
     "data": {
      "text/latex": [
       "$\\displaystyle \\left[\\begin{matrix}3 & 0 & 0\\\\0 & \\frac{8}{3} & 0\\\\0 & 0 & 2\\end{matrix}\\right]$"
      ],
      "text/plain": [
       "Matrix([\n",
       "[3,   0, 0],\n",
       "[0, 8/3, 0],\n",
       "[0,   0, 2]])"
      ]
     },
     "execution_count": 86,
     "metadata": {},
     "output_type": "execute_result"
    }
   ],
   "source": [
    "Matrix(3,3,lambda i,j: gmB[i].dot(gmB[j]))"
   ]
  },
  {
   "attachments": {},
   "cell_type": "markdown",
   "id": "abd22a5d",
   "metadata": {},
   "source": [
    "Si queremos ortonormalizar, debememos pasar el argumento `True` a `GramSchmidt`."
   ]
  },
  {
   "cell_type": "code",
   "execution_count": 87,
   "id": "28b5e035",
   "metadata": {
    "scrolled": true
   },
   "outputs": [
    {
     "name": "stdout",
     "output_type": "stream",
     "text": [
      "[[sqrt(3)/3, sqrt(3)/3, -sqrt(3)/3]]\n",
      "[[sqrt(6)/3, -sqrt(6)/6, sqrt(6)/6]]\n",
      "[[0, sqrt(2)/2, sqrt(2)/2]]\n"
     ]
    }
   ],
   "source": [
    "for v in GramSchmidt(B,True):\n",
    "    print(v.T.tolist())"
   ]
  },
  {
   "cell_type": "code",
   "execution_count": 88,
   "id": "372a2534",
   "metadata": {
    "scrolled": true
   },
   "outputs": [
    {
     "data": {
      "text/plain": [
       "[Matrix([\n",
       " [ sqrt(3)/3],\n",
       " [ sqrt(3)/3],\n",
       " [-sqrt(3)/3]]),\n",
       " Matrix([\n",
       " [ sqrt(6)/3],\n",
       " [-sqrt(6)/6],\n",
       " [ sqrt(6)/6]]),\n",
       " Matrix([\n",
       " [        0],\n",
       " [sqrt(2)/2],\n",
       " [sqrt(2)/2]])]"
      ]
     },
     "execution_count": 88,
     "metadata": {},
     "output_type": "execute_result"
    }
   ],
   "source": [
    "gmB=GramSchmidt(B,True)\n",
    "gmB"
   ]
  },
  {
   "cell_type": "code",
   "execution_count": 89,
   "id": "2bfc5ebc",
   "metadata": {},
   "outputs": [
    {
     "data": {
      "text/latex": [
       "$\\displaystyle \\left[\\begin{matrix}\\frac{\\sqrt{3}}{3} & \\frac{\\sqrt{6}}{3} & 0\\\\\\frac{\\sqrt{3}}{3} & - \\frac{\\sqrt{6}}{6} & \\frac{\\sqrt{2}}{2}\\\\- \\frac{\\sqrt{3}}{3} & \\frac{\\sqrt{6}}{6} & \\frac{\\sqrt{2}}{2}\\end{matrix}\\right]$"
      ],
      "text/plain": [
       "Matrix([\n",
       "[ sqrt(3)/3,  sqrt(6)/3,         0],\n",
       "[ sqrt(3)/3, -sqrt(6)/6, sqrt(2)/2],\n",
       "[-sqrt(3)/3,  sqrt(6)/6, sqrt(2)/2]])"
      ]
     },
     "execution_count": 89,
     "metadata": {},
     "output_type": "execute_result"
    }
   ],
   "source": [
    "Uo=Matrix(3,3,[0]*9)\n",
    "for i in range(3):\n",
    "    Uo[:,i]=gmB[i]\n",
    "Uo"
   ]
  },
  {
   "cell_type": "code",
   "execution_count": 90,
   "id": "0b4c6bdf",
   "metadata": {},
   "outputs": [
    {
     "data": {
      "text/latex": [
       "$\\displaystyle \\left[\\begin{matrix}1 & 0 & 0\\\\0 & 1 & 0\\\\0 & 0 & 1\\end{matrix}\\right]$"
      ],
      "text/plain": [
       "Matrix([\n",
       "[1, 0, 0],\n",
       "[0, 1, 0],\n",
       "[0, 0, 1]])"
      ]
     },
     "execution_count": 90,
     "metadata": {},
     "output_type": "execute_result"
    }
   ],
   "source": [
    "Uo*Uo.T"
   ]
  },
  {
   "attachments": {},
   "cell_type": "markdown",
   "id": "39460569",
   "metadata": {},
   "source": [
    "### Ejercicio\n",
    "\n",
    "*En $\\mathbb{R}^3$ se considera el producto escalar que, con respecto de la base canónica, viene dado por la matriz de Gram*\n",
    "\n",
    "$$ G=\\begin{pmatrix}\n",
    "2 & 1 & 1 \\\\\n",
    "1 & 2 & 1 \\\\\n",
    "1 & 1 & 2\n",
    "\\end{pmatrix}.\n",
    "$$\n",
    "\n",
    "*Calcular una base ortogonal a partir de los vectores $\\{(1,-1,0),(0,1,1),(0,0,1)\\}$.*"
   ]
  },
  {
   "cell_type": "code",
   "execution_count": 91,
   "id": "33884d0e",
   "metadata": {},
   "outputs": [],
   "source": [
    "G=Matrix([(2,1,1),(1,2,1),(1,1,2)])\n",
    "U=[Matrix([1,-1,0]),Matrix([0,1,1]),Matrix([0,0,1])]"
   ]
  },
  {
   "attachments": {},
   "cell_type": "markdown",
   "id": "1bae1f1e",
   "metadata": {},
   "source": [
    "Definimos nuestra función que implementa el proceso de Gram-Schmidt."
   ]
  },
  {
   "cell_type": "code",
   "execution_count": 92,
   "id": "cea106f4",
   "metadata": {},
   "outputs": [],
   "source": [
    "def gmm(U,G):\n",
    "    n=U[0].rows\n",
    "    m=len(U)\n",
    "    E=Matrix(n,m,[0]*n*m)\n",
    "    E[:,0]=U[0]\n",
    "    for j in range(1,m):\n",
    "        lmbd=[0]*j\n",
    "        for i in range(j):\n",
    "            lmbd[i]=-(U[j].T*G*E[:,i])[0]/(E[:,i].T*G*E[:,i])[0]\n",
    "        E[:,j]=U[j]+E[:,:j]*Matrix(lmbd)\n",
    "    return E"
   ]
  },
  {
   "cell_type": "code",
   "execution_count": 93,
   "id": "ab08ac41",
   "metadata": {},
   "outputs": [
    {
     "data": {
      "text/latex": [
       "$\\displaystyle \\left[\\begin{matrix}1 & \\frac{1}{2} & - \\frac{3}{11}\\\\-1 & \\frac{1}{2} & - \\frac{3}{11}\\\\0 & 1 & \\frac{5}{11}\\end{matrix}\\right]$"
      ],
      "text/plain": [
       "Matrix([\n",
       "[ 1, 1/2, -3/11],\n",
       "[-1, 1/2, -3/11],\n",
       "[ 0,   1,  5/11]])"
      ]
     },
     "execution_count": 93,
     "metadata": {},
     "output_type": "execute_result"
    }
   ],
   "source": [
    "gmm(U,G)"
   ]
  },
  {
   "attachments": {},
   "cell_type": "markdown",
   "id": "15ac218d",
   "metadata": {},
   "source": [
    "## Complemento ortogonal, proyecciones"
   ]
  },
  {
   "attachments": {},
   "cell_type": "markdown",
   "id": "c037d64b",
   "metadata": {},
   "source": [
    "### Ejercicio\n",
    "\n",
    "*Se considera en $\\mathbb{R}^3$ el producto escalar cuya matriz de Gram respecto de la base canónica es* \n",
    "\n",
    "$$\\begin{pmatrix}1& 0 & 0\\\\ 0& 1 & 1 \\\\ 0 &1 & 2\\end{pmatrix}.$$ \n",
    "\n",
    "*Para el subespacio $U: x+y=0$, determinar una base de $U^{\\perp}$.*"
   ]
  },
  {
   "attachments": {},
   "cell_type": "markdown",
   "id": "04ddf66c",
   "metadata": {},
   "source": [
    "Empezamos calculando una base para $U$ a partir de sus ecuaciones."
   ]
  },
  {
   "cell_type": "code",
   "execution_count": 94,
   "id": "f0e1b5a7",
   "metadata": {},
   "outputs": [
    {
     "data": {
      "text/latex": [
       "$\\displaystyle \\left[\\begin{matrix}1 & -1 & 0\\\\0 & 0 & 1\\end{matrix}\\right]$"
      ],
      "text/plain": [
       "Matrix([\n",
       "[1, -1, 0],\n",
       "[0,  0, 1]])"
      ]
     },
     "execution_count": 94,
     "metadata": {},
     "output_type": "execute_result"
    }
   ],
   "source": [
    "ecU=Matrix([[1,1,0]])\n",
    "U=gensec(ecU)\n",
    "U"
   ]
  },
  {
   "attachments": {},
   "cell_type": "markdown",
   "id": "dc9ac3cb",
   "metadata": {},
   "source": [
    "Llamamos $P$ a la matriz de Gram del producto escalar."
   ]
  },
  {
   "cell_type": "code",
   "execution_count": 95,
   "id": "077bb688",
   "metadata": {},
   "outputs": [
    {
     "data": {
      "text/latex": [
       "$\\displaystyle \\left[\\begin{matrix}1 & 0 & 0\\\\0 & 1 & 1\\\\0 & 1 & 2\\end{matrix}\\right]$"
      ],
      "text/plain": [
       "Matrix([\n",
       "[1, 0, 0],\n",
       "[0, 1, 1],\n",
       "[0, 1, 2]])"
      ]
     },
     "execution_count": 95,
     "metadata": {},
     "output_type": "execute_result"
    }
   ],
   "source": [
    "P=Matrix([(1,0,0),(0,1,1),(0,1,2)])\n",
    "P"
   ]
  },
  {
   "attachments": {},
   "cell_type": "markdown",
   "id": "e3a87319",
   "metadata": {},
   "source": [
    "El espacio ortogonal a $U$ tendrá de ecuaciones $(-1,1,0)P(x,y,z)^t=0$, $(0,0,1)P(x,y,z)^t=0$."
   ]
  },
  {
   "cell_type": "code",
   "execution_count": 96,
   "id": "b8b9a2a9",
   "metadata": {},
   "outputs": [],
   "source": [
    "from sympy import symbols"
   ]
  },
  {
   "cell_type": "code",
   "execution_count": 97,
   "id": "f603ffea",
   "metadata": {},
   "outputs": [],
   "source": [
    "x,y,z=symbols(\"x,y,z\")"
   ]
  },
  {
   "cell_type": "code",
   "execution_count": 98,
   "id": "579a962f",
   "metadata": {},
   "outputs": [
    {
     "data": {
      "text/latex": [
       "$\\displaystyle \\left[\\begin{matrix}x - y - z\\\\y + 2 z\\end{matrix}\\right]$"
      ],
      "text/plain": [
       "Matrix([\n",
       "[x - y - z],\n",
       "[  y + 2*z]])"
      ]
     },
     "execution_count": 98,
     "metadata": {},
     "output_type": "execute_result"
    }
   ],
   "source": [
    "U*P*Matrix([x,y,z])"
   ]
  },
  {
   "attachments": {},
   "cell_type": "markdown",
   "id": "8968aa1b",
   "metadata": {},
   "source": [
    "Los coeficientes de esas ecuaciones son"
   ]
  },
  {
   "cell_type": "code",
   "execution_count": 99,
   "id": "4b0b0b4c",
   "metadata": {},
   "outputs": [
    {
     "data": {
      "text/latex": [
       "$\\displaystyle \\left[\\begin{matrix}1 & -1 & -1\\\\0 & 1 & 2\\end{matrix}\\right]$"
      ],
      "text/plain": [
       "Matrix([\n",
       "[1, -1, -1],\n",
       "[0,  1,  2]])"
      ]
     },
     "execution_count": 99,
     "metadata": {},
     "output_type": "execute_result"
    }
   ],
   "source": [
    "ecUo=U*P\n",
    "ecUo"
   ]
  },
  {
   "cell_type": "code",
   "execution_count": 100,
   "id": "1225f4f4",
   "metadata": {},
   "outputs": [
    {
     "data": {
      "text/latex": [
       "$\\displaystyle \\left[\\begin{matrix}1 & 2 & -1\\end{matrix}\\right]$"
      ],
      "text/plain": [
       "Matrix([[1, 2, -1]])"
      ]
     },
     "execution_count": 100,
     "metadata": {},
     "output_type": "execute_result"
    }
   ],
   "source": [
    "gensec(ecUo)"
   ]
  },
  {
   "attachments": {},
   "cell_type": "markdown",
   "id": "25ba8abd",
   "metadata": {},
   "source": [
    "Por lo que una base para $U^\\perp$ es $\\{(1,2,-1)\\}$."
   ]
  },
  {
   "cell_type": "code",
   "execution_count": 101,
   "id": "78b82c28",
   "metadata": {},
   "outputs": [
    {
     "data": {
      "text/latex": [
       "$\\displaystyle \\left\\{\\left( - \\tau_{0}, \\  - 2 \\tau_{0}, \\  \\tau_{0}\\right)\\right\\}$"
      ],
      "text/plain": [
       "{(-tau0, -2*tau0, tau0)}"
      ]
     },
     "execution_count": 101,
     "metadata": {},
     "output_type": "execute_result"
    }
   ],
   "source": [
    "linsolve((ecUo,Matrix([0,0])))"
   ]
  },
  {
   "attachments": {},
   "cell_type": "markdown",
   "id": "50708836",
   "metadata": {},
   "source": [
    "### Ejercicio\n",
    "\n",
    "*Se considera en $\\mathbb{R}^3$ el producto escalar cuya matriz de Gram respecto de la base canónica es*\n",
    "\n",
    "$$\\begin{pmatrix}1& 0 & 0\\\\ 0& 1 & 1 \\\\ 0 &1 & 2\\end{pmatrix}.$$ \n",
    "\n",
    "*Determinar la proyección del vector $(1,2,1)$ sobre el  subespacio $U: x+y=0$.*"
   ]
  },
  {
   "attachments": {},
   "cell_type": "markdown",
   "id": "76b80bf2",
   "metadata": {},
   "source": [
    "Sabemos que una base para $U$ es $\\{(-1,1,0),(0,0,1)\\}$ y una para $U^\\perp$ es $\\{(1,2,-1)\\}$. Por tanto, su unión es una base de $\\mathbb{R}^3$. Escribamos $(1,2,1)$ en función de esa base."
   ]
  },
  {
   "cell_type": "code",
   "execution_count": 102,
   "id": "2205e687",
   "metadata": {},
   "outputs": [
    {
     "data": {
      "text/latex": [
       "$\\displaystyle \\left[\\begin{matrix}-1 & 0 & 1\\\\1 & 0 & 2\\\\0 & 1 & -1\\end{matrix}\\right]$"
      ],
      "text/plain": [
       "Matrix([\n",
       "[-1, 0,  1],\n",
       "[ 1, 0,  2],\n",
       "[ 0, 1, -1]])"
      ]
     },
     "execution_count": 102,
     "metadata": {},
     "output_type": "execute_result"
    }
   ],
   "source": [
    "B=Matrix([(-1,1,0),(0,0,1),(1,2,-1)]).T\n",
    "B"
   ]
  },
  {
   "cell_type": "code",
   "execution_count": 103,
   "id": "1e00f5a5",
   "metadata": {},
   "outputs": [],
   "source": [
    "v=Matrix([1,2,1])"
   ]
  },
  {
   "cell_type": "code",
   "execution_count": 104,
   "id": "ff1dce27",
   "metadata": {
    "scrolled": true
   },
   "outputs": [
    {
     "data": {
      "text/latex": [
       "$\\displaystyle \\left\\{\\left( 0, \\  2, \\  1\\right)\\right\\}$"
      ],
      "text/plain": [
       "{(0, 2, 1)}"
      ]
     },
     "execution_count": 104,
     "metadata": {},
     "output_type": "execute_result"
    }
   ],
   "source": [
    "linsolve((B,v))"
   ]
  },
  {
   "attachments": {},
   "cell_type": "markdown",
   "id": "f1a0976d",
   "metadata": {},
   "source": [
    "Por lo que $(1,2,1)=2(0,0,1)+(1,2,-1)$, y de esta forma la proyección de $(1,2,1)$ en $U$ es $(0,0,2)$."
   ]
  },
  {
   "attachments": {},
   "cell_type": "markdown",
   "id": "9891ed8a",
   "metadata": {},
   "source": [
    "Una forma alternativa es usar los coeficientes de Fourier respecto a una base ortogonal. Como la $(1,2,1)$ es la suma de las proyecciones de ese vector en $U$ y $U^\\perp$, basta calcular la proyección en $U^\\perp$ y luego restarle a $(1,2,1)$ lo que obtengamos.\n",
    "\n",
    "El coeficiente de Fourier respecto a $(1,2,-1)$ es "
   ]
  },
  {
   "cell_type": "code",
   "execution_count": 105,
   "id": "8a9bd275",
   "metadata": {},
   "outputs": [
    {
     "data": {
      "text/latex": [
       "$\\displaystyle 1$"
      ],
      "text/plain": [
       "1"
      ]
     },
     "execution_count": 105,
     "metadata": {},
     "output_type": "execute_result"
    }
   ],
   "source": [
    "(v.T*P*Matrix([1,2,-1]))[0]/(Matrix([1,2,-1]).T*P*Matrix([1,2,-1]))[0]"
   ]
  },
  {
   "attachments": {},
   "cell_type": "markdown",
   "id": "b638e657",
   "metadata": {},
   "source": [
    "Así la proyección en $U$ se calcula como"
   ]
  },
  {
   "cell_type": "code",
   "execution_count": 106,
   "id": "276f5990",
   "metadata": {},
   "outputs": [
    {
     "data": {
      "text/latex": [
       "$\\displaystyle \\left[\\begin{matrix}0\\\\0\\\\2\\end{matrix}\\right]$"
      ],
      "text/plain": [
       "Matrix([\n",
       "[0],\n",
       "[0],\n",
       "[2]])"
      ]
     },
     "execution_count": 106,
     "metadata": {},
     "output_type": "execute_result"
    }
   ],
   "source": [
    "v-Matrix([1,2,-1])"
   ]
  }
 ],
 "metadata": {
  "kernelspec": {
   "display_name": "Python 3 (ipykernel)",
   "language": "python",
   "name": "python3"
  },
  "language_info": {
   "codemirror_mode": {
    "name": "ipython",
    "version": 3
   },
   "file_extension": ".py",
   "mimetype": "text/x-python",
   "name": "python",
   "nbconvert_exporter": "python",
   "pygments_lexer": "ipython3",
   "version": "3.9.13"
  }
 },
 "nbformat": 4,
 "nbformat_minor": 5
}
