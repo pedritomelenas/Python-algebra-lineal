{
 "cells": [
  {
   "cell_type": "markdown",
   "id": "16d938ca",
   "metadata": {},
   "source": [
    "# Diagonalización de matrices simétricas por semejanza ortogonal"
   ]
  },
  {
   "cell_type": "markdown",
   "id": "d142f2bf",
   "metadata": {},
   "source": [
    "Para ilustrar cómo diagonalizar matrices simétricas por semejanza ortogonal, vamos a usar el Ejemplo 9 (Capítulo IV) de [L. Merino, E. Santos [Álgebra Lineal con Métodos Elementales](https://www.amazon.es/%C3%81lgebra-lineal-m%C3%A9todos-elementales-GONZALEZ/dp/8497324811)]. \n",
    "\n",
    "## Ejemplo\n",
    "\n",
    "*Encuentra una matriz ortogonal $P$ tal que $P^tAP$ sea diagonal, con*\n",
    "$$\n",
    "A=\\begin{pmatrix}3 & 1 & 1\\\\\n",
    "1 & 3 & 1\\\\\n",
    "1 & 1 & 3\n",
    "\\end{pmatrix}.\n",
    "$$\n"
   ]
  },
  {
   "cell_type": "code",
   "execution_count": 1,
   "id": "f6edf9a4",
   "metadata": {},
   "outputs": [],
   "source": [
    "from sympy import Matrix,eye,GramSchmidt"
   ]
  },
  {
   "cell_type": "code",
   "execution_count": 2,
   "id": "76006067",
   "metadata": {},
   "outputs": [
    {
     "data": {
      "text/latex": [
       "$\\displaystyle \\left[\\begin{matrix}3 & 1 & 1\\\\1 & 3 & 1\\\\1 & 1 & 3\\end{matrix}\\right]$"
      ],
      "text/plain": [
       "Matrix([\n",
       "[3, 1, 1],\n",
       "[1, 3, 1],\n",
       "[1, 1, 3]])"
      ]
     },
     "execution_count": 2,
     "metadata": {},
     "output_type": "execute_result"
    }
   ],
   "source": [
    "A=Matrix([(3,1,1),(1,3,1),(1,1,3)])\n",
    "A"
   ]
  },
  {
   "cell_type": "markdown",
   "id": "587e3cbc",
   "metadata": {},
   "source": [
    "Vamos a calcular los autovalores y los subespacios propios asociados."
   ]
  },
  {
   "cell_type": "code",
   "execution_count": 3,
   "id": "0176c345",
   "metadata": {
    "scrolled": true
   },
   "outputs": [
    {
     "data": {
      "text/plain": [
       "[2, 2, 5]"
      ]
     },
     "execution_count": 3,
     "metadata": {},
     "output_type": "execute_result"
    }
   ],
   "source": [
    "A.charpoly().all_roots()"
   ]
  },
  {
   "cell_type": "code",
   "execution_count": 4,
   "id": "a0153178",
   "metadata": {},
   "outputs": [
    {
     "data": {
      "text/plain": [
       "[Matrix([\n",
       " [-1],\n",
       " [ 1],\n",
       " [ 0]]),\n",
       " Matrix([\n",
       " [-1],\n",
       " [ 0],\n",
       " [ 1]])]"
      ]
     },
     "execution_count": 4,
     "metadata": {},
     "output_type": "execute_result"
    }
   ],
   "source": [
    "V2=(A-2*eye(3)).nullspace()\n",
    "V2"
   ]
  },
  {
   "cell_type": "markdown",
   "id": "3c30f77e",
   "metadata": {},
   "source": [
    "Usamos `GramSchmidt` para calcular una base ortonormal de `V2`."
   ]
  },
  {
   "cell_type": "code",
   "execution_count": 5,
   "id": "d7d47e57",
   "metadata": {},
   "outputs": [
    {
     "data": {
      "text/plain": [
       "[Matrix([\n",
       " [-sqrt(2)/2],\n",
       " [ sqrt(2)/2],\n",
       " [         0]]),\n",
       " Matrix([\n",
       " [-sqrt(6)/6],\n",
       " [-sqrt(6)/6],\n",
       " [ sqrt(6)/3]])]"
      ]
     },
     "execution_count": 5,
     "metadata": {},
     "output_type": "execute_result"
    }
   ],
   "source": [
    "V2o=GramSchmidt(V2,True)\n",
    "V2o"
   ]
  },
  {
   "cell_type": "markdown",
   "id": "6b3077c5",
   "metadata": {},
   "source": [
    "Ahora procedemos con el valor propio 5."
   ]
  },
  {
   "cell_type": "code",
   "execution_count": 6,
   "id": "c85c2252",
   "metadata": {},
   "outputs": [
    {
     "data": {
      "text/plain": [
       "[Matrix([\n",
       " [sqrt(3)/3],\n",
       " [sqrt(3)/3],\n",
       " [sqrt(3)/3]])]"
      ]
     },
     "execution_count": 6,
     "metadata": {},
     "output_type": "execute_result"
    }
   ],
   "source": [
    "V5=(A-5*eye(3)).nullspace()\n",
    "V5o=GramSchmidt(V5,True)\n",
    "V5o"
   ]
  },
  {
   "cell_type": "markdown",
   "id": "2a2e5062",
   "metadata": {},
   "source": [
    "Juntamos las bases y creamos la matrix de paso `P`."
   ]
  },
  {
   "cell_type": "code",
   "execution_count": 7,
   "id": "215e9bb7",
   "metadata": {},
   "outputs": [
    {
     "data": {
      "text/latex": [
       "$\\displaystyle \\left[\\begin{matrix}- \\frac{\\sqrt{2}}{2} & - \\frac{\\sqrt{6}}{6} & \\frac{\\sqrt{3}}{3}\\\\\\frac{\\sqrt{2}}{2} & - \\frac{\\sqrt{6}}{6} & \\frac{\\sqrt{3}}{3}\\\\0 & \\frac{\\sqrt{6}}{3} & \\frac{\\sqrt{3}}{3}\\end{matrix}\\right]$"
      ],
      "text/plain": [
       "Matrix([\n",
       "[-sqrt(2)/2, -sqrt(6)/6, sqrt(3)/3],\n",
       "[ sqrt(2)/2, -sqrt(6)/6, sqrt(3)/3],\n",
       "[         0,  sqrt(6)/3, sqrt(3)/3]])"
      ]
     },
     "execution_count": 7,
     "metadata": {},
     "output_type": "execute_result"
    }
   ],
   "source": [
    "P=Matrix.hstack(*(V2o+V5o))\n",
    "P"
   ]
  },
  {
   "cell_type": "code",
   "execution_count": 8,
   "id": "a156ef99",
   "metadata": {},
   "outputs": [
    {
     "data": {
      "text/latex": [
       "$\\displaystyle \\left[\\begin{matrix}2 & 0 & 0\\\\0 & 2 & 0\\\\0 & 0 & 5\\end{matrix}\\right]$"
      ],
      "text/plain": [
       "Matrix([\n",
       "[2, 0, 0],\n",
       "[0, 2, 0],\n",
       "[0, 0, 5]])"
      ]
     },
     "execution_count": 8,
     "metadata": {},
     "output_type": "execute_result"
    }
   ],
   "source": [
    "P.T*A*P"
   ]
  }
 ],
 "metadata": {
  "kernelspec": {
   "display_name": "Python 3 (ipykernel)",
   "language": "python",
   "name": "python3"
  },
  "language_info": {
   "codemirror_mode": {
    "name": "ipython",
    "version": 3
   },
   "file_extension": ".py",
   "mimetype": "text/x-python",
   "name": "python",
   "nbconvert_exporter": "python",
   "pygments_lexer": "ipython3",
   "version": "3.11.0"
  }
 },
 "nbformat": 4,
 "nbformat_minor": 5
}
